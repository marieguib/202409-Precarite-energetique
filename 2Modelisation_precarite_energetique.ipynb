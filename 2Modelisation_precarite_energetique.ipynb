{
 "cells": [
  {
   "cell_type": "markdown",
   "metadata": {},
   "source": [
    "# I. Modélisation statistique"
   ]
  },
  {
   "cell_type": "code",
   "execution_count": 1,
   "metadata": {},
   "outputs": [
    {
     "name": "stdout",
     "output_type": "stream",
     "text": [
      "Requirement already satisfied: s3fs in c:\\users\\asus\\anaconda3\\lib\\site-packages (2023.4.0)\n",
      "Requirement already satisfied: aiobotocore~=2.5.0 in c:\\users\\asus\\anaconda3\\lib\\site-packages (from s3fs) (2.5.0)\n",
      "Requirement already satisfied: fsspec==2023.4.0 in c:\\users\\asus\\anaconda3\\lib\\site-packages (from s3fs) (2023.4.0)\n",
      "Requirement already satisfied: aiohttp!=4.0.0a0,!=4.0.0a1 in c:\\users\\asus\\anaconda3\\lib\\site-packages (from s3fs) (3.8.5)\n",
      "Requirement already satisfied: botocore<1.29.77,>=1.29.76 in c:\\users\\asus\\anaconda3\\lib\\site-packages (from aiobotocore~=2.5.0->s3fs) (1.29.76)\n",
      "Requirement already satisfied: wrapt>=1.10.10 in c:\\users\\asus\\anaconda3\\lib\\site-packages (from aiobotocore~=2.5.0->s3fs) (1.14.1)\n",
      "Requirement already satisfied: aioitertools>=0.5.1 in c:\\users\\asus\\anaconda3\\lib\\site-packages (from aiobotocore~=2.5.0->s3fs) (0.7.1)\n",
      "Requirement already satisfied: attrs>=17.3.0 in c:\\users\\asus\\anaconda3\\lib\\site-packages (from aiohttp!=4.0.0a0,!=4.0.0a1->s3fs) (22.1.0)\n",
      "Requirement already satisfied: charset-normalizer<4.0,>=2.0 in c:\\users\\asus\\anaconda3\\lib\\site-packages (from aiohttp!=4.0.0a0,!=4.0.0a1->s3fs) (2.0.4)\n",
      "Requirement already satisfied: multidict<7.0,>=4.5 in c:\\users\\asus\\anaconda3\\lib\\site-packages (from aiohttp!=4.0.0a0,!=4.0.0a1->s3fs) (6.0.2)\n",
      "Requirement already satisfied: async-timeout<5.0,>=4.0.0a3 in c:\\users\\asus\\anaconda3\\lib\\site-packages (from aiohttp!=4.0.0a0,!=4.0.0a1->s3fs) (4.0.2)\n",
      "Requirement already satisfied: yarl<2.0,>=1.0 in c:\\users\\asus\\anaconda3\\lib\\site-packages (from aiohttp!=4.0.0a0,!=4.0.0a1->s3fs) (1.8.1)\n",
      "Requirement already satisfied: frozenlist>=1.1.1 in c:\\users\\asus\\anaconda3\\lib\\site-packages (from aiohttp!=4.0.0a0,!=4.0.0a1->s3fs) (1.3.3)\n",
      "Requirement already satisfied: aiosignal>=1.1.2 in c:\\users\\asus\\anaconda3\\lib\\site-packages (from aiohttp!=4.0.0a0,!=4.0.0a1->s3fs) (1.2.0)\n",
      "Requirement already satisfied: typing_extensions>=3.7 in c:\\users\\asus\\anaconda3\\lib\\site-packages (from aioitertools>=0.5.1->aiobotocore~=2.5.0->s3fs) (4.7.1)\n",
      "Requirement already satisfied: jmespath<2.0.0,>=0.7.1 in c:\\users\\asus\\anaconda3\\lib\\site-packages (from botocore<1.29.77,>=1.29.76->aiobotocore~=2.5.0->s3fs) (0.10.0)\n",
      "Requirement already satisfied: python-dateutil<3.0.0,>=2.1 in c:\\users\\asus\\appdata\\roaming\\python\\python311\\site-packages (from botocore<1.29.77,>=1.29.76->aiobotocore~=2.5.0->s3fs) (2.8.2)\n",
      "Requirement already satisfied: urllib3<1.27,>=1.25.4 in c:\\users\\asus\\anaconda3\\lib\\site-packages (from botocore<1.29.77,>=1.29.76->aiobotocore~=2.5.0->s3fs) (1.26.16)\n",
      "Requirement already satisfied: idna>=2.0 in c:\\users\\asus\\anaconda3\\lib\\site-packages (from yarl<2.0,>=1.0->aiohttp!=4.0.0a0,!=4.0.0a1->s3fs) (3.4)\n",
      "Requirement already satisfied: six>=1.5 in c:\\users\\asus\\appdata\\roaming\\python\\python311\\site-packages (from python-dateutil<3.0.0,>=2.1->botocore<1.29.77,>=1.29.76->aiobotocore~=2.5.0->s3fs) (1.16.0)\n",
      "Requirement already satisfied: pandas in c:\\users\\asus\\anaconda3\\lib\\site-packages (2.0.3)\n",
      "Requirement already satisfied: python-dateutil>=2.8.2 in c:\\users\\asus\\appdata\\roaming\\python\\python311\\site-packages (from pandas) (2.8.2)\n",
      "Requirement already satisfied: pytz>=2020.1 in c:\\users\\asus\\anaconda3\\lib\\site-packages (from pandas) (2023.3.post1)\n",
      "Requirement already satisfied: tzdata>=2022.1 in c:\\users\\asus\\anaconda3\\lib\\site-packages (from pandas) (2023.3)\n",
      "Requirement already satisfied: numpy>=1.21.0 in c:\\users\\asus\\anaconda3\\lib\\site-packages (from pandas) (1.24.3)\n",
      "Requirement already satisfied: six>=1.5 in c:\\users\\asus\\appdata\\roaming\\python\\python311\\site-packages (from python-dateutil>=2.8.2->pandas) (1.16.0)\n",
      "Requirement already satisfied: scikit-learn==1.2.2 in c:\\users\\asus\\anaconda3\\lib\\site-packages (1.2.2)\n",
      "Requirement already satisfied: numpy>=1.17.3 in c:\\users\\asus\\anaconda3\\lib\\site-packages (from scikit-learn==1.2.2) (1.24.3)\n",
      "Requirement already satisfied: scipy>=1.3.2 in c:\\users\\asus\\anaconda3\\lib\\site-packages (from scikit-learn==1.2.2) (1.11.1)\n",
      "Requirement already satisfied: joblib>=1.1.1 in c:\\users\\asus\\anaconda3\\lib\\site-packages (from scikit-learn==1.2.2) (1.2.0)\n",
      "Requirement already satisfied: threadpoolctl>=2.0.0 in c:\\users\\asus\\anaconda3\\lib\\site-packages (from scikit-learn==1.2.2) (2.2.0)\n",
      "Requirement already satisfied: imbalanced-learn in c:\\users\\asus\\anaconda3\\lib\\site-packages (0.12.2)\n",
      "Requirement already satisfied: numpy>=1.17.3 in c:\\users\\asus\\anaconda3\\lib\\site-packages (from imbalanced-learn) (1.24.3)\n",
      "Requirement already satisfied: scipy>=1.5.0 in c:\\users\\asus\\anaconda3\\lib\\site-packages (from imbalanced-learn) (1.11.1)\n",
      "Requirement already satisfied: scikit-learn>=1.0.2 in c:\\users\\asus\\anaconda3\\lib\\site-packages (from imbalanced-learn) (1.2.2)\n",
      "Requirement already satisfied: joblib>=1.1.1 in c:\\users\\asus\\anaconda3\\lib\\site-packages (from imbalanced-learn) (1.2.0)\n",
      "Requirement already satisfied: threadpoolctl>=2.0.0 in c:\\users\\asus\\anaconda3\\lib\\site-packages (from imbalanced-learn) (2.2.0)\n"
     ]
    }
   ],
   "source": [
    "!pip install s3fs\n",
    "!pip install pandas\n",
    "!pip install scikit-learn==1.2.2\n",
    "!pip install imbalanced-learn"
   ]
  },
  {
   "cell_type": "code",
   "execution_count": 2,
   "metadata": {},
   "outputs": [
    {
     "name": "stdout",
     "output_type": "stream",
     "text": [
      "Requirement already satisfied: matplotlib in c:\\users\\asus\\anaconda3\\lib\\site-packages (3.7.2)\n",
      "Requirement already satisfied: contourpy>=1.0.1 in c:\\users\\asus\\anaconda3\\lib\\site-packages (from matplotlib) (1.0.5)\n",
      "Requirement already satisfied: cycler>=0.10 in c:\\users\\asus\\anaconda3\\lib\\site-packages (from matplotlib) (0.11.0)\n",
      "Requirement already satisfied: fonttools>=4.22.0 in c:\\users\\asus\\anaconda3\\lib\\site-packages (from matplotlib) (4.25.0)\n",
      "Requirement already satisfied: kiwisolver>=1.0.1 in c:\\users\\asus\\anaconda3\\lib\\site-packages (from matplotlib) (1.4.4)\n",
      "Requirement already satisfied: numpy>=1.20 in c:\\users\\asus\\anaconda3\\lib\\site-packages (from matplotlib) (1.24.3)\n",
      "Requirement already satisfied: packaging>=20.0 in c:\\users\\asus\\appdata\\roaming\\python\\python311\\site-packages (from matplotlib) (23.2)\n",
      "Requirement already satisfied: pillow>=6.2.0 in c:\\users\\asus\\anaconda3\\lib\\site-packages (from matplotlib) (10.0.1)\n",
      "Requirement already satisfied: pyparsing<3.1,>=2.3.1 in c:\\users\\asus\\anaconda3\\lib\\site-packages (from matplotlib) (3.0.9)\n",
      "Requirement already satisfied: python-dateutil>=2.7 in c:\\users\\asus\\appdata\\roaming\\python\\python311\\site-packages (from matplotlib) (2.8.2)\n",
      "Requirement already satisfied: six>=1.5 in c:\\users\\asus\\appdata\\roaming\\python\\python311\\site-packages (from python-dateutil>=2.7->matplotlib) (1.16.0)\n"
     ]
    }
   ],
   "source": [
    "!pip install matplotlib"
   ]
  },
  {
   "cell_type": "markdown",
   "metadata": {},
   "source": [
    "## I.1. Chargement et préparation des données"
   ]
  },
  {
   "cell_type": "markdown",
   "metadata": {},
   "source": [
    "### A) Importation des données"
   ]
  },
  {
   "cell_type": "code",
   "execution_count": 46,
   "metadata": {},
   "outputs": [
    {
     "data": {
      "text/html": [
       "<div>\n",
       "<style scoped>\n",
       "    .dataframe tbody tr th:only-of-type {\n",
       "        vertical-align: middle;\n",
       "    }\n",
       "\n",
       "    .dataframe tbody tr th {\n",
       "        vertical-align: top;\n",
       "    }\n",
       "\n",
       "    .dataframe thead th {\n",
       "        text-align: right;\n",
       "    }\n",
       "</style>\n",
       "<table border=\"1\" class=\"dataframe\">\n",
       "  <thead>\n",
       "    <tr style=\"text-align: right;\">\n",
       "      <th></th>\n",
       "      <th>beneficiaire_trans_eco</th>\n",
       "      <th>moyenne_conso_agri_hab</th>\n",
       "      <th>moyenne_conso_indus_hab</th>\n",
       "      <th>moyenne_conso_tertiaire_hab</th>\n",
       "      <th>moyenne_conso_residentiel_hab</th>\n",
       "      <th>moyenne_conso_totale_hab</th>\n",
       "      <th>emissions_ges</th>\n",
       "      <th>nb_actes_france_renov</th>\n",
       "      <th>friche</th>\n",
       "      <th>ecoquartiers</th>\n",
       "      <th>part_residences_secondaires</th>\n",
       "      <th>beneficiaire_prog</th>\n",
       "      <th>climat</th>\n",
       "      <th>gridens7</th>\n",
       "      <th>superf_choro</th>\n",
       "      <th>departement</th>\n",
       "      <th>gare_tgv</th>\n",
       "      <th>part_trajets_voiture</th>\n",
       "      <th>med_disp</th>\n",
       "      <th>p_pop</th>\n",
       "      <th>CSP_maire</th>\n",
       "      <th>com_variation_encours_dette_ha_pct</th>\n",
       "      <th>part_inactifs</th>\n",
       "      <th>part_actifs</th>\n",
       "      <th>dependance_eco</th>\n",
       "      <th>abstention_municipales</th>\n",
       "      <th>taux_creation_ent</th>\n",
       "      <th>total_entreprises</th>\n",
       "      <th>part_licencies_sportifs</th>\n",
       "      <th>part_jeunes_sans_diplome</th>\n",
       "    </tr>\n",
       "    <tr>\n",
       "      <th>code_insee</th>\n",
       "      <th></th>\n",
       "      <th></th>\n",
       "      <th></th>\n",
       "      <th></th>\n",
       "      <th></th>\n",
       "      <th></th>\n",
       "      <th></th>\n",
       "      <th></th>\n",
       "      <th></th>\n",
       "      <th></th>\n",
       "      <th></th>\n",
       "      <th></th>\n",
       "      <th></th>\n",
       "      <th></th>\n",
       "      <th></th>\n",
       "      <th></th>\n",
       "      <th></th>\n",
       "      <th></th>\n",
       "      <th></th>\n",
       "      <th></th>\n",
       "      <th></th>\n",
       "      <th></th>\n",
       "      <th></th>\n",
       "      <th></th>\n",
       "      <th></th>\n",
       "      <th></th>\n",
       "      <th></th>\n",
       "      <th></th>\n",
       "      <th></th>\n",
       "      <th></th>\n",
       "    </tr>\n",
       "  </thead>\n",
       "  <tbody>\n",
       "    <tr>\n",
       "      <th>22001</th>\n",
       "      <td>0</td>\n",
       "      <td>2.994071</td>\n",
       "      <td>0.000503</td>\n",
       "      <td>0.631181</td>\n",
       "      <td>3.688905</td>\n",
       "      <td>7.378017</td>\n",
       "      <td>14871</td>\n",
       "      <td>86</td>\n",
       "      <td>2</td>\n",
       "      <td>0</td>\n",
       "      <td>12.0</td>\n",
       "      <td>0</td>\n",
       "      <td>Autre</td>\n",
       "      <td>7</td>\n",
       "      <td>24.09</td>\n",
       "      <td>22</td>\n",
       "      <td>0</td>\n",
       "      <td>85.7</td>\n",
       "      <td>20300</td>\n",
       "      <td>596</td>\n",
       "      <td>12</td>\n",
       "      <td>18.9</td>\n",
       "      <td>12.751678</td>\n",
       "      <td>47.147651</td>\n",
       "      <td>107</td>\n",
       "      <td>17.4</td>\n",
       "      <td>15.0</td>\n",
       "      <td>20</td>\n",
       "      <td>23.825503</td>\n",
       "      <td>9.1</td>\n",
       "    </tr>\n",
       "    <tr>\n",
       "      <th>22002</th>\n",
       "      <td>0</td>\n",
       "      <td>1.283886</td>\n",
       "      <td>0.032120</td>\n",
       "      <td>0.173206</td>\n",
       "      <td>3.248865</td>\n",
       "      <td>4.775226</td>\n",
       "      <td>8621</td>\n",
       "      <td>35</td>\n",
       "      <td>0</td>\n",
       "      <td>0</td>\n",
       "      <td>2.0</td>\n",
       "      <td>0</td>\n",
       "      <td>Autre</td>\n",
       "      <td>5</td>\n",
       "      <td>12.20</td>\n",
       "      <td>22</td>\n",
       "      <td>0</td>\n",
       "      <td>90.2</td>\n",
       "      <td>23570</td>\n",
       "      <td>1148</td>\n",
       "      <td>54</td>\n",
       "      <td>-39.3</td>\n",
       "      <td>11.062718</td>\n",
       "      <td>50.522648</td>\n",
       "      <td>96</td>\n",
       "      <td>53.8</td>\n",
       "      <td>12.1</td>\n",
       "      <td>33</td>\n",
       "      <td>30.836237</td>\n",
       "      <td>4.0</td>\n",
       "    </tr>\n",
       "    <tr>\n",
       "      <th>22003</th>\n",
       "      <td>0</td>\n",
       "      <td>0.000000</td>\n",
       "      <td>0.000000</td>\n",
       "      <td>0.524098</td>\n",
       "      <td>2.908468</td>\n",
       "      <td>3.472740</td>\n",
       "      <td>3028</td>\n",
       "      <td>47</td>\n",
       "      <td>0</td>\n",
       "      <td>0</td>\n",
       "      <td>3.4</td>\n",
       "      <td>0</td>\n",
       "      <td>Autre</td>\n",
       "      <td>6</td>\n",
       "      <td>6.38</td>\n",
       "      <td>22</td>\n",
       "      <td>0</td>\n",
       "      <td>91.1</td>\n",
       "      <td>21780</td>\n",
       "      <td>920</td>\n",
       "      <td>56</td>\n",
       "      <td>99.8</td>\n",
       "      <td>14.239130</td>\n",
       "      <td>48.804348</td>\n",
       "      <td>113</td>\n",
       "      <td>53.7</td>\n",
       "      <td>36.7</td>\n",
       "      <td>30</td>\n",
       "      <td>35.760870</td>\n",
       "      <td>0.0</td>\n",
       "    </tr>\n",
       "    <tr>\n",
       "      <th>22004</th>\n",
       "      <td>0</td>\n",
       "      <td>0.200325</td>\n",
       "      <td>0.675332</td>\n",
       "      <td>1.267791</td>\n",
       "      <td>3.034877</td>\n",
       "      <td>5.203150</td>\n",
       "      <td>29130</td>\n",
       "      <td>46</td>\n",
       "      <td>6</td>\n",
       "      <td>0</td>\n",
       "      <td>5.5</td>\n",
       "      <td>0</td>\n",
       "      <td>Autre</td>\n",
       "      <td>5</td>\n",
       "      <td>36.41</td>\n",
       "      <td>22</td>\n",
       "      <td>0</td>\n",
       "      <td>88.5</td>\n",
       "      <td>21020</td>\n",
       "      <td>4810</td>\n",
       "      <td>33</td>\n",
       "      <td>-34.1</td>\n",
       "      <td>17.234927</td>\n",
       "      <td>40.540541</td>\n",
       "      <td>126</td>\n",
       "      <td>44.8</td>\n",
       "      <td>12.6</td>\n",
       "      <td>238</td>\n",
       "      <td>24.282744</td>\n",
       "      <td>12.4</td>\n",
       "    </tr>\n",
       "    <tr>\n",
       "      <th>22005</th>\n",
       "      <td>0</td>\n",
       "      <td>0.121358</td>\n",
       "      <td>0.082905</td>\n",
       "      <td>1.151104</td>\n",
       "      <td>3.532942</td>\n",
       "      <td>4.926877</td>\n",
       "      <td>4136</td>\n",
       "      <td>10</td>\n",
       "      <td>3</td>\n",
       "      <td>0</td>\n",
       "      <td>16.8</td>\n",
       "      <td>0</td>\n",
       "      <td>Autre</td>\n",
       "      <td>5</td>\n",
       "      <td>14.11</td>\n",
       "      <td>22</td>\n",
       "      <td>0</td>\n",
       "      <td>79.0</td>\n",
       "      <td>18770</td>\n",
       "      <td>1029</td>\n",
       "      <td>77</td>\n",
       "      <td>-14.5</td>\n",
       "      <td>14.188533</td>\n",
       "      <td>42.371234</td>\n",
       "      <td>140</td>\n",
       "      <td>22.9</td>\n",
       "      <td>18.8</td>\n",
       "      <td>64</td>\n",
       "      <td>27.891156</td>\n",
       "      <td>2.6</td>\n",
       "    </tr>\n",
       "  </tbody>\n",
       "</table>\n",
       "</div>"
      ],
      "text/plain": [
       "            beneficiaire_trans_eco  moyenne_conso_agri_hab  \\\n",
       "code_insee                                                   \n",
       "22001                            0                2.994071   \n",
       "22002                            0                1.283886   \n",
       "22003                            0                0.000000   \n",
       "22004                            0                0.200325   \n",
       "22005                            0                0.121358   \n",
       "\n",
       "            moyenne_conso_indus_hab  moyenne_conso_tertiaire_hab  \\\n",
       "code_insee                                                         \n",
       "22001                      0.000503                     0.631181   \n",
       "22002                      0.032120                     0.173206   \n",
       "22003                      0.000000                     0.524098   \n",
       "22004                      0.675332                     1.267791   \n",
       "22005                      0.082905                     1.151104   \n",
       "\n",
       "            moyenne_conso_residentiel_hab  moyenne_conso_totale_hab  \\\n",
       "code_insee                                                            \n",
       "22001                            3.688905                  7.378017   \n",
       "22002                            3.248865                  4.775226   \n",
       "22003                            2.908468                  3.472740   \n",
       "22004                            3.034877                  5.203150   \n",
       "22005                            3.532942                  4.926877   \n",
       "\n",
       "            emissions_ges  nb_actes_france_renov  friche  ecoquartiers  \\\n",
       "code_insee                                                               \n",
       "22001               14871                     86       2             0   \n",
       "22002                8621                     35       0             0   \n",
       "22003                3028                     47       0             0   \n",
       "22004               29130                     46       6             0   \n",
       "22005                4136                     10       3             0   \n",
       "\n",
       "            part_residences_secondaires  beneficiaire_prog climat  gridens7  \\\n",
       "code_insee                                                                    \n",
       "22001                              12.0                  0  Autre         7   \n",
       "22002                               2.0                  0  Autre         5   \n",
       "22003                               3.4                  0  Autre         6   \n",
       "22004                               5.5                  0  Autre         5   \n",
       "22005                              16.8                  0  Autre         5   \n",
       "\n",
       "            superf_choro  departement  gare_tgv  part_trajets_voiture  \\\n",
       "code_insee                                                              \n",
       "22001              24.09           22         0                  85.7   \n",
       "22002              12.20           22         0                  90.2   \n",
       "22003               6.38           22         0                  91.1   \n",
       "22004              36.41           22         0                  88.5   \n",
       "22005              14.11           22         0                  79.0   \n",
       "\n",
       "            med_disp  p_pop  CSP_maire  com_variation_encours_dette_ha_pct  \\\n",
       "code_insee                                                                   \n",
       "22001          20300    596         12                                18.9   \n",
       "22002          23570   1148         54                               -39.3   \n",
       "22003          21780    920         56                                99.8   \n",
       "22004          21020   4810         33                               -34.1   \n",
       "22005          18770   1029         77                               -14.5   \n",
       "\n",
       "            part_inactifs  part_actifs  dependance_eco  \\\n",
       "code_insee                                               \n",
       "22001           12.751678    47.147651             107   \n",
       "22002           11.062718    50.522648              96   \n",
       "22003           14.239130    48.804348             113   \n",
       "22004           17.234927    40.540541             126   \n",
       "22005           14.188533    42.371234             140   \n",
       "\n",
       "            abstention_municipales  taux_creation_ent  total_entreprises  \\\n",
       "code_insee                                                                 \n",
       "22001                         17.4               15.0                 20   \n",
       "22002                         53.8               12.1                 33   \n",
       "22003                         53.7               36.7                 30   \n",
       "22004                         44.8               12.6                238   \n",
       "22005                         22.9               18.8                 64   \n",
       "\n",
       "            part_licencies_sportifs  part_jeunes_sans_diplome  \n",
       "code_insee                                                     \n",
       "22001                     23.825503                       9.1  \n",
       "22002                     30.836237                       4.0  \n",
       "22003                     35.760870                       0.0  \n",
       "22004                     24.282744                      12.4  \n",
       "22005                     27.891156                       2.6  "
      ]
     },
     "execution_count": 46,
     "metadata": {},
     "output_type": "execute_result"
    }
   ],
   "source": [
    "import pandas as pd\n",
    "\n",
    "# Importation des données avec code_insee en index\n",
    "donnees = pd.read_csv(\"bdd_finale.csv\", sep=',', encoding='utf-8', index_col=0)\n",
    "donnees.head()"
   ]
  },
  {
   "cell_type": "markdown",
   "metadata": {},
   "source": [
    "### B) Formatage des données"
   ]
  },
  {
   "cell_type": "markdown",
   "metadata": {},
   "source": [
    "Nous allons pouvoir observer le type des données que nous avons. Cela va nous permettre de déterminer si on a besoin de modifier certaines variables pour qu'elles soient bien en variables catégorielles. "
   ]
  },
  {
   "cell_type": "code",
   "execution_count": 47,
   "metadata": {},
   "outputs": [
    {
     "data": {
      "text/plain": [
       "beneficiaire_trans_eco                  int64\n",
       "moyenne_conso_agri_hab                float64\n",
       "moyenne_conso_indus_hab               float64\n",
       "moyenne_conso_tertiaire_hab           float64\n",
       "moyenne_conso_residentiel_hab         float64\n",
       "moyenne_conso_totale_hab              float64\n",
       "emissions_ges                           int64\n",
       "nb_actes_france_renov                   int64\n",
       "friche                                  int64\n",
       "ecoquartiers                            int64\n",
       "part_residences_secondaires           float64\n",
       "beneficiaire_prog                       int64\n",
       "climat                                 object\n",
       "gridens7                                int64\n",
       "superf_choro                          float64\n",
       "departement                             int64\n",
       "gare_tgv                                int64\n",
       "part_trajets_voiture                  float64\n",
       "med_disp                                int64\n",
       "p_pop                                   int64\n",
       "CSP_maire                               int64\n",
       "com_variation_encours_dette_ha_pct    float64\n",
       "part_inactifs                         float64\n",
       "part_actifs                           float64\n",
       "dependance_eco                          int64\n",
       "abstention_municipales                float64\n",
       "taux_creation_ent                     float64\n",
       "total_entreprises                       int64\n",
       "part_licencies_sportifs               float64\n",
       "part_jeunes_sans_diplome              float64\n",
       "dtype: object"
      ]
     },
     "execution_count": 47,
     "metadata": {},
     "output_type": "execute_result"
    }
   ],
   "source": [
    "donnees.dtypes"
   ]
  },
  {
   "cell_type": "code",
   "execution_count": 48,
   "metadata": {},
   "outputs": [],
   "source": [
    "# Conversion des variables en variables catégorielles\n",
    "donnees[\"beneficiaire_trans_eco\"] = donnees[\"beneficiaire_trans_eco\"].astype('category')\n",
    "donnees[\"ecoquartiers\"] = donnees[\"ecoquartiers\"].astype('category')\n",
    "donnees[\"beneficiaire_prog\"] = donnees[\"beneficiaire_prog\"].astype('category')\n",
    "donnees[\"gridens7\"] = donnees[\"gridens7\"].astype('category')\n",
    "donnees[\"departement\"] = donnees[\"departement\"].astype('category')\n",
    "donnees[\"gare_tgv\"] = donnees[\"gare_tgv\"].astype('category')\n",
    "donnees[\"CSP_maire\"] = donnees[\"CSP_maire\"].astype('category')\n",
    "\n",
    "\n",
    "# Cas de la variable climat \n",
    "donnees = pd.get_dummies(donnees, columns = [\"climat\"]) # On crée des variables binaires pour la variable climat car on a des chaînes de caractères"
   ]
  },
  {
   "cell_type": "code",
   "execution_count": 49,
   "metadata": {},
   "outputs": [
    {
     "data": {
      "text/plain": [
       "beneficiaire_trans_eco                category\n",
       "moyenne_conso_agri_hab                 float64\n",
       "moyenne_conso_indus_hab                float64\n",
       "moyenne_conso_tertiaire_hab            float64\n",
       "moyenne_conso_residentiel_hab          float64\n",
       "moyenne_conso_totale_hab               float64\n",
       "emissions_ges                            int64\n",
       "nb_actes_france_renov                    int64\n",
       "friche                                   int64\n",
       "ecoquartiers                          category\n",
       "part_residences_secondaires            float64\n",
       "beneficiaire_prog                     category\n",
       "gridens7                              category\n",
       "superf_choro                           float64\n",
       "departement                           category\n",
       "gare_tgv                              category\n",
       "part_trajets_voiture                   float64\n",
       "med_disp                                 int64\n",
       "p_pop                                    int64\n",
       "CSP_maire                             category\n",
       "com_variation_encours_dette_ha_pct     float64\n",
       "part_inactifs                          float64\n",
       "part_actifs                            float64\n",
       "dependance_eco                           int64\n",
       "abstention_municipales                 float64\n",
       "taux_creation_ent                      float64\n",
       "total_entreprises                        int64\n",
       "part_licencies_sportifs                float64\n",
       "part_jeunes_sans_diplome               float64\n",
       "climat_Autre                              bool\n",
       "climat_Estuaire                           bool\n",
       "climat_Mer                                bool\n",
       "dtype: object"
      ]
     },
     "execution_count": 49,
     "metadata": {},
     "output_type": "execute_result"
    }
   ],
   "source": [
    "donnees.dtypes"
   ]
  },
  {
   "cell_type": "markdown",
   "metadata": {},
   "source": [
    "Nous allons observer si on a des données manquantes dans notre jeu de données."
   ]
  },
  {
   "cell_type": "code",
   "execution_count": 50,
   "metadata": {},
   "outputs": [
    {
     "data": {
      "text/plain": [
       "beneficiaire_trans_eco                0\n",
       "moyenne_conso_agri_hab                0\n",
       "moyenne_conso_indus_hab               0\n",
       "moyenne_conso_tertiaire_hab           0\n",
       "moyenne_conso_residentiel_hab         0\n",
       "moyenne_conso_totale_hab              0\n",
       "emissions_ges                         0\n",
       "nb_actes_france_renov                 0\n",
       "friche                                0\n",
       "ecoquartiers                          0\n",
       "part_residences_secondaires           0\n",
       "beneficiaire_prog                     0\n",
       "gridens7                              0\n",
       "superf_choro                          0\n",
       "departement                           0\n",
       "gare_tgv                              0\n",
       "part_trajets_voiture                  0\n",
       "med_disp                              0\n",
       "p_pop                                 0\n",
       "CSP_maire                             0\n",
       "com_variation_encours_dette_ha_pct    0\n",
       "part_inactifs                         0\n",
       "part_actifs                           0\n",
       "dependance_eco                        0\n",
       "abstention_municipales                0\n",
       "taux_creation_ent                     0\n",
       "total_entreprises                     0\n",
       "part_licencies_sportifs               0\n",
       "part_jeunes_sans_diplome              0\n",
       "climat_Autre                          0\n",
       "climat_Estuaire                       0\n",
       "climat_Mer                            0\n",
       "dtype: int64"
      ]
     },
     "execution_count": 50,
     "metadata": {},
     "output_type": "execute_result"
    }
   ],
   "source": [
    "donnees.isna().sum()"
   ]
  },
  {
   "cell_type": "markdown",
   "metadata": {},
   "source": [
    "### C) Séparation de la variable à expliquer et des variables explicatives"
   ]
  },
  {
   "cell_type": "code",
   "execution_count": 51,
   "metadata": {},
   "outputs": [],
   "source": [
    "# Définir X et y pour avoir les variables explicatives et la variable à expliquer beneficiaire_trans_eco\n",
    "X = donnees.drop(columns=['beneficiaire_trans_eco'])\n",
    "\n",
    "# Variable à expliquer : beneficiaire_trans_eco\n",
    "y = donnees[\"beneficiaire_trans_eco\"]"
   ]
  },
  {
   "cell_type": "code",
   "execution_count": 52,
   "metadata": {},
   "outputs": [],
   "source": [
    "import numpy as np\n",
    "\n",
    "# Convertir les listes en tableaux numpy\n",
    "X = np.array(X)\n",
    "y = np.array(y)"
   ]
  },
  {
   "cell_type": "code",
   "execution_count": 53,
   "metadata": {},
   "outputs": [
    {
     "name": "stdout",
     "output_type": "stream",
     "text": [
      "Dimensions de X: (1189, 31)\n",
      "Dimensions de y: (1189,)\n"
     ]
    }
   ],
   "source": [
    "print(\"Dimensions de X:\", X.shape)\n",
    "print(\"Dimensions de y:\", y.shape)"
   ]
  },
  {
   "cell_type": "code",
   "execution_count": 54,
   "metadata": {},
   "outputs": [
    {
     "data": {
      "text/plain": [
       "array([0, 1], dtype=int64)"
      ]
     },
     "execution_count": 54,
     "metadata": {},
     "output_type": "execute_result"
    }
   ],
   "source": [
    "np.unique(y)"
   ]
  },
  {
   "cell_type": "markdown",
   "metadata": {},
   "source": [
    "## I.2. Modélisation"
   ]
  },
  {
   "cell_type": "markdown",
   "metadata": {},
   "source": [
    "### I.2.1. Régression logistique "
   ]
  },
  {
   "cell_type": "markdown",
   "metadata": {},
   "source": [
    "#### A) Construction du modèle et prévisions"
   ]
  },
  {
   "cell_type": "markdown",
   "metadata": {},
   "source": [
    "Nous allons d'abord diviser notre jeu de données en jeux d'apprentissage et de test."
   ]
  },
  {
   "cell_type": "code",
   "execution_count": 55,
   "metadata": {},
   "outputs": [],
   "source": [
    "from sklearn.model_selection import train_test_split\n",
    "\n",
    "X_train, X_test, y_train, y_test = train_test_split(X, y, random_state=0) # random_state=0 pour avoir le même mélange de données à chaque fois"
   ]
  },
  {
   "cell_type": "code",
   "execution_count": 41,
   "metadata": {},
   "outputs": [
    {
     "data": {
      "text/plain": [
       "((891, 29), (891,))"
      ]
     },
     "execution_count": 41,
     "metadata": {},
     "output_type": "execute_result"
    }
   ],
   "source": [
    "X_train.shape, y_train.shape"
   ]
  },
  {
   "cell_type": "code",
   "execution_count": 56,
   "metadata": {},
   "outputs": [
    {
     "data": {
      "text/plain": [
       "((298, 31), (298,))"
      ]
     },
     "execution_count": 56,
     "metadata": {},
     "output_type": "execute_result"
    }
   ],
   "source": [
    "X_test.shape, y_test.shape"
   ]
  },
  {
   "cell_type": "markdown",
   "metadata": {},
   "source": [
    "Nous allons maintenant définir notre modèle de régression logistique"
   ]
  },
  {
   "cell_type": "code",
   "execution_count": 57,
   "metadata": {},
   "outputs": [],
   "source": [
    "from imblearn.pipeline import Pipeline\n",
    "from sklearn.linear_model import LogisticRegression\n",
    "from sklearn.preprocessing import StandardScaler\n",
    "from imblearn.over_sampling import RandomOverSampler\n",
    "from imblearn.over_sampling import SMOTE\n",
    "\n",
    "etapes = [('std_scaler', StandardScaler()), # Standardisation des variables\n",
    "        ('oversampler', RandomOverSampler()), # Sur-échantillonnage\n",
    "        ('reg_log', LogisticRegression()), # Régression logistique\n",
    "        ]\n",
    "\n",
    "etapes_smote = [('std_scaler', StandardScaler()), # Standardisation des variables\n",
    "        ('smote', SMOTE()), # Sur-échantillonnage\n",
    "        ('reg_log', LogisticRegression()), # Régression logistique\n",
    "        ]\n",
    "modele_reg_log  = Pipeline(steps=etapes_smote) # Création du pipeline"
   ]
  },
  {
   "cell_type": "markdown",
   "metadata": {},
   "source": [
    "On entraîne le modèle sur les données"
   ]
  },
  {
   "cell_type": "code",
   "execution_count": 58,
   "metadata": {},
   "outputs": [
    {
     "data": {
      "text/html": [
       "<style>#sk-container-id-1 {color: black;background-color: white;}#sk-container-id-1 pre{padding: 0;}#sk-container-id-1 div.sk-toggleable {background-color: white;}#sk-container-id-1 label.sk-toggleable__label {cursor: pointer;display: block;width: 100%;margin-bottom: 0;padding: 0.3em;box-sizing: border-box;text-align: center;}#sk-container-id-1 label.sk-toggleable__label-arrow:before {content: \"▸\";float: left;margin-right: 0.25em;color: #696969;}#sk-container-id-1 label.sk-toggleable__label-arrow:hover:before {color: black;}#sk-container-id-1 div.sk-estimator:hover label.sk-toggleable__label-arrow:before {color: black;}#sk-container-id-1 div.sk-toggleable__content {max-height: 0;max-width: 0;overflow: hidden;text-align: left;background-color: #f0f8ff;}#sk-container-id-1 div.sk-toggleable__content pre {margin: 0.2em;color: black;border-radius: 0.25em;background-color: #f0f8ff;}#sk-container-id-1 input.sk-toggleable__control:checked~div.sk-toggleable__content {max-height: 200px;max-width: 100%;overflow: auto;}#sk-container-id-1 input.sk-toggleable__control:checked~label.sk-toggleable__label-arrow:before {content: \"▾\";}#sk-container-id-1 div.sk-estimator input.sk-toggleable__control:checked~label.sk-toggleable__label {background-color: #d4ebff;}#sk-container-id-1 div.sk-label input.sk-toggleable__control:checked~label.sk-toggleable__label {background-color: #d4ebff;}#sk-container-id-1 input.sk-hidden--visually {border: 0;clip: rect(1px 1px 1px 1px);clip: rect(1px, 1px, 1px, 1px);height: 1px;margin: -1px;overflow: hidden;padding: 0;position: absolute;width: 1px;}#sk-container-id-1 div.sk-estimator {font-family: monospace;background-color: #f0f8ff;border: 1px dotted black;border-radius: 0.25em;box-sizing: border-box;margin-bottom: 0.5em;}#sk-container-id-1 div.sk-estimator:hover {background-color: #d4ebff;}#sk-container-id-1 div.sk-parallel-item::after {content: \"\";width: 100%;border-bottom: 1px solid gray;flex-grow: 1;}#sk-container-id-1 div.sk-label:hover label.sk-toggleable__label {background-color: #d4ebff;}#sk-container-id-1 div.sk-serial::before {content: \"\";position: absolute;border-left: 1px solid gray;box-sizing: border-box;top: 0;bottom: 0;left: 50%;z-index: 0;}#sk-container-id-1 div.sk-serial {display: flex;flex-direction: column;align-items: center;background-color: white;padding-right: 0.2em;padding-left: 0.2em;position: relative;}#sk-container-id-1 div.sk-item {position: relative;z-index: 1;}#sk-container-id-1 div.sk-parallel {display: flex;align-items: stretch;justify-content: center;background-color: white;position: relative;}#sk-container-id-1 div.sk-item::before, #sk-container-id-1 div.sk-parallel-item::before {content: \"\";position: absolute;border-left: 1px solid gray;box-sizing: border-box;top: 0;bottom: 0;left: 50%;z-index: -1;}#sk-container-id-1 div.sk-parallel-item {display: flex;flex-direction: column;z-index: 1;position: relative;background-color: white;}#sk-container-id-1 div.sk-parallel-item:first-child::after {align-self: flex-end;width: 50%;}#sk-container-id-1 div.sk-parallel-item:last-child::after {align-self: flex-start;width: 50%;}#sk-container-id-1 div.sk-parallel-item:only-child::after {width: 0;}#sk-container-id-1 div.sk-dashed-wrapped {border: 1px dashed gray;margin: 0 0.4em 0.5em 0.4em;box-sizing: border-box;padding-bottom: 0.4em;background-color: white;}#sk-container-id-1 div.sk-label label {font-family: monospace;font-weight: bold;display: inline-block;line-height: 1.2em;}#sk-container-id-1 div.sk-label-container {text-align: center;}#sk-container-id-1 div.sk-container {/* jupyter's `normalize.less` sets `[hidden] { display: none; }` but bootstrap.min.css set `[hidden] { display: none !important; }` so we also need the `!important` here to be able to override the default hidden behavior on the sphinx rendered scikit-learn.org. See: https://github.com/scikit-learn/scikit-learn/issues/21755 */display: inline-block !important;position: relative;}#sk-container-id-1 div.sk-text-repr-fallback {display: none;}</style><div id=\"sk-container-id-1\" class=\"sk-top-container\"><div class=\"sk-text-repr-fallback\"><pre>Pipeline(steps=[(&#x27;std_scaler&#x27;, StandardScaler()), (&#x27;smote&#x27;, SMOTE()),\n",
       "                (&#x27;reg_log&#x27;, LogisticRegression())])</pre><b>In a Jupyter environment, please rerun this cell to show the HTML representation or trust the notebook. <br />On GitHub, the HTML representation is unable to render, please try loading this page with nbviewer.org.</b></div><div class=\"sk-container\" hidden><div class=\"sk-item sk-dashed-wrapped\"><div class=\"sk-label-container\"><div class=\"sk-label sk-toggleable\"><input class=\"sk-toggleable__control sk-hidden--visually\" id=\"sk-estimator-id-1\" type=\"checkbox\" ><label for=\"sk-estimator-id-1\" class=\"sk-toggleable__label sk-toggleable__label-arrow\">Pipeline</label><div class=\"sk-toggleable__content\"><pre>Pipeline(steps=[(&#x27;std_scaler&#x27;, StandardScaler()), (&#x27;smote&#x27;, SMOTE()),\n",
       "                (&#x27;reg_log&#x27;, LogisticRegression())])</pre></div></div></div><div class=\"sk-serial\"><div class=\"sk-item\"><div class=\"sk-estimator sk-toggleable\"><input class=\"sk-toggleable__control sk-hidden--visually\" id=\"sk-estimator-id-2\" type=\"checkbox\" ><label for=\"sk-estimator-id-2\" class=\"sk-toggleable__label sk-toggleable__label-arrow\">StandardScaler</label><div class=\"sk-toggleable__content\"><pre>StandardScaler()</pre></div></div></div><div class=\"sk-item\"><div class=\"sk-estimator sk-toggleable\"><input class=\"sk-toggleable__control sk-hidden--visually\" id=\"sk-estimator-id-3\" type=\"checkbox\" ><label for=\"sk-estimator-id-3\" class=\"sk-toggleable__label sk-toggleable__label-arrow\">SMOTE</label><div class=\"sk-toggleable__content\"><pre>SMOTE()</pre></div></div></div><div class=\"sk-item\"><div class=\"sk-estimator sk-toggleable\"><input class=\"sk-toggleable__control sk-hidden--visually\" id=\"sk-estimator-id-4\" type=\"checkbox\" ><label for=\"sk-estimator-id-4\" class=\"sk-toggleable__label sk-toggleable__label-arrow\">LogisticRegression</label><div class=\"sk-toggleable__content\"><pre>LogisticRegression()</pre></div></div></div></div></div></div></div>"
      ],
      "text/plain": [
       "Pipeline(steps=[('std_scaler', StandardScaler()), ('smote', SMOTE()),\n",
       "                ('reg_log', LogisticRegression())])"
      ]
     },
     "execution_count": 58,
     "metadata": {},
     "output_type": "execute_result"
    }
   ],
   "source": [
    "modele_reg_log.fit(X_train, y_train)"
   ]
  },
  {
   "cell_type": "markdown",
   "metadata": {},
   "source": [
    "On cherche à prédire de nouvelles données grâce aux données test"
   ]
  },
  {
   "cell_type": "code",
   "execution_count": null,
   "metadata": {},
   "outputs": [],
   "source": [
    "y_pred_reg_log = modele_reg_log.predict(X_test)"
   ]
  },
  {
   "cell_type": "markdown",
   "metadata": {},
   "source": [
    "#### B) Mesure de la performance"
   ]
  },
  {
   "cell_type": "markdown",
   "metadata": {},
   "source": [
    "Nous allons maintenant évaluer la performance de notre modèle"
   ]
  },
  {
   "cell_type": "code",
   "execution_count": null,
   "metadata": {},
   "outputs": [
    {
     "ename": "NotFittedError",
     "evalue": "This StandardScaler instance is not fitted yet. Call 'fit' with appropriate arguments before using this estimator.",
     "output_type": "error",
     "traceback": [
      "\u001b[1;31m---------------------------------------------------------------------------\u001b[0m",
      "\u001b[1;31mNotFittedError\u001b[0m                            Traceback (most recent call last)",
      "Cell \u001b[1;32mIn[17], line 1\u001b[0m\n\u001b[1;32m----> 1\u001b[0m score_reg_log \u001b[38;5;241m=\u001b[39m modele_reg_log\u001b[38;5;241m.\u001b[39mscore(X_test, y_test)\n\u001b[0;32m      2\u001b[0m \u001b[38;5;28mprint\u001b[39m(\u001b[38;5;124m\"\u001b[39m\u001b[38;5;124mLe score du modèle est : \u001b[39m\u001b[38;5;124m\"\u001b[39m, score_reg_log)\n",
      "File \u001b[1;32mc:\\Users\\clemc\\anaconda3\\Lib\\site-packages\\sklearn\\pipeline.py:718\u001b[0m, in \u001b[0;36mPipeline.score\u001b[1;34m(self, X, y, sample_weight)\u001b[0m\n\u001b[0;32m    716\u001b[0m Xt \u001b[38;5;241m=\u001b[39m X\n\u001b[0;32m    717\u001b[0m \u001b[38;5;28;01mfor\u001b[39;00m _, name, transform \u001b[38;5;129;01min\u001b[39;00m \u001b[38;5;28mself\u001b[39m\u001b[38;5;241m.\u001b[39m_iter(with_final\u001b[38;5;241m=\u001b[39m\u001b[38;5;28;01mFalse\u001b[39;00m):\n\u001b[1;32m--> 718\u001b[0m     Xt \u001b[38;5;241m=\u001b[39m transform\u001b[38;5;241m.\u001b[39mtransform(Xt)\n\u001b[0;32m    719\u001b[0m score_params \u001b[38;5;241m=\u001b[39m {}\n\u001b[0;32m    720\u001b[0m \u001b[38;5;28;01mif\u001b[39;00m sample_weight \u001b[38;5;129;01mis\u001b[39;00m \u001b[38;5;129;01mnot\u001b[39;00m \u001b[38;5;28;01mNone\u001b[39;00m:\n",
      "File \u001b[1;32mc:\\Users\\clemc\\anaconda3\\Lib\\site-packages\\sklearn\\utils\\_set_output.py:140\u001b[0m, in \u001b[0;36m_wrap_method_output.<locals>.wrapped\u001b[1;34m(self, X, *args, **kwargs)\u001b[0m\n\u001b[0;32m    138\u001b[0m \u001b[38;5;129m@wraps\u001b[39m(f)\n\u001b[0;32m    139\u001b[0m \u001b[38;5;28;01mdef\u001b[39;00m \u001b[38;5;21mwrapped\u001b[39m(\u001b[38;5;28mself\u001b[39m, X, \u001b[38;5;241m*\u001b[39margs, \u001b[38;5;241m*\u001b[39m\u001b[38;5;241m*\u001b[39mkwargs):\n\u001b[1;32m--> 140\u001b[0m     data_to_wrap \u001b[38;5;241m=\u001b[39m f(\u001b[38;5;28mself\u001b[39m, X, \u001b[38;5;241m*\u001b[39margs, \u001b[38;5;241m*\u001b[39m\u001b[38;5;241m*\u001b[39mkwargs)\n\u001b[0;32m    141\u001b[0m     \u001b[38;5;28;01mif\u001b[39;00m \u001b[38;5;28misinstance\u001b[39m(data_to_wrap, \u001b[38;5;28mtuple\u001b[39m):\n\u001b[0;32m    142\u001b[0m         \u001b[38;5;66;03m# only wrap the first output for cross decomposition\u001b[39;00m\n\u001b[0;32m    143\u001b[0m         \u001b[38;5;28;01mreturn\u001b[39;00m (\n\u001b[0;32m    144\u001b[0m             _wrap_data_with_container(method, data_to_wrap[\u001b[38;5;241m0\u001b[39m], X, \u001b[38;5;28mself\u001b[39m),\n\u001b[0;32m    145\u001b[0m             \u001b[38;5;241m*\u001b[39mdata_to_wrap[\u001b[38;5;241m1\u001b[39m:],\n\u001b[0;32m    146\u001b[0m         )\n",
      "File \u001b[1;32mc:\\Users\\clemc\\anaconda3\\Lib\\site-packages\\sklearn\\preprocessing\\_data.py:989\u001b[0m, in \u001b[0;36mStandardScaler.transform\u001b[1;34m(self, X, copy)\u001b[0m\n\u001b[0;32m    974\u001b[0m \u001b[38;5;28;01mdef\u001b[39;00m \u001b[38;5;21mtransform\u001b[39m(\u001b[38;5;28mself\u001b[39m, X, copy\u001b[38;5;241m=\u001b[39m\u001b[38;5;28;01mNone\u001b[39;00m):\n\u001b[0;32m    975\u001b[0m \u001b[38;5;250m    \u001b[39m\u001b[38;5;124;03m\"\"\"Perform standardization by centering and scaling.\u001b[39;00m\n\u001b[0;32m    976\u001b[0m \n\u001b[0;32m    977\u001b[0m \u001b[38;5;124;03m    Parameters\u001b[39;00m\n\u001b[1;32m   (...)\u001b[0m\n\u001b[0;32m    987\u001b[0m \u001b[38;5;124;03m        Transformed array.\u001b[39;00m\n\u001b[0;32m    988\u001b[0m \u001b[38;5;124;03m    \"\"\"\u001b[39;00m\n\u001b[1;32m--> 989\u001b[0m     check_is_fitted(\u001b[38;5;28mself\u001b[39m)\n\u001b[0;32m    991\u001b[0m     copy \u001b[38;5;241m=\u001b[39m copy \u001b[38;5;28;01mif\u001b[39;00m copy \u001b[38;5;129;01mis\u001b[39;00m \u001b[38;5;129;01mnot\u001b[39;00m \u001b[38;5;28;01mNone\u001b[39;00m \u001b[38;5;28;01melse\u001b[39;00m \u001b[38;5;28mself\u001b[39m\u001b[38;5;241m.\u001b[39mcopy\n\u001b[0;32m    992\u001b[0m     X \u001b[38;5;241m=\u001b[39m \u001b[38;5;28mself\u001b[39m\u001b[38;5;241m.\u001b[39m_validate_data(\n\u001b[0;32m    993\u001b[0m         X,\n\u001b[0;32m    994\u001b[0m         reset\u001b[38;5;241m=\u001b[39m\u001b[38;5;28;01mFalse\u001b[39;00m,\n\u001b[1;32m   (...)\u001b[0m\n\u001b[0;32m    998\u001b[0m         force_all_finite\u001b[38;5;241m=\u001b[39m\u001b[38;5;124m\"\u001b[39m\u001b[38;5;124mallow-nan\u001b[39m\u001b[38;5;124m\"\u001b[39m,\n\u001b[0;32m    999\u001b[0m     )\n",
      "File \u001b[1;32mc:\\Users\\clemc\\anaconda3\\Lib\\site-packages\\sklearn\\utils\\validation.py:1390\u001b[0m, in \u001b[0;36mcheck_is_fitted\u001b[1;34m(estimator, attributes, msg, all_or_any)\u001b[0m\n\u001b[0;32m   1385\u001b[0m     fitted \u001b[38;5;241m=\u001b[39m [\n\u001b[0;32m   1386\u001b[0m         v \u001b[38;5;28;01mfor\u001b[39;00m v \u001b[38;5;129;01min\u001b[39;00m \u001b[38;5;28mvars\u001b[39m(estimator) \u001b[38;5;28;01mif\u001b[39;00m v\u001b[38;5;241m.\u001b[39mendswith(\u001b[38;5;124m\"\u001b[39m\u001b[38;5;124m_\u001b[39m\u001b[38;5;124m\"\u001b[39m) \u001b[38;5;129;01mand\u001b[39;00m \u001b[38;5;129;01mnot\u001b[39;00m v\u001b[38;5;241m.\u001b[39mstartswith(\u001b[38;5;124m\"\u001b[39m\u001b[38;5;124m__\u001b[39m\u001b[38;5;124m\"\u001b[39m)\n\u001b[0;32m   1387\u001b[0m     ]\n\u001b[0;32m   1389\u001b[0m \u001b[38;5;28;01mif\u001b[39;00m \u001b[38;5;129;01mnot\u001b[39;00m fitted:\n\u001b[1;32m-> 1390\u001b[0m     \u001b[38;5;28;01mraise\u001b[39;00m NotFittedError(msg \u001b[38;5;241m%\u001b[39m {\u001b[38;5;124m\"\u001b[39m\u001b[38;5;124mname\u001b[39m\u001b[38;5;124m\"\u001b[39m: \u001b[38;5;28mtype\u001b[39m(estimator)\u001b[38;5;241m.\u001b[39m\u001b[38;5;18m__name__\u001b[39m})\n",
      "\u001b[1;31mNotFittedError\u001b[0m: This StandardScaler instance is not fitted yet. Call 'fit' with appropriate arguments before using this estimator."
     ]
    }
   ],
   "source": [
    "score_reg_log = modele_reg_log.score(X_test, y_test)\n",
    "print(\"Le score du modèle est : \", score_reg_log)"
   ]
  },
  {
   "cell_type": "code",
   "execution_count": null,
   "metadata": {},
   "outputs": [
    {
     "ename": "NameError",
     "evalue": "name 'y_pred_reg_log' is not defined",
     "output_type": "error",
     "traceback": [
      "\u001b[1;31m---------------------------------------------------------------------------\u001b[0m",
      "\u001b[1;31mNameError\u001b[0m                                 Traceback (most recent call last)",
      "Cell \u001b[1;32mIn[18], line 4\u001b[0m\n\u001b[0;32m      1\u001b[0m \u001b[38;5;66;03m# Calcul de l'accuracy\u001b[39;00m\n\u001b[0;32m      2\u001b[0m \u001b[38;5;28;01mfrom\u001b[39;00m \u001b[38;5;21;01msklearn\u001b[39;00m\u001b[38;5;21;01m.\u001b[39;00m\u001b[38;5;21;01mmetrics\u001b[39;00m \u001b[38;5;28;01mimport\u001b[39;00m accuracy_score\n\u001b[1;32m----> 4\u001b[0m accuracy_reg_log \u001b[38;5;241m=\u001b[39m accuracy_score(y_test, y_pred_reg_log)\n\u001b[0;32m      5\u001b[0m \u001b[38;5;28mprint\u001b[39m(\u001b[38;5;124m\"\u001b[39m\u001b[38;5;124mL\u001b[39m\u001b[38;5;124m'\u001b[39m\u001b[38;5;124maccuracy est de : \u001b[39m\u001b[38;5;124m\"\u001b[39m, accuracy_reg_log)\n",
      "\u001b[1;31mNameError\u001b[0m: name 'y_pred_reg_log' is not defined"
     ]
    }
   ],
   "source": [
    "# Calcul de l'accuracy\n",
    "from sklearn.metrics import accuracy_score\n",
    "\n",
    "accuracy_reg_log = accuracy_score(y_test, y_pred_reg_log)\n",
    "print(\"L'accuracy est de : \", accuracy_reg_log)"
   ]
  },
  {
   "cell_type": "markdown",
   "metadata": {},
   "source": [
    "Nous allons construire la matrice de confusion pour avoir plus de précisions : "
   ]
  },
  {
   "cell_type": "code",
   "execution_count": null,
   "metadata": {},
   "outputs": [
    {
     "ename": "NameError",
     "evalue": "name 'y_pred_reg_log' is not defined",
     "output_type": "error",
     "traceback": [
      "\u001b[1;31m---------------------------------------------------------------------------\u001b[0m",
      "\u001b[1;31mNameError\u001b[0m                                 Traceback (most recent call last)",
      "Cell \u001b[1;32mIn[19], line 4\u001b[0m\n\u001b[0;32m      1\u001b[0m \u001b[38;5;66;03m# Calcul de la matrice de confusion\u001b[39;00m\n\u001b[0;32m      2\u001b[0m \u001b[38;5;28;01mfrom\u001b[39;00m \u001b[38;5;21;01msklearn\u001b[39;00m\u001b[38;5;21;01m.\u001b[39;00m\u001b[38;5;21;01mmetrics\u001b[39;00m \u001b[38;5;28;01mimport\u001b[39;00m confusion_matrix\n\u001b[1;32m----> 4\u001b[0m mat_conf_reg_log \u001b[38;5;241m=\u001b[39m confusion_matrix(y_test, y_pred_reg_log)\n\u001b[0;32m      5\u001b[0m \u001b[38;5;28mprint\u001b[39m(\u001b[38;5;124m\"\u001b[39m\u001b[38;5;124mLa matrice de confusion est : \u001b[39m\u001b[38;5;130;01m\\n\u001b[39;00m\u001b[38;5;124m\"\u001b[39m, mat_conf_reg_log)\n",
      "\u001b[1;31mNameError\u001b[0m: name 'y_pred_reg_log' is not defined"
     ]
    }
   ],
   "source": [
    "# Calcul de la matrice de confusion\n",
    "from sklearn.metrics import confusion_matrix\n",
    "\n",
    "mat_conf_reg_log = confusion_matrix(y_test, y_pred_reg_log)\n",
    "print(\"La matrice de confusion est : \\n\", mat_conf_reg_log)\n"
   ]
  },
  {
   "cell_type": "code",
   "execution_count": null,
   "metadata": {},
   "outputs": [
    {
     "data": {
      "text/plain": [
       "Text(0.5, 427.9555555555555, 'valeur prédite')"
      ]
     },
     "execution_count": 222,
     "metadata": {},
     "output_type": "execute_result"
    },
    {
     "data": {
      "image/png": "[encoded data removed]",
      "text/plain": [
       "<Figure size 640x480 with 2 Axes>"
      ]
     },
     "metadata": {},
     "output_type": "display_data"
    }
   ],
   "source": [
    "import numpy as np\n",
    "import matplotlib.pyplot as plt\n",
    "import seaborn as sns\n",
    "\n",
    "modalites =[0,1] \n",
    "fig, ax = plt.subplots()\n",
    "tick_marks = np.arange(len(modalites))\n",
    "plt.xticks(tick_marks, modalites)\n",
    "plt.yticks(tick_marks, modalites)\n",
    "\n",
    "sns.heatmap(pd.DataFrame(mat_conf_reg_log), annot=True, cmap=\"YlGnBu\" ,fmt='g')\n",
    "ax.xaxis.set_label_position(\"top\")\n",
    "plt.tight_layout()\n",
    "plt.title('Matrice de confusion', y=1.1)\n",
    "plt.ylabel('Valeur observée')\n",
    "plt.xlabel('valeur prédite')"
   ]
  },
  {
   "cell_type": "markdown",
   "metadata": {},
   "source": [
    "Nous allons maintenant tracer la courbe ROC"
   ]
  },
  {
   "cell_type": "code",
   "execution_count": null,
   "metadata": {},
   "outputs": [
    {
     "data": {
      "image/png": "[encoded data removed]",
      "text/plain": [
       "<Figure size 1000x600 with 1 Axes>"
      ]
     },
     "metadata": {},
     "output_type": "display_data"
    }
   ],
   "source": [
    "import matplotlib.pyplot as plt\n",
    "from sklearn.metrics import roc_curve, auc\n",
    "\n",
    "y_pred_prob_reg_log = modele_reg_log.predict_proba(X_test)[:, 1] # probabilité que la classe soit 1\n",
    "fpr, tpr, thresholds = roc_curve(y_test, y_pred_prob_reg_log) # calcul des taux de faux positifs et vrais positifs\n",
    "roc_auc = auc(fpr, tpr) # calcul de l'aire sous la courbe ROC\n",
    "\n",
    "# Tracé de la courbe ROC\n",
    "plt.figure(figsize=(10, 6))\n",
    "plt.plot(fpr, tpr, label='Courbe ROC (AUC = %0.2f)' % roc_auc)\n",
    "plt.plot([0, 1], [0, 1], 'k--') # ligne en pointillés représentant la performance d'un classificateur aléatoire\n",
    "plt.xlim([0.0, 1.0])\n",
    "plt.ylim([0.0, 1.05])\n",
    "plt.xlabel(\"Taux de faux positif (1 - spécificité)\")\n",
    "plt.ylabel('Taux de vrai positif (sensibilité)')\n",
    "plt.title('Courbe ROC')\n",
    "plt.legend(loc=\"lower right\")\n",
    "plt.show()"
   ]
  },
  {
   "cell_type": "markdown",
   "metadata": {},
   "source": [
    "Nous allons maintenant calculer un score"
   ]
  },
  {
   "cell_type": "code",
   "execution_count": null,
   "metadata": {},
   "outputs": [
    {
     "data": {
      "text/plain": [
       "0.6795689131754705"
      ]
     },
     "execution_count": 224,
     "metadata": {},
     "output_type": "execute_result"
    }
   ],
   "source": [
    "# Calcul du score AUC\n",
    "\n",
    "from sklearn.metrics import roc_auc_score\n",
    "\n",
    "score_auc_reg_log = roc_auc_score(y_test, y_pred_prob_reg_log)\n",
    "score_auc_reg_log"
   ]
  },
  {
   "cell_type": "code",
   "execution_count": null,
   "metadata": {},
   "outputs": [
    {
     "name": "stdout",
     "output_type": "stream",
     "text": [
      "Precision: 0.2926829268292683\n"
     ]
    }
   ],
   "source": [
    "# Calcul de la précision\n",
    "\n",
    "from sklearn.metrics import precision_score\n",
    "\n",
    "precision_reg_log = precision_score(y_test, y_pred_reg_log)\n",
    "print(\"Precision:\", precision_reg_log)"
   ]
  },
  {
   "cell_type": "code",
   "execution_count": null,
   "metadata": {},
   "outputs": [
    {
     "name": "stdout",
     "output_type": "stream",
     "text": [
      "Recall: 0.6666666666666666\n"
     ]
    }
   ],
   "source": [
    "from sklearn.metrics import recall_score\n",
    "\n",
    "recall_reg_log = recall_score(y_test, y_pred_reg_log)\n",
    "print(\"Recall:\", recall_reg_log)"
   ]
  },
  {
   "cell_type": "code",
   "execution_count": null,
   "metadata": {},
   "outputs": [
    {
     "name": "stdout",
     "output_type": "stream",
     "text": [
      "F1-Score: 0.4067796610169492\n"
     ]
    }
   ],
   "source": [
    "from sklearn.metrics import f1_score\n",
    "\n",
    "# Calculate and print F1-score\n",
    "f1_reg_log = f1_score(y_test, y_pred_reg_log)\n",
    "print(\"F1-Score:\", f1_reg_log)"
   ]
  },
  {
   "cell_type": "markdown",
   "metadata": {},
   "source": [
    "Nous allons faire un résumé des métriques pour ce modèle : "
   ]
  },
  {
   "cell_type": "code",
   "execution_count": null,
   "metadata": {},
   "outputs": [
    {
     "name": "stdout",
     "output_type": "stream",
     "text": [
      "Modèle de régression logistique \n",
      "\n",
      "Score AUC: 0.6795689131754705\n",
      "F1-Score: 0.4067796610169492\n"
     ]
    }
   ],
   "source": [
    "# Résumé du modèle de régression logistique\n",
    "\n",
    "print(\"Modèle de régression logistique \\n\")\n",
    "#print(\"L'accuracy est de : \", accuracy_reg_log) # pas utile pour les données déséquilibrées\n",
    "#print(\"Score du modèle:\", score_reg_log) # pas utile pour les données déséquilibrées\n",
    "print(\"Score AUC:\", score_auc_reg_log) \n",
    "#print(\"Precision:\", precision_reg_log) # on affiche déjà le F1-score\n",
    "#print(\"Recall:\", recall_reg_log) # on affiche déjà le F1-score\n",
    "print(\"F1-Score:\", f1_reg_log)"
   ]
  },
  {
   "cell_type": "markdown",
   "metadata": {},
   "source": [
    "### I.2.3. Forêts Aléatoires "
   ]
  },
  {
   "cell_type": "markdown",
   "metadata": {},
   "source": [
    "#### A) Construction du modèle"
   ]
  },
  {
   "cell_type": "code",
   "execution_count": null,
   "metadata": {},
   "outputs": [
    {
     "data": {
      "text/html": [
       "<style>#sk-container-id-14 {color: black;background-color: white;}#sk-container-id-14 pre{padding: 0;}#sk-container-id-14 div.sk-toggleable {background-color: white;}#sk-container-id-14 label.sk-toggleable__label {cursor: pointer;display: block;width: 100%;margin-bottom: 0;padding: 0.3em;box-sizing: border-box;text-align: center;}#sk-container-id-14 label.sk-toggleable__label-arrow:before {content: \"▸\";float: left;margin-right: 0.25em;color: #696969;}#sk-container-id-14 label.sk-toggleable__label-arrow:hover:before {color: black;}#sk-container-id-14 div.sk-estimator:hover label.sk-toggleable__label-arrow:before {color: black;}#sk-container-id-14 div.sk-toggleable__content {max-height: 0;max-width: 0;overflow: hidden;text-align: left;background-color: #f0f8ff;}#sk-container-id-14 div.sk-toggleable__content pre {margin: 0.2em;color: black;border-radius: 0.25em;background-color: #f0f8ff;}#sk-container-id-14 input.sk-toggleable__control:checked~div.sk-toggleable__content {max-height: 200px;max-width: 100%;overflow: auto;}#sk-container-id-14 input.sk-toggleable__control:checked~label.sk-toggleable__label-arrow:before {content: \"▾\";}#sk-container-id-14 div.sk-estimator input.sk-toggleable__control:checked~label.sk-toggleable__label {background-color: #d4ebff;}#sk-container-id-14 div.sk-label input.sk-toggleable__control:checked~label.sk-toggleable__label {background-color: #d4ebff;}#sk-container-id-14 input.sk-hidden--visually {border: 0;clip: rect(1px 1px 1px 1px);clip: rect(1px, 1px, 1px, 1px);height: 1px;margin: -1px;overflow: hidden;padding: 0;position: absolute;width: 1px;}#sk-container-id-14 div.sk-estimator {font-family: monospace;background-color: #f0f8ff;border: 1px dotted black;border-radius: 0.25em;box-sizing: border-box;margin-bottom: 0.5em;}#sk-container-id-14 div.sk-estimator:hover {background-color: #d4ebff;}#sk-container-id-14 div.sk-parallel-item::after {content: \"\";width: 100%;border-bottom: 1px solid gray;flex-grow: 1;}#sk-container-id-14 div.sk-label:hover label.sk-toggleable__label {background-color: #d4ebff;}#sk-container-id-14 div.sk-serial::before {content: \"\";position: absolute;border-left: 1px solid gray;box-sizing: border-box;top: 0;bottom: 0;left: 50%;z-index: 0;}#sk-container-id-14 div.sk-serial {display: flex;flex-direction: column;align-items: center;background-color: white;padding-right: 0.2em;padding-left: 0.2em;position: relative;}#sk-container-id-14 div.sk-item {position: relative;z-index: 1;}#sk-container-id-14 div.sk-parallel {display: flex;align-items: stretch;justify-content: center;background-color: white;position: relative;}#sk-container-id-14 div.sk-item::before, #sk-container-id-14 div.sk-parallel-item::before {content: \"\";position: absolute;border-left: 1px solid gray;box-sizing: border-box;top: 0;bottom: 0;left: 50%;z-index: -1;}#sk-container-id-14 div.sk-parallel-item {display: flex;flex-direction: column;z-index: 1;position: relative;background-color: white;}#sk-container-id-14 div.sk-parallel-item:first-child::after {align-self: flex-end;width: 50%;}#sk-container-id-14 div.sk-parallel-item:last-child::after {align-self: flex-start;width: 50%;}#sk-container-id-14 div.sk-parallel-item:only-child::after {width: 0;}#sk-container-id-14 div.sk-dashed-wrapped {border: 1px dashed gray;margin: 0 0.4em 0.5em 0.4em;box-sizing: border-box;padding-bottom: 0.4em;background-color: white;}#sk-container-id-14 div.sk-label label {font-family: monospace;font-weight: bold;display: inline-block;line-height: 1.2em;}#sk-container-id-14 div.sk-label-container {text-align: center;}#sk-container-id-14 div.sk-container {/* jupyter's `normalize.less` sets `[hidden] { display: none; }` but bootstrap.min.css set `[hidden] { display: none !important; }` so we also need the `!important` here to be able to override the default hidden behavior on the sphinx rendered scikit-learn.org. See: https://github.com/scikit-learn/scikit-learn/issues/21755 */display: inline-block !important;position: relative;}#sk-container-id-14 div.sk-text-repr-fallback {display: none;}</style><div id=\"sk-container-id-14\" class=\"sk-top-container\"><div class=\"sk-text-repr-fallback\"><pre>Pipeline(steps=[(&#x27;std_scaler&#x27;, StandardScaler()), (&#x27;smote&#x27;, SMOTE()),\n",
       "                (&#x27;clf_forets&#x27;, RandomForestClassifier())])</pre><b>In a Jupyter environment, please rerun this cell to show the HTML representation or trust the notebook. <br />On GitHub, the HTML representation is unable to render, please try loading this page with nbviewer.org.</b></div><div class=\"sk-container\" hidden><div class=\"sk-item sk-dashed-wrapped\"><div class=\"sk-label-container\"><div class=\"sk-label sk-toggleable\"><input class=\"sk-toggleable__control sk-hidden--visually\" id=\"sk-estimator-id-53\" type=\"checkbox\" ><label for=\"sk-estimator-id-53\" class=\"sk-toggleable__label sk-toggleable__label-arrow\">Pipeline</label><div class=\"sk-toggleable__content\"><pre>Pipeline(steps=[(&#x27;std_scaler&#x27;, StandardScaler()), (&#x27;smote&#x27;, SMOTE()),\n",
       "                (&#x27;clf_forets&#x27;, RandomForestClassifier())])</pre></div></div></div><div class=\"sk-serial\"><div class=\"sk-item\"><div class=\"sk-estimator sk-toggleable\"><input class=\"sk-toggleable__control sk-hidden--visually\" id=\"sk-estimator-id-54\" type=\"checkbox\" ><label for=\"sk-estimator-id-54\" class=\"sk-toggleable__label sk-toggleable__label-arrow\">StandardScaler</label><div class=\"sk-toggleable__content\"><pre>StandardScaler()</pre></div></div></div><div class=\"sk-item\"><div class=\"sk-estimator sk-toggleable\"><input class=\"sk-toggleable__control sk-hidden--visually\" id=\"sk-estimator-id-55\" type=\"checkbox\" ><label for=\"sk-estimator-id-55\" class=\"sk-toggleable__label sk-toggleable__label-arrow\">SMOTE</label><div class=\"sk-toggleable__content\"><pre>SMOTE()</pre></div></div></div><div class=\"sk-item\"><div class=\"sk-estimator sk-toggleable\"><input class=\"sk-toggleable__control sk-hidden--visually\" id=\"sk-estimator-id-56\" type=\"checkbox\" ><label for=\"sk-estimator-id-56\" class=\"sk-toggleable__label sk-toggleable__label-arrow\">RandomForestClassifier</label><div class=\"sk-toggleable__content\"><pre>RandomForestClassifier()</pre></div></div></div></div></div></div></div>"
      ],
      "text/plain": [
       "Pipeline(steps=[('std_scaler', StandardScaler()), ('smote', SMOTE()),\n",
       "                ('clf_forets', RandomForestClassifier())])"
      ]
     },
     "execution_count": 229,
     "metadata": {},
     "output_type": "execute_result"
    }
   ],
   "source": [
    "from sklearn.ensemble import RandomForestClassifier\n",
    "from imblearn.pipeline import Pipeline\n",
    "\n",
    "etapes = ([\n",
    "    (\"std_scaler\", StandardScaler()),\n",
    "    (\"undersampler\", RandomOverSampler()),\n",
    "    (\"clf_forets\", RandomForestClassifier())\n",
    "])\n",
    "\n",
    "etapes_smote = [('std_scaler', StandardScaler()), # Standardisation des variables\n",
    "        ('smote', SMOTE()), # Sur-échantillonnage\n",
    "        ('clf_forets', RandomForestClassifier()), # Forets alétaoires \n",
    "        ]\n",
    "\n",
    "model_random_forest = Pipeline(steps=etapes_smote)\n",
    "\n",
    "model_random_forest.fit(X_train, y_train)"
   ]
  },
  {
   "cell_type": "code",
   "execution_count": null,
   "metadata": {},
   "outputs": [],
   "source": [
    "y_pred_random_forest = model_random_forest.predict(X_test)"
   ]
  },
  {
   "cell_type": "markdown",
   "metadata": {},
   "source": [
    "#### B) Mesure de la performance"
   ]
  },
  {
   "cell_type": "code",
   "execution_count": null,
   "metadata": {},
   "outputs": [
    {
     "name": "stdout",
     "output_type": "stream",
     "text": [
      "Le score du modèle est :  0.7583892617449665\n"
     ]
    }
   ],
   "source": [
    "score_random_forest = model_random_forest.score(X_test, y_test)\n",
    "print(\"Le score du modèle est : \", score_random_forest)"
   ]
  },
  {
   "cell_type": "code",
   "execution_count": null,
   "metadata": {},
   "outputs": [
    {
     "name": "stdout",
     "output_type": "stream",
     "text": [
      "La matrice de confusion est : \n",
      " [[157  87]\n",
      " [ 18  36]]\n"
     ]
    }
   ],
   "source": [
    "# Calcul de la matrice de confusion\n",
    "from sklearn.metrics import confusion_matrix\n",
    "\n",
    "mat_conf_random_forest = confusion_matrix(y_test, y_pred_reg_log)\n",
    "print(\"La matrice de confusion est : \\n\", mat_conf_random_forest)"
   ]
  },
  {
   "cell_type": "code",
   "execution_count": null,
   "metadata": {},
   "outputs": [
    {
     "data": {
      "text/plain": [
       "Text(0.5, 427.9555555555555, 'valeur prédite')"
      ]
     },
     "execution_count": 233,
     "metadata": {},
     "output_type": "execute_result"
    },
    {
     "data": {
      "image/png": "[encoded data removed]",
      "text/plain": [
       "<Figure size 640x480 with 2 Axes>"
      ]
     },
     "metadata": {},
     "output_type": "display_data"
    }
   ],
   "source": [
    "import numpy as np\n",
    "import matplotlib.pyplot as plt\n",
    "import seaborn as sns\n",
    "\n",
    "modalites =[0,1] \n",
    "fig, ax = plt.subplots()\n",
    "tick_marks = np.arange(len(modalites))\n",
    "plt.xticks(tick_marks, modalites)\n",
    "plt.yticks(tick_marks, modalites)\n",
    "\n",
    "sns.heatmap(pd.DataFrame(mat_conf_random_forest), annot=True, cmap=\"YlGnBu\" ,fmt='g')\n",
    "ax.xaxis.set_label_position(\"top\")\n",
    "plt.tight_layout()\n",
    "plt.title('Matrice de confusion', y=1.1)\n",
    "plt.ylabel('Valeur observée')\n",
    "plt.xlabel('valeur prédite')"
   ]
  },
  {
   "cell_type": "code",
   "execution_count": null,
   "metadata": {},
   "outputs": [
    {
     "data": {
      "image/png": "[encoded data removed]",
      "text/plain": [
       "<Figure size 1000x600 with 1 Axes>"
      ]
     },
     "metadata": {},
     "output_type": "display_data"
    }
   ],
   "source": [
    "import matplotlib.pyplot as plt\n",
    "from sklearn.metrics import roc_curve, auc\n",
    "\n",
    "y_pred_prob_random_forest = model_random_forest.predict_proba(X_test)[:, 1] # probabilité que la classe soit 1\n",
    "fpr, tpr, thresholds = roc_curve(y_test, y_pred_prob_random_forest) # calcul des taux de faux positifs et vrais positifs\n",
    "roc_auc = auc(fpr, tpr) # calcul de l'aire sous la courbe ROC\n",
    "\n",
    "# Tracé de la courbe ROC\n",
    "plt.figure(figsize=(10, 6))\n",
    "plt.plot(fpr, tpr, label='Courbe ROC (AUC = %0.2f)' % roc_auc)\n",
    "plt.plot([0, 1], [0, 1], 'k--') # ligne en pointillés représentant la performance d'un classificateur aléatoire\n",
    "plt.xlim([0.0, 1.0])\n",
    "plt.ylim([0.0, 1.05])\n",
    "plt.xlabel(\"Taux de faux positif (1 - spécificité)\")\n",
    "plt.ylabel('Taux de vrai positif (sensibilité)')\n",
    "plt.title('Courbe ROC')\n",
    "plt.legend(loc=\"lower right\")\n",
    "plt.show()"
   ]
  },
  {
   "cell_type": "code",
   "execution_count": null,
   "metadata": {},
   "outputs": [
    {
     "data": {
      "text/plain": [
       "0.6265558591378263"
      ]
     },
     "execution_count": 235,
     "metadata": {},
     "output_type": "execute_result"
    }
   ],
   "source": [
    "# Calcul du score AUC\n",
    "\n",
    "from sklearn.metrics import roc_auc_score\n",
    "\n",
    "score_auc_random_forest = roc_auc_score(y_test, y_pred_prob_random_forest)\n",
    "score_auc_random_forest"
   ]
  },
  {
   "cell_type": "code",
   "execution_count": null,
   "metadata": {},
   "outputs": [
    {
     "name": "stdout",
     "output_type": "stream",
     "text": [
      "Precision: 0.2631578947368421\n"
     ]
    }
   ],
   "source": [
    "# Calcul de la précision\n",
    "\n",
    "from sklearn.metrics import precision_score\n",
    "\n",
    "precision_random_forest = precision_score(y_test, y_pred_random_forest)\n",
    "print(\"Precision:\", precision_random_forest)"
   ]
  },
  {
   "cell_type": "code",
   "execution_count": null,
   "metadata": {},
   "outputs": [
    {
     "name": "stdout",
     "output_type": "stream",
     "text": [
      "Recall: 0.18518518518518517\n"
     ]
    }
   ],
   "source": [
    "from sklearn.metrics import recall_score\n",
    "\n",
    "recall_random_forest = recall_score(y_test, y_pred_random_forest)\n",
    "print(\"Recall:\", recall_random_forest)"
   ]
  },
  {
   "cell_type": "code",
   "execution_count": null,
   "metadata": {},
   "outputs": [
    {
     "name": "stdout",
     "output_type": "stream",
     "text": [
      "F1-Score: 0.4067796610169492\n"
     ]
    }
   ],
   "source": [
    "from sklearn.metrics import f1_score\n",
    "\n",
    "# Calculate and print F1-score\n",
    "f1_random_forest = f1_score(y_test, y_pred_random_forest)\n",
    "print(\"F1-Score:\", f1_reg_log)"
   ]
  },
  {
   "cell_type": "code",
   "execution_count": null,
   "metadata": {},
   "outputs": [
    {
     "name": "stdout",
     "output_type": "stream",
     "text": [
      "Modèle de forêts aléatoires \n",
      "\n",
      "Score AUC: 0.6265558591378263\n",
      "F1-Score: 0.21739130434782608\n"
     ]
    }
   ],
   "source": [
    "# Résumé du modèle de forêts aléatoires\n",
    "\n",
    "print(\"Modèle de forêts aléatoires \\n\")\n",
    "print(\"Score AUC:\", score_auc_random_forest) \n",
    "print(\"F1-Score:\", f1_random_forest)"
   ]
  },
  {
   "cell_type": "markdown",
   "metadata": {},
   "source": [
    "### I.2.4. Gradient Boosting"
   ]
  },
  {
   "cell_type": "markdown",
   "metadata": {},
   "source": [
    "#### A) Construction du modèle"
   ]
  },
  {
   "cell_type": "code",
   "execution_count": null,
   "metadata": {},
   "outputs": [],
   "source": [
    "from sklearn.ensemble import GradientBoostingClassifier\n",
    "\n",
    "# Modèle de gradient boosting\n",
    "etapes = ([(\"std_scaler\", StandardScaler()),\n",
    "              (\"smote\", SMOTE()),\n",
    "              (\"clf_boosting\", GradientBoostingClassifier())\n",
    "    ])\n",
    "\n",
    "model_gradient_boosting = Pipeline(steps=etapes)"
   ]
  },
  {
   "cell_type": "code",
   "execution_count": null,
   "metadata": {},
   "outputs": [
    {
     "data": {
      "text/html": [
       "<style>#sk-container-id-15 {color: black;background-color: white;}#sk-container-id-15 pre{padding: 0;}#sk-container-id-15 div.sk-toggleable {background-color: white;}#sk-container-id-15 label.sk-toggleable__label {cursor: pointer;display: block;width: 100%;margin-bottom: 0;padding: 0.3em;box-sizing: border-box;text-align: center;}#sk-container-id-15 label.sk-toggleable__label-arrow:before {content: \"▸\";float: left;margin-right: 0.25em;color: #696969;}#sk-container-id-15 label.sk-toggleable__label-arrow:hover:before {color: black;}#sk-container-id-15 div.sk-estimator:hover label.sk-toggleable__label-arrow:before {color: black;}#sk-container-id-15 div.sk-toggleable__content {max-height: 0;max-width: 0;overflow: hidden;text-align: left;background-color: #f0f8ff;}#sk-container-id-15 div.sk-toggleable__content pre {margin: 0.2em;color: black;border-radius: 0.25em;background-color: #f0f8ff;}#sk-container-id-15 input.sk-toggleable__control:checked~div.sk-toggleable__content {max-height: 200px;max-width: 100%;overflow: auto;}#sk-container-id-15 input.sk-toggleable__control:checked~label.sk-toggleable__label-arrow:before {content: \"▾\";}#sk-container-id-15 div.sk-estimator input.sk-toggleable__control:checked~label.sk-toggleable__label {background-color: #d4ebff;}#sk-container-id-15 div.sk-label input.sk-toggleable__control:checked~label.sk-toggleable__label {background-color: #d4ebff;}#sk-container-id-15 input.sk-hidden--visually {border: 0;clip: rect(1px 1px 1px 1px);clip: rect(1px, 1px, 1px, 1px);height: 1px;margin: -1px;overflow: hidden;padding: 0;position: absolute;width: 1px;}#sk-container-id-15 div.sk-estimator {font-family: monospace;background-color: #f0f8ff;border: 1px dotted black;border-radius: 0.25em;box-sizing: border-box;margin-bottom: 0.5em;}#sk-container-id-15 div.sk-estimator:hover {background-color: #d4ebff;}#sk-container-id-15 div.sk-parallel-item::after {content: \"\";width: 100%;border-bottom: 1px solid gray;flex-grow: 1;}#sk-container-id-15 div.sk-label:hover label.sk-toggleable__label {background-color: #d4ebff;}#sk-container-id-15 div.sk-serial::before {content: \"\";position: absolute;border-left: 1px solid gray;box-sizing: border-box;top: 0;bottom: 0;left: 50%;z-index: 0;}#sk-container-id-15 div.sk-serial {display: flex;flex-direction: column;align-items: center;background-color: white;padding-right: 0.2em;padding-left: 0.2em;position: relative;}#sk-container-id-15 div.sk-item {position: relative;z-index: 1;}#sk-container-id-15 div.sk-parallel {display: flex;align-items: stretch;justify-content: center;background-color: white;position: relative;}#sk-container-id-15 div.sk-item::before, #sk-container-id-15 div.sk-parallel-item::before {content: \"\";position: absolute;border-left: 1px solid gray;box-sizing: border-box;top: 0;bottom: 0;left: 50%;z-index: -1;}#sk-container-id-15 div.sk-parallel-item {display: flex;flex-direction: column;z-index: 1;position: relative;background-color: white;}#sk-container-id-15 div.sk-parallel-item:first-child::after {align-self: flex-end;width: 50%;}#sk-container-id-15 div.sk-parallel-item:last-child::after {align-self: flex-start;width: 50%;}#sk-container-id-15 div.sk-parallel-item:only-child::after {width: 0;}#sk-container-id-15 div.sk-dashed-wrapped {border: 1px dashed gray;margin: 0 0.4em 0.5em 0.4em;box-sizing: border-box;padding-bottom: 0.4em;background-color: white;}#sk-container-id-15 div.sk-label label {font-family: monospace;font-weight: bold;display: inline-block;line-height: 1.2em;}#sk-container-id-15 div.sk-label-container {text-align: center;}#sk-container-id-15 div.sk-container {/* jupyter's `normalize.less` sets `[hidden] { display: none; }` but bootstrap.min.css set `[hidden] { display: none !important; }` so we also need the `!important` here to be able to override the default hidden behavior on the sphinx rendered scikit-learn.org. See: https://github.com/scikit-learn/scikit-learn/issues/21755 */display: inline-block !important;position: relative;}#sk-container-id-15 div.sk-text-repr-fallback {display: none;}</style><div id=\"sk-container-id-15\" class=\"sk-top-container\"><div class=\"sk-text-repr-fallback\"><pre>Pipeline(steps=[(&#x27;std_scaler&#x27;, StandardScaler()), (&#x27;smote&#x27;, SMOTE()),\n",
       "                (&#x27;clf_boosting&#x27;, GradientBoostingClassifier())])</pre><b>In a Jupyter environment, please rerun this cell to show the HTML representation or trust the notebook. <br />On GitHub, the HTML representation is unable to render, please try loading this page with nbviewer.org.</b></div><div class=\"sk-container\" hidden><div class=\"sk-item sk-dashed-wrapped\"><div class=\"sk-label-container\"><div class=\"sk-label sk-toggleable\"><input class=\"sk-toggleable__control sk-hidden--visually\" id=\"sk-estimator-id-57\" type=\"checkbox\" ><label for=\"sk-estimator-id-57\" class=\"sk-toggleable__label sk-toggleable__label-arrow\">Pipeline</label><div class=\"sk-toggleable__content\"><pre>Pipeline(steps=[(&#x27;std_scaler&#x27;, StandardScaler()), (&#x27;smote&#x27;, SMOTE()),\n",
       "                (&#x27;clf_boosting&#x27;, GradientBoostingClassifier())])</pre></div></div></div><div class=\"sk-serial\"><div class=\"sk-item\"><div class=\"sk-estimator sk-toggleable\"><input class=\"sk-toggleable__control sk-hidden--visually\" id=\"sk-estimator-id-58\" type=\"checkbox\" ><label for=\"sk-estimator-id-58\" class=\"sk-toggleable__label sk-toggleable__label-arrow\">StandardScaler</label><div class=\"sk-toggleable__content\"><pre>StandardScaler()</pre></div></div></div><div class=\"sk-item\"><div class=\"sk-estimator sk-toggleable\"><input class=\"sk-toggleable__control sk-hidden--visually\" id=\"sk-estimator-id-59\" type=\"checkbox\" ><label for=\"sk-estimator-id-59\" class=\"sk-toggleable__label sk-toggleable__label-arrow\">SMOTE</label><div class=\"sk-toggleable__content\"><pre>SMOTE()</pre></div></div></div><div class=\"sk-item\"><div class=\"sk-estimator sk-toggleable\"><input class=\"sk-toggleable__control sk-hidden--visually\" id=\"sk-estimator-id-60\" type=\"checkbox\" ><label for=\"sk-estimator-id-60\" class=\"sk-toggleable__label sk-toggleable__label-arrow\">GradientBoostingClassifier</label><div class=\"sk-toggleable__content\"><pre>GradientBoostingClassifier()</pre></div></div></div></div></div></div></div>"
      ],
      "text/plain": [
       "Pipeline(steps=[('std_scaler', StandardScaler()), ('smote', SMOTE()),\n",
       "                ('clf_boosting', GradientBoostingClassifier())])"
      ]
     },
     "execution_count": 241,
     "metadata": {},
     "output_type": "execute_result"
    }
   ],
   "source": [
    "model_gradient_boosting.fit(X_train, y_train)"
   ]
  },
  {
   "cell_type": "code",
   "execution_count": null,
   "metadata": {},
   "outputs": [],
   "source": [
    "y_pred_gradient_boosting = model_gradient_boosting.predict(X_test)"
   ]
  },
  {
   "cell_type": "markdown",
   "metadata": {},
   "source": [
    "#### B) Mesure de la performance"
   ]
  },
  {
   "cell_type": "code",
   "execution_count": null,
   "metadata": {},
   "outputs": [
    {
     "name": "stdout",
     "output_type": "stream",
     "text": [
      "Le score du modèle est :  0.6476510067114094\n"
     ]
    }
   ],
   "source": [
    "score_gradient_boosting = modele_reg_log.score(X_test, y_test)\n",
    "print(\"Le score du modèle est : \", score_gradient_boosting)"
   ]
  },
  {
   "cell_type": "code",
   "execution_count": null,
   "metadata": {},
   "outputs": [
    {
     "name": "stdout",
     "output_type": "stream",
     "text": [
      "La matrice de confusion est : \n",
      " [[214  30]\n",
      " [ 44  10]]\n"
     ]
    }
   ],
   "source": [
    "# Calcul de la matrice de confusion\n",
    "from sklearn.metrics import confusion_matrix\n",
    "\n",
    "mat_conf_gradient_boosting = confusion_matrix(y_test, y_pred_gradient_boosting)\n",
    "print(\"La matrice de confusion est : \\n\", mat_conf_gradient_boosting)"
   ]
  },
  {
   "cell_type": "code",
   "execution_count": null,
   "metadata": {},
   "outputs": [
    {
     "data": {
      "text/plain": [
       "Text(0.5, 427.9555555555555, 'valeur prédite')"
      ]
     },
     "execution_count": 245,
     "metadata": {},
     "output_type": "execute_result"
    },
    {
     "data": {
      "image/png": "[encoded data removed]",
      "text/plain": [
       "<Figure size 640x480 with 2 Axes>"
      ]
     },
     "metadata": {},
     "output_type": "display_data"
    }
   ],
   "source": [
    "import numpy as np\n",
    "import matplotlib.pyplot as plt\n",
    "import seaborn as sns\n",
    "\n",
    "modalites =[0,1] \n",
    "fig, ax = plt.subplots()\n",
    "tick_marks = np.arange(len(modalites))\n",
    "plt.xticks(tick_marks, modalites)\n",
    "plt.yticks(tick_marks, modalites)\n",
    "\n",
    "sns.heatmap(pd.DataFrame(mat_conf_gradient_boosting), annot=True, cmap=\"YlGnBu\" ,fmt='g')\n",
    "ax.xaxis.set_label_position(\"top\")\n",
    "plt.tight_layout()\n",
    "plt.title('Matrice de confusion', y=1.1)\n",
    "plt.ylabel('Valeur observée')\n",
    "plt.xlabel('valeur prédite')"
   ]
  },
  {
   "cell_type": "code",
   "execution_count": null,
   "metadata": {},
   "outputs": [
    {
     "data": {
      "image/png": "[encoded data removed]",
      "text/plain": [
       "<Figure size 1000x600 with 1 Axes>"
      ]
     },
     "metadata": {},
     "output_type": "display_data"
    }
   ],
   "source": [
    "import matplotlib.pyplot as plt\n",
    "from sklearn.metrics import roc_curve, auc\n",
    "\n",
    "y_pred_prob_gradient_boosting = model_gradient_boosting.predict_proba(X_test)[:, 1] # probabilité que la classe soit 1\n",
    "fpr, tpr, thresholds = roc_curve(y_test, y_pred_prob_gradient_boosting) # calcul des taux de faux positifs et vrais positifs\n",
    "roc_auc = auc(fpr, tpr) # calcul de l'aire sous la courbe ROC\n",
    "\n",
    "# Tracé de la courbe ROC\n",
    "plt.figure(figsize=(10, 6))\n",
    "plt.plot(fpr, tpr, label='Courbe ROC (AUC = %0.2f)' % roc_auc)\n",
    "plt.plot([0, 1], [0, 1], 'k--') # ligne en pointillés représentant la performance d'un classificateur aléatoire\n",
    "plt.xlim([0.0, 1.0])\n",
    "plt.ylim([0.0, 1.05])\n",
    "plt.xlabel(\"Taux de faux positif (1 - spécificité)\")\n",
    "plt.ylabel('Taux de vrai positif (sensibilité)')\n",
    "plt.title('Courbe ROC')\n",
    "plt.legend(loc=\"lower right\")\n",
    "plt.show()"
   ]
  },
  {
   "cell_type": "code",
   "execution_count": null,
   "metadata": {},
   "outputs": [
    {
     "data": {
      "text/plain": [
       "0.6241651487553127"
      ]
     },
     "execution_count": 247,
     "metadata": {},
     "output_type": "execute_result"
    }
   ],
   "source": [
    "# Calcul du score AUC\n",
    "\n",
    "from sklearn.metrics import roc_auc_score\n",
    "\n",
    "score_auc_gradient_boosting = roc_auc_score(y_test, y_pred_prob_gradient_boosting)\n",
    "score_auc_gradient_boosting"
   ]
  },
  {
   "cell_type": "code",
   "execution_count": null,
   "metadata": {},
   "outputs": [
    {
     "name": "stdout",
     "output_type": "stream",
     "text": [
      "Precision: 0.25\n"
     ]
    }
   ],
   "source": [
    "# Calcul de la précision\n",
    "\n",
    "from sklearn.metrics import precision_score\n",
    "\n",
    "precision_gradient_boosting = precision_score(y_test, y_pred_gradient_boosting)\n",
    "print(\"Precision:\", precision_gradient_boosting)"
   ]
  },
  {
   "cell_type": "code",
   "execution_count": null,
   "metadata": {},
   "outputs": [
    {
     "name": "stdout",
     "output_type": "stream",
     "text": [
      "Recall: 0.18518518518518517\n"
     ]
    }
   ],
   "source": [
    "from sklearn.metrics import recall_score\n",
    "\n",
    "recall_gradient_boosting = recall_score(y_test, y_pred_gradient_boosting)\n",
    "print(\"Recall:\", recall_gradient_boosting)"
   ]
  },
  {
   "cell_type": "code",
   "execution_count": null,
   "metadata": {},
   "outputs": [
    {
     "name": "stdout",
     "output_type": "stream",
     "text": [
      "F1-Score: 0.2127659574468085\n"
     ]
    }
   ],
   "source": [
    "from sklearn.metrics import f1_score\n",
    "\n",
    "# Calculate and print F1-score\n",
    "f1_gradient_boosting = f1_score(y_test, y_pred_gradient_boosting)\n",
    "print(\"F1-Score:\", f1_gradient_boosting)"
   ]
  },
  {
   "cell_type": "code",
   "execution_count": null,
   "metadata": {},
   "outputs": [
    {
     "name": "stdout",
     "output_type": "stream",
     "text": [
      "Modèle de gradient boosting \n",
      "\n",
      "Score AUC: 0.6241651487553127\n",
      "F1-Score: 0.2127659574468085\n"
     ]
    }
   ],
   "source": [
    "# Résumé du modèle de gradient boosting\n",
    "\n",
    "print(\"Modèle de gradient boosting \\n\")\n",
    "print(\"Score AUC:\", score_auc_gradient_boosting) \n",
    "print(\"F1-Score:\", f1_gradient_boosting)"
   ]
  },
  {
   "cell_type": "markdown",
   "metadata": {},
   "source": [
    "### I.2.5. Régression ridge"
   ]
  },
  {
   "cell_type": "markdown",
   "metadata": {},
   "source": [
    "#### A) Construction du modèle"
   ]
  },
  {
   "cell_type": "code",
   "execution_count": null,
   "metadata": {},
   "outputs": [],
   "source": [
    "# Régression ridge\n",
    "\n",
    "from sklearn.linear_model import RidgeClassifier\n",
    "\n",
    "etapes = ([\n",
    "    (\"std_scaler\", StandardScaler()),\n",
    "    (\"smote\", SMOTE()),\n",
    "    (\"clf_ridge\", RidgeClassifier())\n",
    "])\n",
    "\n",
    "model_reg_ridge = Pipeline(steps=etapes)"
   ]
  },
  {
   "cell_type": "code",
   "execution_count": null,
   "metadata": {},
   "outputs": [
    {
     "data": {
      "text/html": [
       "<style>#sk-container-id-16 {color: black;background-color: white;}#sk-container-id-16 pre{padding: 0;}#sk-container-id-16 div.sk-toggleable {background-color: white;}#sk-container-id-16 label.sk-toggleable__label {cursor: pointer;display: block;width: 100%;margin-bottom: 0;padding: 0.3em;box-sizing: border-box;text-align: center;}#sk-container-id-16 label.sk-toggleable__label-arrow:before {content: \"▸\";float: left;margin-right: 0.25em;color: #696969;}#sk-container-id-16 label.sk-toggleable__label-arrow:hover:before {color: black;}#sk-container-id-16 div.sk-estimator:hover label.sk-toggleable__label-arrow:before {color: black;}#sk-container-id-16 div.sk-toggleable__content {max-height: 0;max-width: 0;overflow: hidden;text-align: left;background-color: #f0f8ff;}#sk-container-id-16 div.sk-toggleable__content pre {margin: 0.2em;color: black;border-radius: 0.25em;background-color: #f0f8ff;}#sk-container-id-16 input.sk-toggleable__control:checked~div.sk-toggleable__content {max-height: 200px;max-width: 100%;overflow: auto;}#sk-container-id-16 input.sk-toggleable__control:checked~label.sk-toggleable__label-arrow:before {content: \"▾\";}#sk-container-id-16 div.sk-estimator input.sk-toggleable__control:checked~label.sk-toggleable__label {background-color: #d4ebff;}#sk-container-id-16 div.sk-label input.sk-toggleable__control:checked~label.sk-toggleable__label {background-color: #d4ebff;}#sk-container-id-16 input.sk-hidden--visually {border: 0;clip: rect(1px 1px 1px 1px);clip: rect(1px, 1px, 1px, 1px);height: 1px;margin: -1px;overflow: hidden;padding: 0;position: absolute;width: 1px;}#sk-container-id-16 div.sk-estimator {font-family: monospace;background-color: #f0f8ff;border: 1px dotted black;border-radius: 0.25em;box-sizing: border-box;margin-bottom: 0.5em;}#sk-container-id-16 div.sk-estimator:hover {background-color: #d4ebff;}#sk-container-id-16 div.sk-parallel-item::after {content: \"\";width: 100%;border-bottom: 1px solid gray;flex-grow: 1;}#sk-container-id-16 div.sk-label:hover label.sk-toggleable__label {background-color: #d4ebff;}#sk-container-id-16 div.sk-serial::before {content: \"\";position: absolute;border-left: 1px solid gray;box-sizing: border-box;top: 0;bottom: 0;left: 50%;z-index: 0;}#sk-container-id-16 div.sk-serial {display: flex;flex-direction: column;align-items: center;background-color: white;padding-right: 0.2em;padding-left: 0.2em;position: relative;}#sk-container-id-16 div.sk-item {position: relative;z-index: 1;}#sk-container-id-16 div.sk-parallel {display: flex;align-items: stretch;justify-content: center;background-color: white;position: relative;}#sk-container-id-16 div.sk-item::before, #sk-container-id-16 div.sk-parallel-item::before {content: \"\";position: absolute;border-left: 1px solid gray;box-sizing: border-box;top: 0;bottom: 0;left: 50%;z-index: -1;}#sk-container-id-16 div.sk-parallel-item {display: flex;flex-direction: column;z-index: 1;position: relative;background-color: white;}#sk-container-id-16 div.sk-parallel-item:first-child::after {align-self: flex-end;width: 50%;}#sk-container-id-16 div.sk-parallel-item:last-child::after {align-self: flex-start;width: 50%;}#sk-container-id-16 div.sk-parallel-item:only-child::after {width: 0;}#sk-container-id-16 div.sk-dashed-wrapped {border: 1px dashed gray;margin: 0 0.4em 0.5em 0.4em;box-sizing: border-box;padding-bottom: 0.4em;background-color: white;}#sk-container-id-16 div.sk-label label {font-family: monospace;font-weight: bold;display: inline-block;line-height: 1.2em;}#sk-container-id-16 div.sk-label-container {text-align: center;}#sk-container-id-16 div.sk-container {/* jupyter's `normalize.less` sets `[hidden] { display: none; }` but bootstrap.min.css set `[hidden] { display: none !important; }` so we also need the `!important` here to be able to override the default hidden behavior on the sphinx rendered scikit-learn.org. See: https://github.com/scikit-learn/scikit-learn/issues/21755 */display: inline-block !important;position: relative;}#sk-container-id-16 div.sk-text-repr-fallback {display: none;}</style><div id=\"sk-container-id-16\" class=\"sk-top-container\"><div class=\"sk-text-repr-fallback\"><pre>Pipeline(steps=[(&#x27;std_scaler&#x27;, StandardScaler()), (&#x27;smote&#x27;, SMOTE()),\n",
       "                (&#x27;clf_ridge&#x27;, RidgeClassifier())])</pre><b>In a Jupyter environment, please rerun this cell to show the HTML representation or trust the notebook. <br />On GitHub, the HTML representation is unable to render, please try loading this page with nbviewer.org.</b></div><div class=\"sk-container\" hidden><div class=\"sk-item sk-dashed-wrapped\"><div class=\"sk-label-container\"><div class=\"sk-label sk-toggleable\"><input class=\"sk-toggleable__control sk-hidden--visually\" id=\"sk-estimator-id-61\" type=\"checkbox\" ><label for=\"sk-estimator-id-61\" class=\"sk-toggleable__label sk-toggleable__label-arrow\">Pipeline</label><div class=\"sk-toggleable__content\"><pre>Pipeline(steps=[(&#x27;std_scaler&#x27;, StandardScaler()), (&#x27;smote&#x27;, SMOTE()),\n",
       "                (&#x27;clf_ridge&#x27;, RidgeClassifier())])</pre></div></div></div><div class=\"sk-serial\"><div class=\"sk-item\"><div class=\"sk-estimator sk-toggleable\"><input class=\"sk-toggleable__control sk-hidden--visually\" id=\"sk-estimator-id-62\" type=\"checkbox\" ><label for=\"sk-estimator-id-62\" class=\"sk-toggleable__label sk-toggleable__label-arrow\">StandardScaler</label><div class=\"sk-toggleable__content\"><pre>StandardScaler()</pre></div></div></div><div class=\"sk-item\"><div class=\"sk-estimator sk-toggleable\"><input class=\"sk-toggleable__control sk-hidden--visually\" id=\"sk-estimator-id-63\" type=\"checkbox\" ><label for=\"sk-estimator-id-63\" class=\"sk-toggleable__label sk-toggleable__label-arrow\">SMOTE</label><div class=\"sk-toggleable__content\"><pre>SMOTE()</pre></div></div></div><div class=\"sk-item\"><div class=\"sk-estimator sk-toggleable\"><input class=\"sk-toggleable__control sk-hidden--visually\" id=\"sk-estimator-id-64\" type=\"checkbox\" ><label for=\"sk-estimator-id-64\" class=\"sk-toggleable__label sk-toggleable__label-arrow\">RidgeClassifier</label><div class=\"sk-toggleable__content\"><pre>RidgeClassifier()</pre></div></div></div></div></div></div></div>"
      ],
      "text/plain": [
       "Pipeline(steps=[('std_scaler', StandardScaler()), ('smote', SMOTE()),\n",
       "                ('clf_ridge', RidgeClassifier())])"
      ]
     },
     "execution_count": 253,
     "metadata": {},
     "output_type": "execute_result"
    }
   ],
   "source": [
    "model_reg_ridge.fit(X_train, y_train)"
   ]
  },
  {
   "cell_type": "code",
   "execution_count": null,
   "metadata": {},
   "outputs": [],
   "source": [
    "y_pred_reg_ridge = model_reg_ridge.predict(X_test)"
   ]
  },
  {
   "cell_type": "markdown",
   "metadata": {},
   "source": [
    "#### B) Mesure de la performance"
   ]
  },
  {
   "cell_type": "code",
   "execution_count": null,
   "metadata": {},
   "outputs": [
    {
     "name": "stdout",
     "output_type": "stream",
     "text": [
      "Le score du modèle est :  0.6476510067114094\n"
     ]
    }
   ],
   "source": [
    "score_reg_ridge = modele_reg_log.score(X_test, y_test)\n",
    "print(\"Le score du modèle est : \", score_reg_ridge)"
   ]
  },
  {
   "cell_type": "code",
   "execution_count": null,
   "metadata": {},
   "outputs": [
    {
     "name": "stdout",
     "output_type": "stream",
     "text": [
      "La matrice de confusion est : \n",
      " [[159  85]\n",
      " [ 20  34]]\n"
     ]
    }
   ],
   "source": [
    "# Calcul de la matrice de confusion\n",
    "from sklearn.metrics import confusion_matrix\n",
    "\n",
    "mat_conf_reg_ridge = confusion_matrix(y_test, y_pred_reg_ridge)\n",
    "print(\"La matrice de confusion est : \\n\", mat_conf_reg_ridge)"
   ]
  },
  {
   "cell_type": "code",
   "execution_count": null,
   "metadata": {},
   "outputs": [
    {
     "data": {
      "text/plain": [
       "Text(0.5, 427.9555555555555, 'valeur prédite')"
      ]
     },
     "execution_count": 257,
     "metadata": {},
     "output_type": "execute_result"
    },
    {
     "data": {
      "image/png": "[encoded data removed]",
      "text/plain": [
       "<Figure size 640x480 with 2 Axes>"
      ]
     },
     "metadata": {},
     "output_type": "display_data"
    }
   ],
   "source": [
    "import numpy as np\n",
    "import matplotlib.pyplot as plt\n",
    "import seaborn as sns\n",
    "\n",
    "modalites =[0,1] \n",
    "fig, ax = plt.subplots()\n",
    "tick_marks = np.arange(len(modalites))\n",
    "plt.xticks(tick_marks, modalites)\n",
    "plt.yticks(tick_marks, modalites)\n",
    "\n",
    "sns.heatmap(pd.DataFrame(mat_conf_reg_ridge), annot=True, cmap=\"YlGnBu\" ,fmt='g')\n",
    "ax.xaxis.set_label_position(\"top\")\n",
    "plt.tight_layout()\n",
    "plt.title('Matrice de confusion', y=1.1)\n",
    "plt.ylabel('Valeur observée')\n",
    "plt.xlabel('valeur prédite')"
   ]
  },
  {
   "cell_type": "code",
   "execution_count": null,
   "metadata": {},
   "outputs": [
    {
     "data": {
      "image/png": "[encoded data removed]",
      "text/plain": [
       "<Figure size 1000x600 with 1 Axes>"
      ]
     },
     "metadata": {},
     "output_type": "display_data"
    }
   ],
   "source": [
    "import matplotlib.pyplot as plt\n",
    "from sklearn.metrics import roc_curve, auc\n",
    "\n",
    "y_pred_prob_reg_ridge = model_gradient_boosting.predict_proba(X_test)[:, 1] # probabilité que la classe soit 1\n",
    "fpr, tpr, thresholds = roc_curve(y_test, y_pred_prob_reg_ridge) # calcul des taux de faux positifs et vrais positifs\n",
    "roc_auc = auc(fpr, tpr) # calcul de l'aire sous la courbe ROC\n",
    "\n",
    "# Tracé de la courbe ROC\n",
    "plt.figure(figsize=(10, 6))\n",
    "plt.plot(fpr, tpr, label='Courbe ROC (AUC = %0.2f)' % roc_auc)\n",
    "plt.plot([0, 1], [0, 1], 'k--') # ligne en pointillés représentant la performance d'un classificateur aléatoire\n",
    "plt.xlim([0.0, 1.0])\n",
    "plt.ylim([0.0, 1.05])\n",
    "plt.xlabel(\"Taux de faux positif (1 - spécificité)\")\n",
    "plt.ylabel('Taux de vrai positif (sensibilité)')\n",
    "plt.title('Courbe ROC')\n",
    "plt.legend(loc=\"lower right\")\n",
    "plt.show()"
   ]
  },
  {
   "cell_type": "code",
   "execution_count": null,
   "metadata": {},
   "outputs": [
    {
     "data": {
      "text/plain": [
       "0.6241651487553127"
      ]
     },
     "execution_count": 259,
     "metadata": {},
     "output_type": "execute_result"
    }
   ],
   "source": [
    "# Calcul du score AUC\n",
    "\n",
    "from sklearn.metrics import roc_auc_score\n",
    "\n",
    "score_auc_reg_ridge = roc_auc_score(y_test, y_pred_prob_reg_ridge)\n",
    "score_auc_reg_ridge"
   ]
  },
  {
   "cell_type": "code",
   "execution_count": null,
   "metadata": {},
   "outputs": [
    {
     "name": "stdout",
     "output_type": "stream",
     "text": [
      "Precision: 0.2857142857142857\n"
     ]
    }
   ],
   "source": [
    "# Calcul de la précision\n",
    "\n",
    "from sklearn.metrics import precision_score\n",
    "\n",
    "precision_reg_ridge = precision_score(y_test, y_pred_reg_ridge)\n",
    "print(\"Precision:\", precision_reg_ridge)"
   ]
  },
  {
   "cell_type": "code",
   "execution_count": null,
   "metadata": {},
   "outputs": [
    {
     "name": "stdout",
     "output_type": "stream",
     "text": [
      "Recall: 0.6296296296296297\n"
     ]
    }
   ],
   "source": [
    "from sklearn.metrics import recall_score\n",
    "\n",
    "recall_reg_ridge = recall_score(y_test, y_pred_reg_ridge)\n",
    "print(\"Recall:\", recall_reg_ridge)"
   ]
  },
  {
   "cell_type": "code",
   "execution_count": null,
   "metadata": {},
   "outputs": [
    {
     "name": "stdout",
     "output_type": "stream",
     "text": [
      "F1-Score: 0.39306358381502887\n"
     ]
    }
   ],
   "source": [
    "from sklearn.metrics import f1_score\n",
    "\n",
    "# Calculate and print F1-score\n",
    "f1_reg_ridge = f1_score(y_test, y_pred_reg_ridge)\n",
    "print(\"F1-Score:\", f1_reg_ridge)"
   ]
  },
  {
   "cell_type": "code",
   "execution_count": null,
   "metadata": {},
   "outputs": [
    {
     "name": "stdout",
     "output_type": "stream",
     "text": [
      "Modèle de gradient boosting \n",
      "\n",
      "Score AUC: 0.6241651487553127\n",
      "F1-Score: 0.39306358381502887\n"
     ]
    }
   ],
   "source": [
    "# Résumé du modèle de gradient boosting\n",
    "\n",
    "print(\"Modèle de gradient boosting \\n\")\n",
    "print(\"Score AUC:\", score_auc_reg_ridge) \n",
    "print(\"F1-Score:\", f1_reg_ridge)"
   ]
  },
  {
   "cell_type": "markdown",
   "metadata": {},
   "source": [
    "### I.2. ? Utilisation de PyCaret"
   ]
  },
  {
   "cell_type": "code",
   "execution_count": null,
   "metadata": {},
   "outputs": [
    {
     "name": "stdout",
     "output_type": "stream",
     "text": [
      "Requirement already satisfied: pycaret in c:\\users\\clemc\\anaconda3\\lib\\site-packages (3.2.0)\n",
      "Requirement already satisfied: category-encoders>=2.4.0 in c:\\users\\clemc\\anaconda3\\lib\\site-packages (from pycaret) (2.6.3)\n",
      "Requirement already satisfied: cloudpickle in c:\\users\\clemc\\anaconda3\\lib\\site-packages (from pycaret) (2.2.1)\n",
      "Requirement already satisfied: deprecation>=2.1.0 in c:\\users\\clemc\\anaconda3\\lib\\site-packages (from pycaret) (2.1.0)\n",
      "Requirement already satisfied: imbalanced-learn>=0.8.1 in c:\\users\\clemc\\anaconda3\\lib\\site-packages (from pycaret) (0.10.1)\n",
      "Requirement already satisfied: importlib-metadata>=4.12.0 in c:\\users\\clemc\\anaconda3\\lib\\site-packages (from pycaret) (6.0.0)\n",
      "Requirement already satisfied: ipython>=5.5.0 in c:\\users\\clemc\\anaconda3\\lib\\site-packages (from pycaret) (8.15.0)\n",
      "Requirement already satisfied: ipywidgets>=7.6.5 in c:\\users\\clemc\\anaconda3\\lib\\site-packages (from pycaret) (8.0.4)\n",
      "Requirement already satisfied: jinja2>=1.2 in c:\\users\\clemc\\anaconda3\\lib\\site-packages (from pycaret) (3.1.2)\n",
      "Requirement already satisfied: joblib>=1.2.0 in c:\\users\\clemc\\anaconda3\\lib\\site-packages (from pycaret) (1.2.0)\n",
      "Requirement already satisfied: kaleido>=0.2.1 in c:\\users\\clemc\\anaconda3\\lib\\site-packages (from pycaret) (0.2.1)\n",
      "Requirement already satisfied: lightgbm>=3.0.0 in c:\\users\\clemc\\anaconda3\\lib\\site-packages (from pycaret) (4.2.0)\n",
      "Requirement already satisfied: markupsafe>=2.0.1 in c:\\users\\clemc\\anaconda3\\lib\\site-packages (from pycaret) (2.1.1)\n",
      "Requirement already satisfied: matplotlib<=3.6,>=3.3.0 in c:\\users\\clemc\\anaconda3\\lib\\site-packages (from pycaret) (3.6.0)\n",
      "Requirement already satisfied: nbformat>=4.2.0 in c:\\users\\clemc\\anaconda3\\lib\\site-packages (from pycaret) (5.9.2)\n",
      "Requirement already satisfied: numba>=0.55.0 in c:\\users\\clemc\\anaconda3\\lib\\site-packages (from pycaret) (0.57.1)\n",
      "Requirement already satisfied: numpy<1.27,>=1.21 in c:\\users\\clemc\\anaconda3\\lib\\site-packages (from pycaret) (1.24.3)\n",
      "Requirement already satisfied: pandas<2.0.0,>=1.3.0 in c:\\users\\clemc\\anaconda3\\lib\\site-packages (from pycaret) (1.5.3)\n",
      "Requirement already satisfied: plotly-resampler>=0.8.3.1 in c:\\users\\clemc\\anaconda3\\lib\\site-packages (from pycaret) (0.9.2)\n",
      "Requirement already satisfied: plotly>=5.0.0 in c:\\users\\clemc\\anaconda3\\lib\\site-packages (from pycaret) (5.9.0)\n",
      "Requirement already satisfied: pmdarima!=1.8.1,<3.0.0,>=1.8.0 in c:\\users\\clemc\\anaconda3\\lib\\site-packages (from pycaret) (2.0.4)\n",
      "Requirement already satisfied: psutil>=5.9.0 in c:\\users\\clemc\\anaconda3\\lib\\site-packages (from pycaret) (5.9.0)\n",
      "Requirement already satisfied: pyod>=1.0.8 in c:\\users\\clemc\\anaconda3\\lib\\site-packages (from pycaret) (1.1.2)\n",
      "Requirement already satisfied: requests>=2.27.1 in c:\\users\\clemc\\anaconda3\\lib\\site-packages (from pycaret) (2.31.0)\n",
      "Requirement already satisfied: schemdraw==0.15 in c:\\users\\clemc\\anaconda3\\lib\\site-packages (from pycaret) (0.15)\n",
      "Requirement already satisfied: scikit-learn<1.3.0,>=1.0 in c:\\users\\clemc\\anaconda3\\lib\\site-packages (from pycaret) (1.2.2)\n",
      "Requirement already satisfied: scikit-plot>=0.3.7 in c:\\users\\clemc\\anaconda3\\lib\\site-packages (from pycaret) (0.3.7)\n",
      "Requirement already satisfied: scipy~=1.10.1 in c:\\users\\clemc\\anaconda3\\lib\\site-packages (from pycaret) (1.10.1)\n",
      "Requirement already satisfied: sktime!=0.17.1,!=0.17.2,!=0.18.0,<0.22.0,>=0.16.1 in c:\\users\\clemc\\anaconda3\\lib\\site-packages (from pycaret) (0.21.1)\n",
      "Requirement already satisfied: statsmodels>=0.12.1 in c:\\users\\clemc\\anaconda3\\lib\\site-packages (from pycaret) (0.14.0)\n",
      "Requirement already satisfied: tbats>=1.1.3 in c:\\users\\clemc\\anaconda3\\lib\\site-packages (from pycaret) (1.1.3)\n",
      "Requirement already satisfied: tqdm>=4.62.0 in c:\\users\\clemc\\anaconda3\\lib\\site-packages (from pycaret) (4.65.0)\n",
      "Requirement already satisfied: xxhash in c:\\users\\clemc\\anaconda3\\lib\\site-packages (from pycaret) (2.0.2)\n",
      "Requirement already satisfied: yellowbrick>=1.4 in c:\\users\\clemc\\anaconda3\\lib\\site-packages (from pycaret) (1.5)\n",
      "Requirement already satisfied: patsy>=0.5.1 in c:\\users\\clemc\\anaconda3\\lib\\site-packages (from category-encoders>=2.4.0->pycaret) (0.5.3)\n",
      "Requirement already satisfied: packaging in c:\\users\\clemc\\anaconda3\\lib\\site-packages (from deprecation>=2.1.0->pycaret) (23.1)\n",
      "Requirement already satisfied: threadpoolctl>=2.0.0 in c:\\users\\clemc\\anaconda3\\lib\\site-packages (from imbalanced-learn>=0.8.1->pycaret) (2.2.0)\n",
      "Requirement already satisfied: zipp>=0.5 in c:\\users\\clemc\\anaconda3\\lib\\site-packages (from importlib-metadata>=4.12.0->pycaret) (3.11.0)\n",
      "Requirement already satisfied: backcall in c:\\users\\clemc\\anaconda3\\lib\\site-packages (from ipython>=5.5.0->pycaret) (0.2.0)\n",
      "Requirement already satisfied: decorator in c:\\users\\clemc\\anaconda3\\lib\\site-packages (from ipython>=5.5.0->pycaret) (5.1.1)\n",
      "Requirement already satisfied: jedi>=0.16 in c:\\users\\clemc\\anaconda3\\lib\\site-packages (from ipython>=5.5.0->pycaret) (0.18.1)\n",
      "Requirement already satisfied: matplotlib-inline in c:\\users\\clemc\\anaconda3\\lib\\site-packages (from ipython>=5.5.0->pycaret) (0.1.6)\n",
      "Requirement already satisfied: pickleshare in c:\\users\\clemc\\anaconda3\\lib\\site-packages (from ipython>=5.5.0->pycaret) (0.7.5)\n",
      "Requirement already satisfied: prompt-toolkit!=3.0.37,<3.1.0,>=3.0.30 in c:\\users\\clemc\\anaconda3\\lib\\site-packages (from ipython>=5.5.0->pycaret) (3.0.36)\n",
      "Requirement already satisfied: pygments>=2.4.0 in c:\\users\\clemc\\anaconda3\\lib\\site-packages (from ipython>=5.5.0->pycaret) (2.15.1)\n",
      "Requirement already satisfied: stack-data in c:\\users\\clemc\\anaconda3\\lib\\site-packages (from ipython>=5.5.0->pycaret) (0.2.0)\n",
      "Requirement already satisfied: traitlets>=5 in c:\\users\\clemc\\anaconda3\\lib\\site-packages (from ipython>=5.5.0->pycaret) (5.7.1)\n",
      "Requirement already satisfied: colorama in c:\\users\\clemc\\anaconda3\\lib\\site-packages (from ipython>=5.5.0->pycaret) (0.4.6)\n",
      "Requirement already satisfied: ipykernel>=4.5.1 in c:\\users\\clemc\\anaconda3\\lib\\site-packages (from ipywidgets>=7.6.5->pycaret) (6.25.0)\n",
      "Requirement already satisfied: widgetsnbextension~=4.0 in c:\\users\\clemc\\anaconda3\\lib\\site-packages (from ipywidgets>=7.6.5->pycaret) (4.0.5)\n",
      "Requirement already satisfied: jupyterlab-widgets~=3.0 in c:\\users\\clemc\\anaconda3\\lib\\site-packages (from ipywidgets>=7.6.5->pycaret) (3.0.5)\n",
      "Requirement already satisfied: contourpy>=1.0.1 in c:\\users\\clemc\\anaconda3\\lib\\site-packages (from matplotlib<=3.6,>=3.3.0->pycaret) (1.0.5)\n",
      "Requirement already satisfied: cycler>=0.10 in c:\\users\\clemc\\anaconda3\\lib\\site-packages (from matplotlib<=3.6,>=3.3.0->pycaret) (0.11.0)\n",
      "Requirement already satisfied: fonttools>=4.22.0 in c:\\users\\clemc\\anaconda3\\lib\\site-packages (from matplotlib<=3.6,>=3.3.0->pycaret) (4.25.0)\n",
      "Requirement already satisfied: kiwisolver>=1.0.1 in c:\\users\\clemc\\anaconda3\\lib\\site-packages (from matplotlib<=3.6,>=3.3.0->pycaret) (1.4.4)\n",
      "Requirement already satisfied: pillow>=6.2.0 in c:\\users\\clemc\\anaconda3\\lib\\site-packages (from matplotlib<=3.6,>=3.3.0->pycaret) (9.4.0)\n",
      "Requirement already satisfied: pyparsing>=2.2.1 in c:\\users\\clemc\\anaconda3\\lib\\site-packages (from matplotlib<=3.6,>=3.3.0->pycaret) (3.0.9)\n",
      "Requirement already satisfied: python-dateutil>=2.7 in c:\\users\\clemc\\anaconda3\\lib\\site-packages (from matplotlib<=3.6,>=3.3.0->pycaret) (2.8.2)\n",
      "Requirement already satisfied: fastjsonschema in c:\\users\\clemc\\anaconda3\\lib\\site-packages (from nbformat>=4.2.0->pycaret) (2.16.2)\n",
      "Requirement already satisfied: jsonschema>=2.6 in c:\\users\\clemc\\anaconda3\\lib\\site-packages (from nbformat>=4.2.0->pycaret) (4.17.3)\n",
      "Requirement already satisfied: jupyter-core in c:\\users\\clemc\\anaconda3\\lib\\site-packages (from nbformat>=4.2.0->pycaret) (5.3.0)\n",
      "Requirement already satisfied: llvmlite<0.41,>=0.40.0dev0 in c:\\users\\clemc\\anaconda3\\lib\\site-packages (from numba>=0.55.0->pycaret) (0.40.0)\n",
      "Requirement already satisfied: pytz>=2020.1 in c:\\users\\clemc\\anaconda3\\lib\\site-packages (from pandas<2.0.0,>=1.3.0->pycaret) (2023.3.post1)\n",
      "Requirement already satisfied: tenacity>=6.2.0 in c:\\users\\clemc\\anaconda3\\lib\\site-packages (from plotly>=5.0.0->pycaret) (8.2.2)\n",
      "Requirement already satisfied: dash>=2.9.0 in c:\\users\\clemc\\anaconda3\\lib\\site-packages (from plotly-resampler>=0.8.3.1->pycaret) (2.14.2)\n",
      "Requirement already satisfied: orjson<4.0.0,>=3.8.0 in c:\\users\\clemc\\anaconda3\\lib\\site-packages (from plotly-resampler>=0.8.3.1->pycaret) (3.9.12)\n",
      "Requirement already satisfied: tsdownsample==0.1.2 in c:\\users\\clemc\\anaconda3\\lib\\site-packages (from plotly-resampler>=0.8.3.1->pycaret) (0.1.2)\n",
      "Requirement already satisfied: Cython!=0.29.18,!=0.29.31,>=0.29 in c:\\users\\clemc\\anaconda3\\lib\\site-packages (from pmdarima!=1.8.1,<3.0.0,>=1.8.0->pycaret) (3.0.8)\n",
      "Requirement already satisfied: urllib3 in c:\\users\\clemc\\anaconda3\\lib\\site-packages (from pmdarima!=1.8.1,<3.0.0,>=1.8.0->pycaret) (1.26.16)\n",
      "Requirement already satisfied: setuptools!=50.0.0,>=38.6.0 in c:\\users\\clemc\\anaconda3\\lib\\site-packages (from pmdarima!=1.8.1,<3.0.0,>=1.8.0->pycaret) (68.0.0)\n",
      "Requirement already satisfied: six in c:\\users\\clemc\\anaconda3\\lib\\site-packages (from pyod>=1.0.8->pycaret) (1.16.0)\n",
      "Requirement already satisfied: charset-normalizer<4,>=2 in c:\\users\\clemc\\anaconda3\\lib\\site-packages (from requests>=2.27.1->pycaret) (2.0.4)\n",
      "Requirement already satisfied: idna<4,>=2.5 in c:\\users\\clemc\\anaconda3\\lib\\site-packages (from requests>=2.27.1->pycaret) (3.4)\n",
      "Requirement already satisfied: certifi>=2017.4.17 in c:\\users\\clemc\\anaconda3\\lib\\site-packages (from requests>=2.27.1->pycaret) (2023.11.17)\n",
      "Requirement already satisfied: deprecated>=1.2.13 in c:\\users\\clemc\\anaconda3\\lib\\site-packages (from sktime!=0.17.1,!=0.17.2,!=0.18.0,<0.22.0,>=0.16.1->pycaret) (1.2.14)\n",
      "Requirement already satisfied: scikit-base<0.6.0 in c:\\users\\clemc\\anaconda3\\lib\\site-packages (from sktime!=0.17.1,!=0.17.2,!=0.18.0,<0.22.0,>=0.16.1->pycaret) (0.5.2)\n",
      "Requirement already satisfied: Flask<3.1,>=1.0.4 in c:\\users\\clemc\\anaconda3\\lib\\site-packages (from dash>=2.9.0->plotly-resampler>=0.8.3.1->pycaret) (2.2.2)\n",
      "Requirement already satisfied: Werkzeug<3.1 in c:\\users\\clemc\\anaconda3\\lib\\site-packages (from dash>=2.9.0->plotly-resampler>=0.8.3.1->pycaret) (2.2.3)\n",
      "Requirement already satisfied: dash-html-components==2.0.0 in c:\\users\\clemc\\anaconda3\\lib\\site-packages (from dash>=2.9.0->plotly-resampler>=0.8.3.1->pycaret) (2.0.0)\n",
      "Requirement already satisfied: dash-core-components==2.0.0 in c:\\users\\clemc\\anaconda3\\lib\\site-packages (from dash>=2.9.0->plotly-resampler>=0.8.3.1->pycaret) (2.0.0)\n",
      "Requirement already satisfied: dash-table==5.0.0 in c:\\users\\clemc\\anaconda3\\lib\\site-packages (from dash>=2.9.0->plotly-resampler>=0.8.3.1->pycaret) (5.0.0)\n",
      "Requirement already satisfied: typing-extensions>=4.1.1 in c:\\users\\clemc\\anaconda3\\lib\\site-packages (from dash>=2.9.0->plotly-resampler>=0.8.3.1->pycaret) (4.7.1)\n",
      "Requirement already satisfied: retrying in c:\\users\\clemc\\anaconda3\\lib\\site-packages (from dash>=2.9.0->plotly-resampler>=0.8.3.1->pycaret) (1.3.4)\n",
      "Requirement already satisfied: ansi2html in c:\\users\\clemc\\anaconda3\\lib\\site-packages (from dash>=2.9.0->plotly-resampler>=0.8.3.1->pycaret) (1.9.1)\n",
      "Requirement already satisfied: nest-asyncio in c:\\users\\clemc\\anaconda3\\lib\\site-packages (from dash>=2.9.0->plotly-resampler>=0.8.3.1->pycaret) (1.5.6)\n",
      "Requirement already satisfied: wrapt<2,>=1.10 in c:\\users\\clemc\\anaconda3\\lib\\site-packages (from deprecated>=1.2.13->sktime!=0.17.1,!=0.17.2,!=0.18.0,<0.22.0,>=0.16.1->pycaret) (1.14.1)\n",
      "Requirement already satisfied: comm>=0.1.1 in c:\\users\\clemc\\anaconda3\\lib\\site-packages (from ipykernel>=4.5.1->ipywidgets>=7.6.5->pycaret) (0.1.2)\n",
      "Requirement already satisfied: debugpy>=1.6.5 in c:\\users\\clemc\\anaconda3\\lib\\site-packages (from ipykernel>=4.5.1->ipywidgets>=7.6.5->pycaret) (1.6.7)\n",
      "Requirement already satisfied: jupyter-client>=6.1.12 in c:\\users\\clemc\\anaconda3\\lib\\site-packages (from ipykernel>=4.5.1->ipywidgets>=7.6.5->pycaret) (7.4.9)\n",
      "Requirement already satisfied: pyzmq>=20 in c:\\users\\clemc\\anaconda3\\lib\\site-packages (from ipykernel>=4.5.1->ipywidgets>=7.6.5->pycaret) (23.2.0)\n",
      "Requirement already satisfied: tornado>=6.1 in c:\\users\\clemc\\anaconda3\\lib\\site-packages (from ipykernel>=4.5.1->ipywidgets>=7.6.5->pycaret) (6.3.2)\n",
      "Requirement already satisfied: parso<0.9.0,>=0.8.0 in c:\\users\\clemc\\anaconda3\\lib\\site-packages (from jedi>=0.16->ipython>=5.5.0->pycaret) (0.8.3)\n",
      "Requirement already satisfied: attrs>=17.4.0 in c:\\users\\clemc\\anaconda3\\lib\\site-packages (from jsonschema>=2.6->nbformat>=4.2.0->pycaret) (22.1.0)\n",
      "Requirement already satisfied: pyrsistent!=0.17.0,!=0.17.1,!=0.17.2,>=0.14.0 in c:\\users\\clemc\\anaconda3\\lib\\site-packages (from jsonschema>=2.6->nbformat>=4.2.0->pycaret) (0.18.0)\n",
      "Requirement already satisfied: platformdirs>=2.5 in c:\\users\\clemc\\anaconda3\\lib\\site-packages (from jupyter-core->nbformat>=4.2.0->pycaret) (3.10.0)\n",
      "Requirement already satisfied: pywin32>=300 in c:\\users\\clemc\\anaconda3\\lib\\site-packages (from jupyter-core->nbformat>=4.2.0->pycaret) (305.1)\n",
      "Requirement already satisfied: wcwidth in c:\\users\\clemc\\anaconda3\\lib\\site-packages (from prompt-toolkit!=3.0.37,<3.1.0,>=3.0.30->ipython>=5.5.0->pycaret) (0.2.5)\n",
      "Requirement already satisfied: executing in c:\\users\\clemc\\anaconda3\\lib\\site-packages (from stack-data->ipython>=5.5.0->pycaret) (0.8.3)\n",
      "Requirement already satisfied: asttokens in c:\\users\\clemc\\anaconda3\\lib\\site-packages (from stack-data->ipython>=5.5.0->pycaret) (2.0.5)\n",
      "Requirement already satisfied: pure-eval in c:\\users\\clemc\\anaconda3\\lib\\site-packages (from stack-data->ipython>=5.5.0->pycaret) (0.2.2)\n",
      "Requirement already satisfied: itsdangerous>=2.0 in c:\\users\\clemc\\anaconda3\\lib\\site-packages (from Flask<3.1,>=1.0.4->dash>=2.9.0->plotly-resampler>=0.8.3.1->pycaret) (2.0.1)\n",
      "Requirement already satisfied: click>=8.0 in c:\\users\\clemc\\anaconda3\\lib\\site-packages (from Flask<3.1,>=1.0.4->dash>=2.9.0->plotly-resampler>=0.8.3.1->pycaret) (8.0.4)\n",
      "Requirement already satisfied: entrypoints in c:\\users\\clemc\\anaconda3\\lib\\site-packages (from jupyter-client>=6.1.12->ipykernel>=4.5.1->ipywidgets>=7.6.5->pycaret) (0.4)\n"
     ]
    }
   ],
   "source": [
    "!pip install pycaret"
   ]
  },
  {
   "cell_type": "code",
   "execution_count": null,
   "metadata": {},
   "outputs": [
    {
     "data": {
      "text/html": [
       "<div>\n",
       "<style scoped>\n",
       "    .dataframe tbody tr th:only-of-type {\n",
       "        vertical-align: middle;\n",
       "    }\n",
       "\n",
       "    .dataframe tbody tr th {\n",
       "        vertical-align: top;\n",
       "    }\n",
       "\n",
       "    .dataframe thead th {\n",
       "        text-align: right;\n",
       "    }\n",
       "</style>\n",
       "<table border=\"1\" class=\"dataframe\">\n",
       "  <thead>\n",
       "    <tr style=\"text-align: right;\">\n",
       "      <th></th>\n",
       "      <th>moyenne_conso_agri_hab</th>\n",
       "      <th>moyenne_conso_indus_hab</th>\n",
       "      <th>moyenne_conso_tertiaire_hab</th>\n",
       "      <th>moyenne_conso_residentiel_hab</th>\n",
       "      <th>moyenne_conso_totale_hab</th>\n",
       "      <th>emissions_ges</th>\n",
       "      <th>nb_actes_france_renov</th>\n",
       "      <th>friche</th>\n",
       "      <th>ecoquartiers</th>\n",
       "      <th>part_residences_secondaires</th>\n",
       "      <th>...</th>\n",
       "      <th>com_variation_encours_dette_ha_pct</th>\n",
       "      <th>part_inactifs</th>\n",
       "      <th>part_actifs</th>\n",
       "      <th>dependance_eco</th>\n",
       "      <th>abstention_municipales</th>\n",
       "      <th>taux_creation_ent</th>\n",
       "      <th>total_entreprises</th>\n",
       "      <th>part_licencies_sportifs</th>\n",
       "      <th>part_jeunes_sans_diplome</th>\n",
       "      <th>beneficiaire_trans_eco</th>\n",
       "    </tr>\n",
       "    <tr>\n",
       "      <th>code_insee</th>\n",
       "      <th></th>\n",
       "      <th></th>\n",
       "      <th></th>\n",
       "      <th></th>\n",
       "      <th></th>\n",
       "      <th></th>\n",
       "      <th></th>\n",
       "      <th></th>\n",
       "      <th></th>\n",
       "      <th></th>\n",
       "      <th></th>\n",
       "      <th></th>\n",
       "      <th></th>\n",
       "      <th></th>\n",
       "      <th></th>\n",
       "      <th></th>\n",
       "      <th></th>\n",
       "      <th></th>\n",
       "      <th></th>\n",
       "      <th></th>\n",
       "      <th></th>\n",
       "    </tr>\n",
       "  </thead>\n",
       "  <tbody>\n",
       "    <tr>\n",
       "      <th>22001</th>\n",
       "      <td>2.994071</td>\n",
       "      <td>0.000503</td>\n",
       "      <td>0.631181</td>\n",
       "      <td>3.688905</td>\n",
       "      <td>7.378017</td>\n",
       "      <td>14871</td>\n",
       "      <td>86</td>\n",
       "      <td>2</td>\n",
       "      <td>0</td>\n",
       "      <td>12.0</td>\n",
       "      <td>...</td>\n",
       "      <td>18.9</td>\n",
       "      <td>12.751678</td>\n",
       "      <td>47.147651</td>\n",
       "      <td>107</td>\n",
       "      <td>17.4</td>\n",
       "      <td>15.0</td>\n",
       "      <td>20</td>\n",
       "      <td>23.825503</td>\n",
       "      <td>9.1</td>\n",
       "      <td>0</td>\n",
       "    </tr>\n",
       "    <tr>\n",
       "      <th>22002</th>\n",
       "      <td>1.283886</td>\n",
       "      <td>0.032120</td>\n",
       "      <td>0.173206</td>\n",
       "      <td>3.248865</td>\n",
       "      <td>4.775226</td>\n",
       "      <td>8621</td>\n",
       "      <td>35</td>\n",
       "      <td>0</td>\n",
       "      <td>0</td>\n",
       "      <td>2.0</td>\n",
       "      <td>...</td>\n",
       "      <td>-39.3</td>\n",
       "      <td>11.062718</td>\n",
       "      <td>50.522648</td>\n",
       "      <td>96</td>\n",
       "      <td>53.8</td>\n",
       "      <td>12.1</td>\n",
       "      <td>33</td>\n",
       "      <td>30.836237</td>\n",
       "      <td>4.0</td>\n",
       "      <td>0</td>\n",
       "    </tr>\n",
       "    <tr>\n",
       "      <th>22003</th>\n",
       "      <td>0.000000</td>\n",
       "      <td>0.000000</td>\n",
       "      <td>0.524098</td>\n",
       "      <td>2.908468</td>\n",
       "      <td>3.472740</td>\n",
       "      <td>3028</td>\n",
       "      <td>47</td>\n",
       "      <td>0</td>\n",
       "      <td>0</td>\n",
       "      <td>3.4</td>\n",
       "      <td>...</td>\n",
       "      <td>99.8</td>\n",
       "      <td>14.239130</td>\n",
       "      <td>48.804348</td>\n",
       "      <td>113</td>\n",
       "      <td>53.7</td>\n",
       "      <td>36.7</td>\n",
       "      <td>30</td>\n",
       "      <td>35.760870</td>\n",
       "      <td>0.0</td>\n",
       "      <td>0</td>\n",
       "    </tr>\n",
       "    <tr>\n",
       "      <th>22004</th>\n",
       "      <td>0.200325</td>\n",
       "      <td>0.675332</td>\n",
       "      <td>1.267791</td>\n",
       "      <td>3.034877</td>\n",
       "      <td>5.203150</td>\n",
       "      <td>29130</td>\n",
       "      <td>46</td>\n",
       "      <td>6</td>\n",
       "      <td>0</td>\n",
       "      <td>5.5</td>\n",
       "      <td>...</td>\n",
       "      <td>-34.1</td>\n",
       "      <td>17.234927</td>\n",
       "      <td>40.540541</td>\n",
       "      <td>126</td>\n",
       "      <td>44.8</td>\n",
       "      <td>12.6</td>\n",
       "      <td>238</td>\n",
       "      <td>24.282744</td>\n",
       "      <td>12.4</td>\n",
       "      <td>0</td>\n",
       "    </tr>\n",
       "    <tr>\n",
       "      <th>22005</th>\n",
       "      <td>0.121358</td>\n",
       "      <td>0.082905</td>\n",
       "      <td>1.151104</td>\n",
       "      <td>3.532942</td>\n",
       "      <td>4.926877</td>\n",
       "      <td>4136</td>\n",
       "      <td>10</td>\n",
       "      <td>3</td>\n",
       "      <td>0</td>\n",
       "      <td>16.8</td>\n",
       "      <td>...</td>\n",
       "      <td>-14.5</td>\n",
       "      <td>14.188533</td>\n",
       "      <td>42.371234</td>\n",
       "      <td>140</td>\n",
       "      <td>22.9</td>\n",
       "      <td>18.8</td>\n",
       "      <td>64</td>\n",
       "      <td>27.891156</td>\n",
       "      <td>2.6</td>\n",
       "      <td>0</td>\n",
       "    </tr>\n",
       "  </tbody>\n",
       "</table>\n",
       "<p>5 rows × 30 columns</p>\n",
       "</div>"
      ],
      "text/plain": [
       "            moyenne_conso_agri_hab  moyenne_conso_indus_hab  \\\n",
       "code_insee                                                    \n",
       "22001                     2.994071                 0.000503   \n",
       "22002                     1.283886                 0.032120   \n",
       "22003                     0.000000                 0.000000   \n",
       "22004                     0.200325                 0.675332   \n",
       "22005                     0.121358                 0.082905   \n",
       "\n",
       "            moyenne_conso_tertiaire_hab  moyenne_conso_residentiel_hab  \\\n",
       "code_insee                                                               \n",
       "22001                          0.631181                       3.688905   \n",
       "22002                          0.173206                       3.248865   \n",
       "22003                          0.524098                       2.908468   \n",
       "22004                          1.267791                       3.034877   \n",
       "22005                          1.151104                       3.532942   \n",
       "\n",
       "            moyenne_conso_totale_hab  emissions_ges  nb_actes_france_renov  \\\n",
       "code_insee                                                                   \n",
       "22001                       7.378017          14871                     86   \n",
       "22002                       4.775226           8621                     35   \n",
       "22003                       3.472740           3028                     47   \n",
       "22004                       5.203150          29130                     46   \n",
       "22005                       4.926877           4136                     10   \n",
       "\n",
       "            friche ecoquartiers  part_residences_secondaires  ...  \\\n",
       "code_insee                                                    ...   \n",
       "22001            2            0                         12.0  ...   \n",
       "22002            0            0                          2.0  ...   \n",
       "22003            0            0                          3.4  ...   \n",
       "22004            6            0                          5.5  ...   \n",
       "22005            3            0                         16.8  ...   \n",
       "\n",
       "           com_variation_encours_dette_ha_pct part_inactifs part_actifs  \\\n",
       "code_insee                                                                \n",
       "22001                                    18.9     12.751678   47.147651   \n",
       "22002                                   -39.3     11.062718   50.522648   \n",
       "22003                                    99.8     14.239130   48.804348   \n",
       "22004                                   -34.1     17.234927   40.540541   \n",
       "22005                                   -14.5     14.188533   42.371234   \n",
       "\n",
       "            dependance_eco abstention_municipales taux_creation_ent  \\\n",
       "code_insee                                                            \n",
       "22001                  107                   17.4              15.0   \n",
       "22002                   96                   53.8              12.1   \n",
       "22003                  113                   53.7              36.7   \n",
       "22004                  126                   44.8              12.6   \n",
       "22005                  140                   22.9              18.8   \n",
       "\n",
       "            total_entreprises  part_licencies_sportifs  \\\n",
       "code_insee                                               \n",
       "22001                      20                23.825503   \n",
       "22002                      33                30.836237   \n",
       "22003                      30                35.760870   \n",
       "22004                     238                24.282744   \n",
       "22005                      64                27.891156   \n",
       "\n",
       "            part_jeunes_sans_diplome beneficiaire_trans_eco  \n",
       "code_insee                                                   \n",
       "22001                            9.1                      0  \n",
       "22002                            4.0                      0  \n",
       "22003                            0.0                      0  \n",
       "22004                           12.4                      0  \n",
       "22005                            2.6                      0  \n",
       "\n",
       "[5 rows x 30 columns]"
      ]
     },
     "execution_count": 22,
     "metadata": {},
     "output_type": "execute_result"
    }
   ],
   "source": [
    "# On place la variable à expliquer en dernier\n",
    "# Liste des noms de colonnes dans l'ordre souhaité\n",
    "noms_colonnes = list(donnees.columns)\n",
    "noms_colonnes.remove(\"beneficiaire_trans_eco\")\n",
    "noms_colonnes.append(\"beneficiaire_trans_eco\")\n",
    "\n",
    "# Réindexer le DataFrame avec les nouvelles colonnes\n",
    "donnees = donnees.reindex(columns=noms_colonnes)\n",
    "donnees.head()\n"
   ]
  },
  {
   "cell_type": "code",
   "execution_count": 17,
   "metadata": {
    "vscode": {
     "languageId": "ruby"
    }
   },
   "outputs": [
    {
     "ename": "ImportError",
     "evalue": "cannot import name '_Scorer' from 'sklearn.metrics._scorer' (c:\\Users\\ASUS\\anaconda3\\Lib\\site-packages\\sklearn\\metrics\\_scorer.py)",
     "output_type": "error",
     "traceback": [
      "\u001b[1;31m---------------------------------------------------------------------------\u001b[0m",
      "\u001b[1;31mImportError\u001b[0m                               Traceback (most recent call last)",
      "Cell \u001b[1;32mIn[17], line 1\u001b[0m\n\u001b[1;32m----> 1\u001b[0m \u001b[38;5;28;01mfrom\u001b[39;00m \u001b[38;5;21;01mpycaret\u001b[39;00m\u001b[38;5;21;01m.\u001b[39;00m\u001b[38;5;21;01mclassification\u001b[39;00m \u001b[38;5;28;01mimport\u001b[39;00m \u001b[38;5;241m*\u001b[39m\n\u001b[0;32m      2\u001b[0m \u001b[38;5;28;01mimport\u001b[39;00m \u001b[38;5;21;01mmlflow\u001b[39;00m\n\u001b[0;32m      4\u001b[0m \u001b[38;5;66;03m# Initialisation de l'environnement PyCaret\u001b[39;00m\n",
      "File \u001b[1;32mc:\\Users\\ASUS\\anaconda3\\Lib\\site-packages\\pycaret\\classification\\__init__.py:1\u001b[0m\n\u001b[1;32m----> 1\u001b[0m \u001b[38;5;28;01mfrom\u001b[39;00m \u001b[38;5;21;01mpycaret\u001b[39;00m\u001b[38;5;21;01m.\u001b[39;00m\u001b[38;5;21;01mclassification\u001b[39;00m\u001b[38;5;21;01m.\u001b[39;00m\u001b[38;5;21;01mfunctional\u001b[39;00m \u001b[38;5;28;01mimport\u001b[39;00m (\n\u001b[0;32m      2\u001b[0m     add_metric,\n\u001b[0;32m      3\u001b[0m     automl,\n\u001b[0;32m      4\u001b[0m     blend_models,\n\u001b[0;32m      5\u001b[0m     calibrate_model,\n\u001b[0;32m      6\u001b[0m     check_drift,\n\u001b[0;32m      7\u001b[0m     check_fairness,\n\u001b[0;32m      8\u001b[0m     compare_models,\n\u001b[0;32m      9\u001b[0m     convert_model,\n\u001b[0;32m     10\u001b[0m     create_api,\n\u001b[0;32m     11\u001b[0m     create_app,\n\u001b[0;32m     12\u001b[0m     create_docker,\n\u001b[0;32m     13\u001b[0m     create_model,\n\u001b[0;32m     14\u001b[0m     dashboard,\n\u001b[0;32m     15\u001b[0m     deploy_model,\n\u001b[0;32m     16\u001b[0m     ensemble_model,\n\u001b[0;32m     17\u001b[0m     evaluate_model,\n\u001b[0;32m     18\u001b[0m     finalize_model,\n\u001b[0;32m     19\u001b[0m     get_allowed_engines,\n\u001b[0;32m     20\u001b[0m     get_config,\n\u001b[0;32m     21\u001b[0m     get_current_experiment,\n\u001b[0;32m     22\u001b[0m     get_engine,\n\u001b[0;32m     23\u001b[0m     get_leaderboard,\n\u001b[0;32m     24\u001b[0m     get_logs,\n\u001b[0;32m     25\u001b[0m     get_metrics,\n\u001b[0;32m     26\u001b[0m     interpret_model,\n\u001b[0;32m     27\u001b[0m     load_experiment,\n\u001b[0;32m     28\u001b[0m     load_model,\n\u001b[0;32m     29\u001b[0m     models,\n\u001b[0;32m     30\u001b[0m     optimize_threshold,\n\u001b[0;32m     31\u001b[0m     plot_model,\n\u001b[0;32m     32\u001b[0m     predict_model,\n\u001b[0;32m     33\u001b[0m     pull,\n\u001b[0;32m     34\u001b[0m     remove_metric,\n\u001b[0;32m     35\u001b[0m     save_experiment,\n\u001b[0;32m     36\u001b[0m     save_model,\n\u001b[0;32m     37\u001b[0m     set_config,\n\u001b[0;32m     38\u001b[0m     set_current_experiment,\n\u001b[0;32m     39\u001b[0m     setup,\n\u001b[0;32m     40\u001b[0m     stack_models,\n\u001b[0;32m     41\u001b[0m     tune_model,\n\u001b[0;32m     42\u001b[0m )\n\u001b[0;32m     43\u001b[0m \u001b[38;5;28;01mfrom\u001b[39;00m \u001b[38;5;21;01mpycaret\u001b[39;00m\u001b[38;5;21;01m.\u001b[39;00m\u001b[38;5;21;01mclassification\u001b[39;00m\u001b[38;5;21;01m.\u001b[39;00m\u001b[38;5;21;01moop\u001b[39;00m \u001b[38;5;28;01mimport\u001b[39;00m ClassificationExperiment\n\u001b[0;32m     45\u001b[0m __all__ \u001b[38;5;241m=\u001b[39m [\n\u001b[0;32m     46\u001b[0m     \u001b[38;5;124m\"\u001b[39m\u001b[38;5;124mClassificationExperiment\u001b[39m\u001b[38;5;124m\"\u001b[39m,\n\u001b[0;32m     47\u001b[0m     \u001b[38;5;124m\"\u001b[39m\u001b[38;5;124msetup\u001b[39m\u001b[38;5;124m\"\u001b[39m,\n\u001b[1;32m   (...)\u001b[0m\n\u001b[0;32m     86\u001b[0m     \u001b[38;5;124m\"\u001b[39m\u001b[38;5;124mcheck_drift\u001b[39m\u001b[38;5;124m\"\u001b[39m,\n\u001b[0;32m     87\u001b[0m ]\n",
      "File \u001b[1;32mc:\\Users\\ASUS\\anaconda3\\Lib\\site-packages\\pycaret\\classification\\functional.py:8\u001b[0m\n\u001b[0;32m      5\u001b[0m \u001b[38;5;28;01mimport\u001b[39;00m \u001b[38;5;21;01mpandas\u001b[39;00m \u001b[38;5;28;01mas\u001b[39;00m \u001b[38;5;21;01mpd\u001b[39;00m\n\u001b[0;32m      6\u001b[0m \u001b[38;5;28;01mfrom\u001b[39;00m \u001b[38;5;21;01mjoblib\u001b[39;00m\u001b[38;5;21;01m.\u001b[39;00m\u001b[38;5;21;01mmemory\u001b[39;00m \u001b[38;5;28;01mimport\u001b[39;00m Memory\n\u001b[1;32m----> 8\u001b[0m \u001b[38;5;28;01mfrom\u001b[39;00m \u001b[38;5;21;01mpycaret\u001b[39;00m\u001b[38;5;21;01m.\u001b[39;00m\u001b[38;5;21;01mclassification\u001b[39;00m\u001b[38;5;21;01m.\u001b[39;00m\u001b[38;5;21;01moop\u001b[39;00m \u001b[38;5;28;01mimport\u001b[39;00m ClassificationExperiment\n\u001b[0;32m      9\u001b[0m \u001b[38;5;28;01mfrom\u001b[39;00m \u001b[38;5;21;01mpycaret\u001b[39;00m\u001b[38;5;21;01m.\u001b[39;00m\u001b[38;5;21;01minternal\u001b[39;00m\u001b[38;5;21;01m.\u001b[39;00m\u001b[38;5;21;01mparallel\u001b[39;00m\u001b[38;5;21;01m.\u001b[39;00m\u001b[38;5;21;01mparallel_backend\u001b[39;00m \u001b[38;5;28;01mimport\u001b[39;00m ParallelBackend\n\u001b[0;32m     10\u001b[0m \u001b[38;5;28;01mfrom\u001b[39;00m \u001b[38;5;21;01mpycaret\u001b[39;00m\u001b[38;5;21;01m.\u001b[39;00m\u001b[38;5;21;01mloggers\u001b[39;00m\u001b[38;5;21;01m.\u001b[39;00m\u001b[38;5;21;01mbase_logger\u001b[39;00m \u001b[38;5;28;01mimport\u001b[39;00m BaseLogger\n",
      "File \u001b[1;32mc:\\Users\\ASUS\\anaconda3\\Lib\\site-packages\\pycaret\\classification\\oop.py:16\u001b[0m\n\u001b[0;32m     13\u001b[0m \u001b[38;5;28;01mfrom\u001b[39;00m \u001b[38;5;21;01mjoblib\u001b[39;00m\u001b[38;5;21;01m.\u001b[39;00m\u001b[38;5;21;01mmemory\u001b[39;00m \u001b[38;5;28;01mimport\u001b[39;00m Memory\n\u001b[0;32m     14\u001b[0m \u001b[38;5;28;01mfrom\u001b[39;00m \u001b[38;5;21;01mscipy\u001b[39;00m\u001b[38;5;21;01m.\u001b[39;00m\u001b[38;5;21;01moptimize\u001b[39;00m \u001b[38;5;28;01mimport\u001b[39;00m shgo\n\u001b[1;32m---> 16\u001b[0m \u001b[38;5;28;01mfrom\u001b[39;00m \u001b[38;5;21;01mpycaret\u001b[39;00m\u001b[38;5;21;01m.\u001b[39;00m\u001b[38;5;21;01mcontainers\u001b[39;00m\u001b[38;5;21;01m.\u001b[39;00m\u001b[38;5;21;01mmetrics\u001b[39;00m\u001b[38;5;21;01m.\u001b[39;00m\u001b[38;5;21;01mclassification\u001b[39;00m \u001b[38;5;28;01mimport\u001b[39;00m get_all_metric_containers\n\u001b[0;32m     17\u001b[0m \u001b[38;5;28;01mfrom\u001b[39;00m \u001b[38;5;21;01mpycaret\u001b[39;00m\u001b[38;5;21;01m.\u001b[39;00m\u001b[38;5;21;01mcontainers\u001b[39;00m\u001b[38;5;21;01m.\u001b[39;00m\u001b[38;5;21;01mmodels\u001b[39;00m\u001b[38;5;21;01m.\u001b[39;00m\u001b[38;5;21;01mclassification\u001b[39;00m \u001b[38;5;28;01mimport\u001b[39;00m (\n\u001b[0;32m     18\u001b[0m     ALL_ALLOWED_ENGINES,\n\u001b[0;32m     19\u001b[0m     get_all_model_containers,\n\u001b[0;32m     20\u001b[0m     get_container_default_engines,\n\u001b[0;32m     21\u001b[0m )\n\u001b[0;32m     22\u001b[0m \u001b[38;5;28;01mfrom\u001b[39;00m \u001b[38;5;21;01mpycaret\u001b[39;00m\u001b[38;5;21;01m.\u001b[39;00m\u001b[38;5;21;01minternal\u001b[39;00m\u001b[38;5;21;01m.\u001b[39;00m\u001b[38;5;21;01mdisplay\u001b[39;00m \u001b[38;5;28;01mimport\u001b[39;00m CommonDisplay\n",
      "File \u001b[1;32mc:\\Users\\ASUS\\anaconda3\\Lib\\site-packages\\pycaret\\containers\\metrics\\classification.py:19\u001b[0m\n\u001b[0;32m     16\u001b[0m \u001b[38;5;28;01mfrom\u001b[39;00m \u001b[38;5;21;01msklearn\u001b[39;00m \u001b[38;5;28;01mimport\u001b[39;00m metrics\n\u001b[0;32m     17\u001b[0m \u001b[38;5;28;01mfrom\u001b[39;00m \u001b[38;5;21;01msklearn\u001b[39;00m\u001b[38;5;21;01m.\u001b[39;00m\u001b[38;5;21;01mmetrics\u001b[39;00m\u001b[38;5;21;01m.\u001b[39;00m\u001b[38;5;21;01m_scorer\u001b[39;00m \u001b[38;5;28;01mimport\u001b[39;00m _BaseScorer\n\u001b[1;32m---> 19\u001b[0m \u001b[38;5;28;01mimport\u001b[39;00m \u001b[38;5;21;01mpycaret\u001b[39;00m\u001b[38;5;21;01m.\u001b[39;00m\u001b[38;5;21;01mcontainers\u001b[39;00m\u001b[38;5;21;01m.\u001b[39;00m\u001b[38;5;21;01mbase_container\u001b[39;00m\n\u001b[0;32m     20\u001b[0m \u001b[38;5;28;01mimport\u001b[39;00m \u001b[38;5;21;01mpycaret\u001b[39;00m\u001b[38;5;21;01m.\u001b[39;00m\u001b[38;5;21;01minternal\u001b[39;00m\u001b[38;5;21;01m.\u001b[39;00m\u001b[38;5;21;01mmetrics\u001b[39;00m\n\u001b[0;32m     21\u001b[0m \u001b[38;5;28;01mfrom\u001b[39;00m \u001b[38;5;21;01mpycaret\u001b[39;00m\u001b[38;5;21;01m.\u001b[39;00m\u001b[38;5;21;01mcontainers\u001b[39;00m\u001b[38;5;21;01m.\u001b[39;00m\u001b[38;5;21;01mmetrics\u001b[39;00m\u001b[38;5;21;01m.\u001b[39;00m\u001b[38;5;21;01mbase_metric\u001b[39;00m \u001b[38;5;28;01mimport\u001b[39;00m MetricContainer\n",
      "File \u001b[1;32mc:\\Users\\ASUS\\anaconda3\\Lib\\site-packages\\pycaret\\containers\\base_container.py:8\u001b[0m\n\u001b[0;32m      5\u001b[0m \u001b[38;5;28;01mimport\u001b[39;00m \u001b[38;5;21;01minspect\u001b[39;00m\n\u001b[0;32m      6\u001b[0m \u001b[38;5;28;01mfrom\u001b[39;00m \u001b[38;5;21;01mtyping\u001b[39;00m \u001b[38;5;28;01mimport\u001b[39;00m Any, Dict, Optional\n\u001b[1;32m----> 8\u001b[0m \u001b[38;5;28;01mimport\u001b[39;00m \u001b[38;5;21;01mpycaret\u001b[39;00m\u001b[38;5;21;01m.\u001b[39;00m\u001b[38;5;21;01mutils\u001b[39;00m\u001b[38;5;21;01m.\u001b[39;00m\u001b[38;5;21;01mgeneric\u001b[39;00m\n\u001b[0;32m     11\u001b[0m \u001b[38;5;28;01mclass\u001b[39;00m \u001b[38;5;21;01mBaseContainer\u001b[39;00m:\n\u001b[0;32m     12\u001b[0m \u001b[38;5;250m    \u001b[39m\u001b[38;5;124;03m\"\"\"\u001b[39;00m\n\u001b[0;32m     13\u001b[0m \u001b[38;5;124;03m    Base container class, for easier definition of containers. Ensures consistent format\u001b[39;00m\n\u001b[0;32m     14\u001b[0m \u001b[38;5;124;03m    before being turned into a dataframe row.\u001b[39;00m\n\u001b[1;32m   (...)\u001b[0m\n\u001b[0;32m     41\u001b[0m \n\u001b[0;32m     42\u001b[0m \u001b[38;5;124;03m    \"\"\"\u001b[39;00m\n",
      "File \u001b[1;32mc:\\Users\\ASUS\\anaconda3\\Lib\\site-packages\\pycaret\\utils\\generic.py:15\u001b[0m\n\u001b[0;32m     13\u001b[0m \u001b[38;5;28;01mfrom\u001b[39;00m \u001b[38;5;21;01mscipy\u001b[39;00m \u001b[38;5;28;01mimport\u001b[39;00m sparse\n\u001b[0;32m     14\u001b[0m \u001b[38;5;28;01mfrom\u001b[39;00m \u001b[38;5;21;01msklearn\u001b[39;00m\u001b[38;5;21;01m.\u001b[39;00m\u001b[38;5;21;01mmetrics\u001b[39;00m \u001b[38;5;28;01mimport\u001b[39;00m get_scorer\n\u001b[1;32m---> 15\u001b[0m \u001b[38;5;28;01mfrom\u001b[39;00m \u001b[38;5;21;01msklearn\u001b[39;00m\u001b[38;5;21;01m.\u001b[39;00m\u001b[38;5;21;01mmetrics\u001b[39;00m\u001b[38;5;21;01m.\u001b[39;00m\u001b[38;5;21;01m_scorer\u001b[39;00m \u001b[38;5;28;01mimport\u001b[39;00m _Scorer\n\u001b[0;32m     16\u001b[0m \u001b[38;5;28;01mfrom\u001b[39;00m \u001b[38;5;21;01msklearn\u001b[39;00m\u001b[38;5;21;01m.\u001b[39;00m\u001b[38;5;21;01mmodel_selection\u001b[39;00m \u001b[38;5;28;01mimport\u001b[39;00m BaseCrossValidator, KFold, StratifiedKFold\n\u001b[0;32m     17\u001b[0m \u001b[38;5;28;01mfrom\u001b[39;00m \u001b[38;5;21;01msklearn\u001b[39;00m\u001b[38;5;21;01m.\u001b[39;00m\u001b[38;5;21;01mmodel_selection\u001b[39;00m\u001b[38;5;21;01m.\u001b[39;00m\u001b[38;5;21;01m_split\u001b[39;00m \u001b[38;5;28;01mimport\u001b[39;00m _BaseKFold\n",
      "\u001b[1;31mImportError\u001b[0m: cannot import name '_Scorer' from 'sklearn.metrics._scorer' (c:\\Users\\ASUS\\anaconda3\\Lib\\site-packages\\sklearn\\metrics\\_scorer.py)"
     ]
    }
   ],
   "source": [
    "from pycaret.classification import *\n",
    "import mlflow\n",
    "\n",
    "# Initialisation de l'environnement PyCaret\n",
    "clf = setup(data = donnees, \n",
    "            target = \"beneficiaire_trans_eco\", \n",
    "            session_id=123,   \n",
    "            fix_imbalance=True, \n",
    "            fix_imbalance_method='smote') # fix_imbalance_method='smote' pour la sur-échantillonnage des données\n"
   ]
  },
  {
   "cell_type": "code",
   "execution_count": null,
   "metadata": {
    "vscode": {
     "languageId": "ruby"
    }
   },
   "outputs": [],
   "source": [
    "best_model = compare_models()# Comparaison des modèles"
   ]
  },
  {
   "cell_type": "markdown",
   "metadata": {},
   "source": [
    "## I.3. Sélection du meilleur modèle"
   ]
  }
 ],
 "metadata": {
  "kernelspec": {
   "display_name": "Python 3",
   "language": "python",
   "name": "python3"
  },
  "language_info": {
   "codemirror_mode": {
    "name": "ipython",
    "version": 3
   },
   "file_extension": ".py",
   "mimetype": "text/x-python",
   "name": "python",
   "nbconvert_exporter": "python",
   "pygments_lexer": "ipython3",
   "version": "3.11.5"
  }
 },
 "nbformat": 4,
 "nbformat_minor": 2
}
