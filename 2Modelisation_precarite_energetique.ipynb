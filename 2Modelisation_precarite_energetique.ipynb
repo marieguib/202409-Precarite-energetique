{
 "cells": [
  {
   "cell_type": "markdown",
   "metadata": {},
   "source": [
    "# I. Modélisation statistique"
   ]
  },
  {
   "cell_type": "code",
   "execution_count": 101,
   "metadata": {},
   "outputs": [
    {
     "name": "stdout",
     "output_type": "stream",
     "text": [
      "Requirement already satisfied: s3fs in c:\\users\\asus\\anaconda3\\lib\\site-packages (2023.4.0)\n",
      "Requirement already satisfied: aiobotocore~=2.5.0 in c:\\users\\asus\\anaconda3\\lib\\site-packages (from s3fs) (2.5.0)\n",
      "Requirement already satisfied: fsspec==2023.4.0 in c:\\users\\asus\\anaconda3\\lib\\site-packages (from s3fs) (2023.4.0)\n",
      "Requirement already satisfied: aiohttp!=4.0.0a0,!=4.0.0a1 in c:\\users\\asus\\anaconda3\\lib\\site-packages (from s3fs) (3.8.5)\n",
      "Requirement already satisfied: botocore<1.29.77,>=1.29.76 in c:\\users\\asus\\anaconda3\\lib\\site-packages (from aiobotocore~=2.5.0->s3fs) (1.29.76)\n",
      "Requirement already satisfied: wrapt>=1.10.10 in c:\\users\\asus\\anaconda3\\lib\\site-packages (from aiobotocore~=2.5.0->s3fs) (1.14.1)\n",
      "Requirement already satisfied: aioitertools>=0.5.1 in c:\\users\\asus\\anaconda3\\lib\\site-packages (from aiobotocore~=2.5.0->s3fs) (0.7.1)\n",
      "Requirement already satisfied: attrs>=17.3.0 in c:\\users\\asus\\anaconda3\\lib\\site-packages (from aiohttp!=4.0.0a0,!=4.0.0a1->s3fs) (22.1.0)\n",
      "Requirement already satisfied: charset-normalizer<4.0,>=2.0 in c:\\users\\asus\\anaconda3\\lib\\site-packages (from aiohttp!=4.0.0a0,!=4.0.0a1->s3fs) (2.0.4)\n",
      "Requirement already satisfied: multidict<7.0,>=4.5 in c:\\users\\asus\\anaconda3\\lib\\site-packages (from aiohttp!=4.0.0a0,!=4.0.0a1->s3fs) (6.0.2)\n",
      "Requirement already satisfied: async-timeout<5.0,>=4.0.0a3 in c:\\users\\asus\\anaconda3\\lib\\site-packages (from aiohttp!=4.0.0a0,!=4.0.0a1->s3fs) (4.0.2)\n",
      "Requirement already satisfied: yarl<2.0,>=1.0 in c:\\users\\asus\\anaconda3\\lib\\site-packages (from aiohttp!=4.0.0a0,!=4.0.0a1->s3fs) (1.8.1)\n",
      "Requirement already satisfied: frozenlist>=1.1.1 in c:\\users\\asus\\anaconda3\\lib\\site-packages (from aiohttp!=4.0.0a0,!=4.0.0a1->s3fs) (1.3.3)\n",
      "Requirement already satisfied: aiosignal>=1.1.2 in c:\\users\\asus\\anaconda3\\lib\\site-packages (from aiohttp!=4.0.0a0,!=4.0.0a1->s3fs) (1.2.0)\n",
      "Requirement already satisfied: typing_extensions>=3.7 in c:\\users\\asus\\anaconda3\\lib\\site-packages (from aioitertools>=0.5.1->aiobotocore~=2.5.0->s3fs) (4.7.1)\n",
      "Requirement already satisfied: jmespath<2.0.0,>=0.7.1 in c:\\users\\asus\\anaconda3\\lib\\site-packages (from botocore<1.29.77,>=1.29.76->aiobotocore~=2.5.0->s3fs) (0.10.0)\n",
      "Requirement already satisfied: python-dateutil<3.0.0,>=2.1 in c:\\users\\asus\\appdata\\roaming\\python\\python311\\site-packages (from botocore<1.29.77,>=1.29.76->aiobotocore~=2.5.0->s3fs) (2.8.2)\n",
      "Requirement already satisfied: urllib3<1.27,>=1.25.4 in c:\\users\\asus\\anaconda3\\lib\\site-packages (from botocore<1.29.77,>=1.29.76->aiobotocore~=2.5.0->s3fs) (1.26.16)\n",
      "Requirement already satisfied: idna>=2.0 in c:\\users\\asus\\anaconda3\\lib\\site-packages (from yarl<2.0,>=1.0->aiohttp!=4.0.0a0,!=4.0.0a1->s3fs) (3.4)\n",
      "Requirement already satisfied: six>=1.5 in c:\\users\\asus\\appdata\\roaming\\python\\python311\\site-packages (from python-dateutil<3.0.0,>=2.1->botocore<1.29.77,>=1.29.76->aiobotocore~=2.5.0->s3fs) (1.16.0)\n",
      "Requirement already satisfied: pandas in c:\\users\\asus\\anaconda3\\lib\\site-packages (2.0.3)\n",
      "Requirement already satisfied: python-dateutil>=2.8.2 in c:\\users\\asus\\appdata\\roaming\\python\\python311\\site-packages (from pandas) (2.8.2)\n",
      "Requirement already satisfied: pytz>=2020.1 in c:\\users\\asus\\anaconda3\\lib\\site-packages (from pandas) (2023.3.post1)\n",
      "Requirement already satisfied: tzdata>=2022.1 in c:\\users\\asus\\anaconda3\\lib\\site-packages (from pandas) (2023.3)\n",
      "Requirement already satisfied: numpy>=1.21.0 in c:\\users\\asus\\anaconda3\\lib\\site-packages (from pandas) (1.24.3)\n",
      "Requirement already satisfied: six>=1.5 in c:\\users\\asus\\appdata\\roaming\\python\\python311\\site-packages (from python-dateutil>=2.8.2->pandas) (1.16.0)\n",
      "Requirement already satisfied: scikit-learn==1.2.2 in c:\\users\\asus\\anaconda3\\lib\\site-packages (1.2.2)\n",
      "Requirement already satisfied: numpy>=1.17.3 in c:\\users\\asus\\anaconda3\\lib\\site-packages (from scikit-learn==1.2.2) (1.24.3)\n",
      "Requirement already satisfied: scipy>=1.3.2 in c:\\users\\asus\\anaconda3\\lib\\site-packages (from scikit-learn==1.2.2) (1.11.1)\n",
      "Requirement already satisfied: joblib>=1.1.1 in c:\\users\\asus\\anaconda3\\lib\\site-packages (from scikit-learn==1.2.2) (1.2.0)\n",
      "Requirement already satisfied: threadpoolctl>=2.0.0 in c:\\users\\asus\\anaconda3\\lib\\site-packages (from scikit-learn==1.2.2) (2.2.0)\n",
      "Requirement already satisfied: imbalanced-learn in c:\\users\\asus\\anaconda3\\lib\\site-packages (0.10.1)\n",
      "Requirement already satisfied: numpy>=1.17.3 in c:\\users\\asus\\anaconda3\\lib\\site-packages (from imbalanced-learn) (1.24.3)\n",
      "Requirement already satisfied: scipy>=1.3.2 in c:\\users\\asus\\anaconda3\\lib\\site-packages (from imbalanced-learn) (1.11.1)\n",
      "Requirement already satisfied: scikit-learn>=1.0.2 in c:\\users\\asus\\anaconda3\\lib\\site-packages (from imbalanced-learn) (1.2.2)\n",
      "Requirement already satisfied: joblib>=1.1.1 in c:\\users\\asus\\anaconda3\\lib\\site-packages (from imbalanced-learn) (1.2.0)\n",
      "Requirement already satisfied: threadpoolctl>=2.0.0 in c:\\users\\asus\\anaconda3\\lib\\site-packages (from imbalanced-learn) (2.2.0)\n"
     ]
    }
   ],
   "source": [
    "!pip install s3fs\n",
    "!pip install pandas\n",
    "!pip install scikit-learn==1.2.2\n",
    "!pip install imbalanced-learn"
   ]
  },
  {
   "cell_type": "code",
   "execution_count": 102,
   "metadata": {},
   "outputs": [
    {
     "name": "stdout",
     "output_type": "stream",
     "text": [
      "Requirement already satisfied: matplotlib in c:\\users\\asus\\anaconda3\\lib\\site-packages (3.7.2)\n",
      "Requirement already satisfied: contourpy>=1.0.1 in c:\\users\\asus\\anaconda3\\lib\\site-packages (from matplotlib) (1.0.5)\n",
      "Requirement already satisfied: cycler>=0.10 in c:\\users\\asus\\anaconda3\\lib\\site-packages (from matplotlib) (0.11.0)\n",
      "Requirement already satisfied: fonttools>=4.22.0 in c:\\users\\asus\\anaconda3\\lib\\site-packages (from matplotlib) (4.25.0)\n",
      "Requirement already satisfied: kiwisolver>=1.0.1 in c:\\users\\asus\\anaconda3\\lib\\site-packages (from matplotlib) (1.4.4)\n",
      "Requirement already satisfied: numpy>=1.20 in c:\\users\\asus\\anaconda3\\lib\\site-packages (from matplotlib) (1.24.3)\n",
      "Requirement already satisfied: packaging>=20.0 in c:\\users\\asus\\appdata\\roaming\\python\\python311\\site-packages (from matplotlib) (23.2)\n",
      "Requirement already satisfied: pillow>=6.2.0 in c:\\users\\asus\\anaconda3\\lib\\site-packages (from matplotlib) (10.0.1)\n",
      "Requirement already satisfied: pyparsing<3.1,>=2.3.1 in c:\\users\\asus\\anaconda3\\lib\\site-packages (from matplotlib) (3.0.9)\n",
      "Requirement already satisfied: python-dateutil>=2.7 in c:\\users\\asus\\appdata\\roaming\\python\\python311\\site-packages (from matplotlib) (2.8.2)\n",
      "Requirement already satisfied: six>=1.5 in c:\\users\\asus\\appdata\\roaming\\python\\python311\\site-packages (from python-dateutil>=2.7->matplotlib) (1.16.0)\n"
     ]
    }
   ],
   "source": [
    "!pip install matplotlib"
   ]
  },
  {
   "cell_type": "markdown",
   "metadata": {},
   "source": [
    "## I.1. Chargement et préparation des données"
   ]
  },
  {
   "cell_type": "markdown",
   "metadata": {},
   "source": [
    "### Importation des données"
   ]
  },
  {
   "cell_type": "code",
   "execution_count": 103,
   "metadata": {},
   "outputs": [
    {
     "data": {
      "text/html": [
       "<div>\n",
       "<style scoped>\n",
       "    .dataframe tbody tr th:only-of-type {\n",
       "        vertical-align: middle;\n",
       "    }\n",
       "\n",
       "    .dataframe tbody tr th {\n",
       "        vertical-align: top;\n",
       "    }\n",
       "\n",
       "    .dataframe thead th {\n",
       "        text-align: right;\n",
       "    }\n",
       "</style>\n",
       "<table border=\"1\" class=\"dataframe\">\n",
       "  <thead>\n",
       "    <tr style=\"text-align: right;\">\n",
       "      <th></th>\n",
       "      <th>beneficiaire_trans_eco</th>\n",
       "      <th>moyenne_conso_agri</th>\n",
       "      <th>moyenne_conso_indus</th>\n",
       "      <th>moyenne_conso_tertiaire</th>\n",
       "      <th>moyenne_conso_residentiel</th>\n",
       "      <th>moyenne_conso_totale</th>\n",
       "      <th>emissions_ges</th>\n",
       "      <th>nb_actes_france_renov</th>\n",
       "      <th>friche</th>\n",
       "      <th>ecoquartiers</th>\n",
       "      <th>...</th>\n",
       "      <th>CSP_maire</th>\n",
       "      <th>com_variation_encours_dette_ha_pct</th>\n",
       "      <th>nb_inactifs</th>\n",
       "      <th>nb_actifs</th>\n",
       "      <th>dependance_eco</th>\n",
       "      <th>abstention_municipales</th>\n",
       "      <th>taux_creation_ent</th>\n",
       "      <th>total_entreprises</th>\n",
       "      <th>nb_licencies_sportifs</th>\n",
       "      <th>part_jeunes_sans_diplome</th>\n",
       "    </tr>\n",
       "    <tr>\n",
       "      <th>code_insee</th>\n",
       "      <th></th>\n",
       "      <th></th>\n",
       "      <th></th>\n",
       "      <th></th>\n",
       "      <th></th>\n",
       "      <th></th>\n",
       "      <th></th>\n",
       "      <th></th>\n",
       "      <th></th>\n",
       "      <th></th>\n",
       "      <th></th>\n",
       "      <th></th>\n",
       "      <th></th>\n",
       "      <th></th>\n",
       "      <th></th>\n",
       "      <th></th>\n",
       "      <th></th>\n",
       "      <th></th>\n",
       "      <th></th>\n",
       "      <th></th>\n",
       "      <th></th>\n",
       "    </tr>\n",
       "  </thead>\n",
       "  <tbody>\n",
       "    <tr>\n",
       "      <th>22001</th>\n",
       "      <td>0</td>\n",
       "      <td>2.994071</td>\n",
       "      <td>0.000503</td>\n",
       "      <td>0.631181</td>\n",
       "      <td>3.688905</td>\n",
       "      <td>7.378017</td>\n",
       "      <td>24.951342</td>\n",
       "      <td>86</td>\n",
       "      <td>2</td>\n",
       "      <td>0</td>\n",
       "      <td>...</td>\n",
       "      <td>12</td>\n",
       "      <td>18.9</td>\n",
       "      <td>0.127517</td>\n",
       "      <td>0.471477</td>\n",
       "      <td>107</td>\n",
       "      <td>17.4</td>\n",
       "      <td>15.0</td>\n",
       "      <td>20</td>\n",
       "      <td>0.238255</td>\n",
       "      <td>9.1</td>\n",
       "    </tr>\n",
       "    <tr>\n",
       "      <th>22002</th>\n",
       "      <td>0</td>\n",
       "      <td>1.283886</td>\n",
       "      <td>0.032120</td>\n",
       "      <td>0.173206</td>\n",
       "      <td>3.248865</td>\n",
       "      <td>4.775226</td>\n",
       "      <td>7.509582</td>\n",
       "      <td>35</td>\n",
       "      <td>0</td>\n",
       "      <td>0</td>\n",
       "      <td>...</td>\n",
       "      <td>54</td>\n",
       "      <td>-39.3</td>\n",
       "      <td>0.110627</td>\n",
       "      <td>0.505226</td>\n",
       "      <td>96</td>\n",
       "      <td>53.8</td>\n",
       "      <td>12.1</td>\n",
       "      <td>33</td>\n",
       "      <td>0.308362</td>\n",
       "      <td>4.0</td>\n",
       "    </tr>\n",
       "    <tr>\n",
       "      <th>22003</th>\n",
       "      <td>0</td>\n",
       "      <td>0.000000</td>\n",
       "      <td>0.000000</td>\n",
       "      <td>0.524098</td>\n",
       "      <td>2.908468</td>\n",
       "      <td>3.472740</td>\n",
       "      <td>3.291304</td>\n",
       "      <td>43</td>\n",
       "      <td>0</td>\n",
       "      <td>0</td>\n",
       "      <td>...</td>\n",
       "      <td>56</td>\n",
       "      <td>99.8</td>\n",
       "      <td>0.142391</td>\n",
       "      <td>0.488043</td>\n",
       "      <td>113</td>\n",
       "      <td>53.7</td>\n",
       "      <td>36.7</td>\n",
       "      <td>30</td>\n",
       "      <td>0.357609</td>\n",
       "      <td>0.0</td>\n",
       "    </tr>\n",
       "    <tr>\n",
       "      <th>22004</th>\n",
       "      <td>0</td>\n",
       "      <td>0.200325</td>\n",
       "      <td>0.675332</td>\n",
       "      <td>1.267791</td>\n",
       "      <td>3.034877</td>\n",
       "      <td>5.203150</td>\n",
       "      <td>6.056133</td>\n",
       "      <td>46</td>\n",
       "      <td>6</td>\n",
       "      <td>0</td>\n",
       "      <td>...</td>\n",
       "      <td>33</td>\n",
       "      <td>-34.1</td>\n",
       "      <td>0.172349</td>\n",
       "      <td>0.405405</td>\n",
       "      <td>126</td>\n",
       "      <td>44.8</td>\n",
       "      <td>12.6</td>\n",
       "      <td>238</td>\n",
       "      <td>0.242827</td>\n",
       "      <td>12.4</td>\n",
       "    </tr>\n",
       "    <tr>\n",
       "      <th>22005</th>\n",
       "      <td>0</td>\n",
       "      <td>0.121358</td>\n",
       "      <td>0.082905</td>\n",
       "      <td>1.151104</td>\n",
       "      <td>3.532942</td>\n",
       "      <td>4.926877</td>\n",
       "      <td>4.019436</td>\n",
       "      <td>10</td>\n",
       "      <td>3</td>\n",
       "      <td>0</td>\n",
       "      <td>...</td>\n",
       "      <td>77</td>\n",
       "      <td>-14.5</td>\n",
       "      <td>0.141885</td>\n",
       "      <td>0.423712</td>\n",
       "      <td>140</td>\n",
       "      <td>22.9</td>\n",
       "      <td>18.8</td>\n",
       "      <td>64</td>\n",
       "      <td>0.278912</td>\n",
       "      <td>2.6</td>\n",
       "    </tr>\n",
       "  </tbody>\n",
       "</table>\n",
       "<p>5 rows × 30 columns</p>\n",
       "</div>"
      ],
      "text/plain": [
       "            beneficiaire_trans_eco  moyenne_conso_agri  moyenne_conso_indus  \\\n",
       "code_insee                                                                    \n",
       "22001                            0            2.994071             0.000503   \n",
       "22002                            0            1.283886             0.032120   \n",
       "22003                            0            0.000000             0.000000   \n",
       "22004                            0            0.200325             0.675332   \n",
       "22005                            0            0.121358             0.082905   \n",
       "\n",
       "            moyenne_conso_tertiaire  moyenne_conso_residentiel  \\\n",
       "code_insee                                                       \n",
       "22001                      0.631181                   3.688905   \n",
       "22002                      0.173206                   3.248865   \n",
       "22003                      0.524098                   2.908468   \n",
       "22004                      1.267791                   3.034877   \n",
       "22005                      1.151104                   3.532942   \n",
       "\n",
       "            moyenne_conso_totale  emissions_ges  nb_actes_france_renov  \\\n",
       "code_insee                                                               \n",
       "22001                   7.378017      24.951342                     86   \n",
       "22002                   4.775226       7.509582                     35   \n",
       "22003                   3.472740       3.291304                     43   \n",
       "22004                   5.203150       6.056133                     46   \n",
       "22005                   4.926877       4.019436                     10   \n",
       "\n",
       "            friche  ecoquartiers  ...  CSP_maire  \\\n",
       "code_insee                        ...              \n",
       "22001            2             0  ...         12   \n",
       "22002            0             0  ...         54   \n",
       "22003            0             0  ...         56   \n",
       "22004            6             0  ...         33   \n",
       "22005            3             0  ...         77   \n",
       "\n",
       "            com_variation_encours_dette_ha_pct  nb_inactifs  nb_actifs  \\\n",
       "code_insee                                                               \n",
       "22001                                     18.9     0.127517   0.471477   \n",
       "22002                                    -39.3     0.110627   0.505226   \n",
       "22003                                     99.8     0.142391   0.488043   \n",
       "22004                                    -34.1     0.172349   0.405405   \n",
       "22005                                    -14.5     0.141885   0.423712   \n",
       "\n",
       "            dependance_eco  abstention_municipales  taux_creation_ent  \\\n",
       "code_insee                                                              \n",
       "22001                  107                    17.4               15.0   \n",
       "22002                   96                    53.8               12.1   \n",
       "22003                  113                    53.7               36.7   \n",
       "22004                  126                    44.8               12.6   \n",
       "22005                  140                    22.9               18.8   \n",
       "\n",
       "            total_entreprises  nb_licencies_sportifs  part_jeunes_sans_diplome  \n",
       "code_insee                                                                      \n",
       "22001                      20               0.238255                       9.1  \n",
       "22002                      33               0.308362                       4.0  \n",
       "22003                      30               0.357609                       0.0  \n",
       "22004                     238               0.242827                      12.4  \n",
       "22005                      64               0.278912                       2.6  \n",
       "\n",
       "[5 rows x 30 columns]"
      ]
     },
     "execution_count": 103,
     "metadata": {},
     "output_type": "execute_result"
    }
   ],
   "source": [
    "import pandas as pd\n",
    "\n",
    "# Importation des données avec code_insee en index\n",
    "donnees = pd.read_csv(\"bdd_finale.csv\", sep=',', encoding='utf-8', index_col=0)\n",
    "donnees.head()"
   ]
  },
  {
   "cell_type": "code",
   "execution_count": 104,
   "metadata": {},
   "outputs": [],
   "source": [
    "# Définir X et y pour avoir les variables explicatives et la variable à expliquer beneficiaire_trans_eco\n",
    "X = donnees.drop(columns=['beneficiaire_trans_eco'])\n",
    "\n",
    "# Variable à expliquer : beneficiaire_trans_eco\n",
    "y = donnees[\"beneficiaire_trans_eco\"]"
   ]
  },
  {
   "cell_type": "code",
   "execution_count": 105,
   "metadata": {},
   "outputs": [],
   "source": [
    "import numpy as np\n",
    "\n",
    "# Convertir les listes en tableaux numpy\n",
    "X = np.array(X)\n",
    "y = np.array(y)"
   ]
  },
  {
   "cell_type": "code",
   "execution_count": 106,
   "metadata": {},
   "outputs": [
    {
     "name": "stdout",
     "output_type": "stream",
     "text": [
      "Dimensions de X: (1189, 29)\n",
      "Dimensions de y: (1189,)\n"
     ]
    }
   ],
   "source": [
    "print(\"Dimensions de X:\", X.shape)\n",
    "print(\"Dimensions de y:\", y.shape)"
   ]
  },
  {
   "cell_type": "code",
   "execution_count": 107,
   "metadata": {},
   "outputs": [
    {
     "data": {
      "text/plain": [
       "array([0, 1], dtype=int64)"
      ]
     },
     "execution_count": 107,
     "metadata": {},
     "output_type": "execute_result"
    }
   ],
   "source": [
    "np.unique(y)"
   ]
  },
  {
   "cell_type": "markdown",
   "metadata": {},
   "source": [
    "### Formatage des données"
   ]
  },
  {
   "cell_type": "markdown",
   "metadata": {},
   "source": [
    "Nous allons pouvoir observer le type des données que nous avons. Cela va nous permettre de déterminer si on a besoin de modifier certaines variables pour qu'elles soient bien en variables catégorielles. "
   ]
  },
  {
   "cell_type": "code",
   "execution_count": 108,
   "metadata": {},
   "outputs": [
    {
     "data": {
      "text/plain": [
       "beneficiaire_trans_eco                  int64\n",
       "moyenne_conso_agri                    float64\n",
       "moyenne_conso_indus                   float64\n",
       "moyenne_conso_tertiaire               float64\n",
       "moyenne_conso_residentiel             float64\n",
       "moyenne_conso_totale                  float64\n",
       "emissions_ges                         float64\n",
       "nb_actes_france_renov                   int64\n",
       "friche                                  int64\n",
       "ecoquartiers                            int64\n",
       "nb_residences_secondaires               int64\n",
       "beneficiaire_prog                       int64\n",
       "climat                                  int64\n",
       "gridens7                                int64\n",
       "superf_choro                          float64\n",
       "departement                             int64\n",
       "gare_tgv                                int64\n",
       "part_trajets_voiture                  float64\n",
       "med_disp                                int64\n",
       "p_pop                                   int64\n",
       "CSP_maire                               int64\n",
       "com_variation_encours_dette_ha_pct    float64\n",
       "nb_inactifs                           float64\n",
       "nb_actifs                             float64\n",
       "dependance_eco                          int64\n",
       "abstention_municipales                float64\n",
       "taux_creation_ent                     float64\n",
       "total_entreprises                       int64\n",
       "nb_licencies_sportifs                 float64\n",
       "part_jeunes_sans_diplome              float64\n",
       "dtype: object"
      ]
     },
     "execution_count": 108,
     "metadata": {},
     "output_type": "execute_result"
    }
   ],
   "source": [
    "donnees.dtypes"
   ]
  },
  {
   "cell_type": "code",
   "execution_count": 109,
   "metadata": {},
   "outputs": [],
   "source": [
    "# Conversion des variables en variables catégorielles\n",
    "donnees[\"beneficiaire_trans_eco\"] = donnees[\"beneficiaire_trans_eco\"].astype('category')\n",
    "donnees[\"friche\"] = donnees[\"friche\"].astype('category')\n",
    "donnees[\"ecoquartiers\"] = donnees[\"ecoquartiers\"].astype('category')\n",
    "donnees[\"beneficiaire_prog\"] = donnees[\"beneficiaire_prog\"].astype('category')\n",
    "donnees[\"climat\"] = donnees[\"climat\"].astype('category')\n",
    "donnees[\"gridens7\"] = donnees[\"gridens7\"].astype('category')\n",
    "donnees[\"departement\"] = donnees[\"departement\"].astype('category')\n",
    "donnees[\"gare_tgv\"] = donnees[\"gare_tgv\"].astype('category')\n",
    "donnees[\"CSP_maire\"] = donnees[\"CSP_maire\"].astype('category')"
   ]
  },
  {
   "cell_type": "code",
   "execution_count": 110,
   "metadata": {},
   "outputs": [
    {
     "data": {
      "text/plain": [
       "beneficiaire_trans_eco                category\n",
       "moyenne_conso_agri                     float64\n",
       "moyenne_conso_indus                    float64\n",
       "moyenne_conso_tertiaire                float64\n",
       "moyenne_conso_residentiel              float64\n",
       "moyenne_conso_totale                   float64\n",
       "emissions_ges                          float64\n",
       "nb_actes_france_renov                    int64\n",
       "friche                                category\n",
       "ecoquartiers                          category\n",
       "nb_residences_secondaires                int64\n",
       "beneficiaire_prog                     category\n",
       "climat                                category\n",
       "gridens7                              category\n",
       "superf_choro                           float64\n",
       "departement                           category\n",
       "gare_tgv                              category\n",
       "part_trajets_voiture                   float64\n",
       "med_disp                                 int64\n",
       "p_pop                                    int64\n",
       "CSP_maire                             category\n",
       "com_variation_encours_dette_ha_pct     float64\n",
       "nb_inactifs                            float64\n",
       "nb_actifs                              float64\n",
       "dependance_eco                           int64\n",
       "abstention_municipales                 float64\n",
       "taux_creation_ent                      float64\n",
       "total_entreprises                        int64\n",
       "nb_licencies_sportifs                  float64\n",
       "part_jeunes_sans_diplome               float64\n",
       "dtype: object"
      ]
     },
     "execution_count": 110,
     "metadata": {},
     "output_type": "execute_result"
    }
   ],
   "source": [
    "donnees.dtypes"
   ]
  },
  {
   "cell_type": "markdown",
   "metadata": {},
   "source": [
    "Nous allons observer si on a des données manquantes dans notre jeu de données."
   ]
  },
  {
   "cell_type": "code",
   "execution_count": 111,
   "metadata": {},
   "outputs": [
    {
     "data": {
      "text/plain": [
       "beneficiaire_trans_eco                0\n",
       "moyenne_conso_agri                    0\n",
       "moyenne_conso_indus                   0\n",
       "moyenne_conso_tertiaire               0\n",
       "moyenne_conso_residentiel             0\n",
       "moyenne_conso_totale                  0\n",
       "emissions_ges                         0\n",
       "nb_actes_france_renov                 0\n",
       "friche                                0\n",
       "ecoquartiers                          0\n",
       "nb_residences_secondaires             0\n",
       "beneficiaire_prog                     0\n",
       "climat                                0\n",
       "gridens7                              0\n",
       "superf_choro                          0\n",
       "departement                           0\n",
       "gare_tgv                              0\n",
       "part_trajets_voiture                  0\n",
       "med_disp                              0\n",
       "p_pop                                 0\n",
       "CSP_maire                             0\n",
       "com_variation_encours_dette_ha_pct    0\n",
       "nb_inactifs                           0\n",
       "nb_actifs                             0\n",
       "dependance_eco                        0\n",
       "abstention_municipales                0\n",
       "taux_creation_ent                     0\n",
       "total_entreprises                     0\n",
       "nb_licencies_sportifs                 0\n",
       "part_jeunes_sans_diplome              0\n",
       "dtype: int64"
      ]
     },
     "execution_count": 111,
     "metadata": {},
     "output_type": "execute_result"
    }
   ],
   "source": [
    "donnees.isna().sum()"
   ]
  },
  {
   "cell_type": "markdown",
   "metadata": {},
   "source": [
    "## I.2. Modélisation"
   ]
  },
  {
   "cell_type": "markdown",
   "metadata": {},
   "source": [
    "### I.2.1. Régression logistique "
   ]
  },
  {
   "cell_type": "markdown",
   "metadata": {},
   "source": [
    "#### A) Construction du modèle et prévisions"
   ]
  },
  {
   "cell_type": "markdown",
   "metadata": {},
   "source": [
    "Nous allons d'abord diviser notre jeu de données en jeux d'apprentissage et de test."
   ]
  },
  {
   "cell_type": "code",
   "execution_count": 112,
   "metadata": {},
   "outputs": [],
   "source": [
    "from sklearn.model_selection import train_test_split\n",
    "\n",
    "X_train, X_test, y_train, y_test = train_test_split(X, y, random_state=0) # random_state=0 pour avoir le même mélange de données à chaque fois"
   ]
  },
  {
   "cell_type": "code",
   "execution_count": 113,
   "metadata": {},
   "outputs": [
    {
     "data": {
      "text/plain": [
       "((891, 29), (891,))"
      ]
     },
     "execution_count": 113,
     "metadata": {},
     "output_type": "execute_result"
    }
   ],
   "source": [
    "X_train.shape, y_train.shape"
   ]
  },
  {
   "cell_type": "code",
   "execution_count": 114,
   "metadata": {},
   "outputs": [
    {
     "data": {
      "text/plain": [
       "((298, 29), (298,))"
      ]
     },
     "execution_count": 114,
     "metadata": {},
     "output_type": "execute_result"
    }
   ],
   "source": [
    "X_test.shape, y_test.shape"
   ]
  },
  {
   "cell_type": "markdown",
   "metadata": {},
   "source": [
    "Nous allons maintenant définir notre modèle de régression logistique"
   ]
  },
  {
   "cell_type": "code",
   "execution_count": 139,
   "metadata": {},
   "outputs": [],
   "source": [
    "from imblearn.pipeline import Pipeline\n",
    "from sklearn.linear_model import LogisticRegression\n",
    "from sklearn.preprocessing import StandardScaler\n",
    "from imblearn.over_sampling import RandomOverSampler\n",
    "from imblearn.over_sampling import SMOTE\n",
    "\n",
    "etapes = [('std_scaler', StandardScaler()), # Standardisation des variables\n",
    "        ('oversampler', RandomOverSampler()), # Sur-échantillonnage\n",
    "        ('reg_log', LogisticRegression()), # Régression logistique\n",
    "        ]\n",
    "\n",
    "etapes_smote = [('std_scaler', StandardScaler()), # Standardisation des variables\n",
    "        ('smote', SMOTE()), # Sur-échantillonnage\n",
    "        ('reg_log', LogisticRegression()), # Régression logistique\n",
    "        ]\n",
    "modele_reg_log  = Pipeline(steps=etapes_smote) # Création du pipeline"
   ]
  },
  {
   "cell_type": "markdown",
   "metadata": {},
   "source": [
    "On entraîne le modèle sur les données"
   ]
  },
  {
   "cell_type": "code",
   "execution_count": 140,
   "metadata": {},
   "outputs": [
    {
     "data": {
      "text/html": [
       "<style>#sk-container-id-8 {color: black;background-color: white;}#sk-container-id-8 pre{padding: 0;}#sk-container-id-8 div.sk-toggleable {background-color: white;}#sk-container-id-8 label.sk-toggleable__label {cursor: pointer;display: block;width: 100%;margin-bottom: 0;padding: 0.3em;box-sizing: border-box;text-align: center;}#sk-container-id-8 label.sk-toggleable__label-arrow:before {content: \"▸\";float: left;margin-right: 0.25em;color: #696969;}#sk-container-id-8 label.sk-toggleable__label-arrow:hover:before {color: black;}#sk-container-id-8 div.sk-estimator:hover label.sk-toggleable__label-arrow:before {color: black;}#sk-container-id-8 div.sk-toggleable__content {max-height: 0;max-width: 0;overflow: hidden;text-align: left;background-color: #f0f8ff;}#sk-container-id-8 div.sk-toggleable__content pre {margin: 0.2em;color: black;border-radius: 0.25em;background-color: #f0f8ff;}#sk-container-id-8 input.sk-toggleable__control:checked~div.sk-toggleable__content {max-height: 200px;max-width: 100%;overflow: auto;}#sk-container-id-8 input.sk-toggleable__control:checked~label.sk-toggleable__label-arrow:before {content: \"▾\";}#sk-container-id-8 div.sk-estimator input.sk-toggleable__control:checked~label.sk-toggleable__label {background-color: #d4ebff;}#sk-container-id-8 div.sk-label input.sk-toggleable__control:checked~label.sk-toggleable__label {background-color: #d4ebff;}#sk-container-id-8 input.sk-hidden--visually {border: 0;clip: rect(1px 1px 1px 1px);clip: rect(1px, 1px, 1px, 1px);height: 1px;margin: -1px;overflow: hidden;padding: 0;position: absolute;width: 1px;}#sk-container-id-8 div.sk-estimator {font-family: monospace;background-color: #f0f8ff;border: 1px dotted black;border-radius: 0.25em;box-sizing: border-box;margin-bottom: 0.5em;}#sk-container-id-8 div.sk-estimator:hover {background-color: #d4ebff;}#sk-container-id-8 div.sk-parallel-item::after {content: \"\";width: 100%;border-bottom: 1px solid gray;flex-grow: 1;}#sk-container-id-8 div.sk-label:hover label.sk-toggleable__label {background-color: #d4ebff;}#sk-container-id-8 div.sk-serial::before {content: \"\";position: absolute;border-left: 1px solid gray;box-sizing: border-box;top: 0;bottom: 0;left: 50%;z-index: 0;}#sk-container-id-8 div.sk-serial {display: flex;flex-direction: column;align-items: center;background-color: white;padding-right: 0.2em;padding-left: 0.2em;position: relative;}#sk-container-id-8 div.sk-item {position: relative;z-index: 1;}#sk-container-id-8 div.sk-parallel {display: flex;align-items: stretch;justify-content: center;background-color: white;position: relative;}#sk-container-id-8 div.sk-item::before, #sk-container-id-8 div.sk-parallel-item::before {content: \"\";position: absolute;border-left: 1px solid gray;box-sizing: border-box;top: 0;bottom: 0;left: 50%;z-index: -1;}#sk-container-id-8 div.sk-parallel-item {display: flex;flex-direction: column;z-index: 1;position: relative;background-color: white;}#sk-container-id-8 div.sk-parallel-item:first-child::after {align-self: flex-end;width: 50%;}#sk-container-id-8 div.sk-parallel-item:last-child::after {align-self: flex-start;width: 50%;}#sk-container-id-8 div.sk-parallel-item:only-child::after {width: 0;}#sk-container-id-8 div.sk-dashed-wrapped {border: 1px dashed gray;margin: 0 0.4em 0.5em 0.4em;box-sizing: border-box;padding-bottom: 0.4em;background-color: white;}#sk-container-id-8 div.sk-label label {font-family: monospace;font-weight: bold;display: inline-block;line-height: 1.2em;}#sk-container-id-8 div.sk-label-container {text-align: center;}#sk-container-id-8 div.sk-container {/* jupyter's `normalize.less` sets `[hidden] { display: none; }` but bootstrap.min.css set `[hidden] { display: none !important; }` so we also need the `!important` here to be able to override the default hidden behavior on the sphinx rendered scikit-learn.org. See: https://github.com/scikit-learn/scikit-learn/issues/21755 */display: inline-block !important;position: relative;}#sk-container-id-8 div.sk-text-repr-fallback {display: none;}</style><div id=\"sk-container-id-8\" class=\"sk-top-container\"><div class=\"sk-text-repr-fallback\"><pre>Pipeline(steps=[(&#x27;std_scaler&#x27;, StandardScaler()), (&#x27;oversampler&#x27;, SMOTE()),\n",
       "                (&#x27;reg_log&#x27;, LogisticRegression())])</pre><b>In a Jupyter environment, please rerun this cell to show the HTML representation or trust the notebook. <br />On GitHub, the HTML representation is unable to render, please try loading this page with nbviewer.org.</b></div><div class=\"sk-container\" hidden><div class=\"sk-item sk-dashed-wrapped\"><div class=\"sk-label-container\"><div class=\"sk-label sk-toggleable\"><input class=\"sk-toggleable__control sk-hidden--visually\" id=\"sk-estimator-id-29\" type=\"checkbox\" ><label for=\"sk-estimator-id-29\" class=\"sk-toggleable__label sk-toggleable__label-arrow\">Pipeline</label><div class=\"sk-toggleable__content\"><pre>Pipeline(steps=[(&#x27;std_scaler&#x27;, StandardScaler()), (&#x27;oversampler&#x27;, SMOTE()),\n",
       "                (&#x27;reg_log&#x27;, LogisticRegression())])</pre></div></div></div><div class=\"sk-serial\"><div class=\"sk-item\"><div class=\"sk-estimator sk-toggleable\"><input class=\"sk-toggleable__control sk-hidden--visually\" id=\"sk-estimator-id-30\" type=\"checkbox\" ><label for=\"sk-estimator-id-30\" class=\"sk-toggleable__label sk-toggleable__label-arrow\">StandardScaler</label><div class=\"sk-toggleable__content\"><pre>StandardScaler()</pre></div></div></div><div class=\"sk-item\"><div class=\"sk-estimator sk-toggleable\"><input class=\"sk-toggleable__control sk-hidden--visually\" id=\"sk-estimator-id-31\" type=\"checkbox\" ><label for=\"sk-estimator-id-31\" class=\"sk-toggleable__label sk-toggleable__label-arrow\">SMOTE</label><div class=\"sk-toggleable__content\"><pre>SMOTE()</pre></div></div></div><div class=\"sk-item\"><div class=\"sk-estimator sk-toggleable\"><input class=\"sk-toggleable__control sk-hidden--visually\" id=\"sk-estimator-id-32\" type=\"checkbox\" ><label for=\"sk-estimator-id-32\" class=\"sk-toggleable__label sk-toggleable__label-arrow\">LogisticRegression</label><div class=\"sk-toggleable__content\"><pre>LogisticRegression()</pre></div></div></div></div></div></div></div>"
      ],
      "text/plain": [
       "Pipeline(steps=[('std_scaler', StandardScaler()), ('oversampler', SMOTE()),\n",
       "                ('reg_log', LogisticRegression())])"
      ]
     },
     "execution_count": 140,
     "metadata": {},
     "output_type": "execute_result"
    }
   ],
   "source": [
    "modele_reg_log.fit(X_train, y_train)"
   ]
  },
  {
   "cell_type": "markdown",
   "metadata": {},
   "source": [
    "On cherche à prédire de nouvelles données grâce aux données test"
   ]
  },
  {
   "cell_type": "code",
   "execution_count": 141,
   "metadata": {},
   "outputs": [],
   "source": [
    "y_pred_reg_log = modele_reg_log.predict(X_test)"
   ]
  },
  {
   "cell_type": "markdown",
   "metadata": {},
   "source": [
    "#### B) Mesure de la performance"
   ]
  },
  {
   "cell_type": "markdown",
   "metadata": {},
   "source": [
    "Nous allons maintenant évaluer la performance de notre modèle"
   ]
  },
  {
   "cell_type": "code",
   "execution_count": 142,
   "metadata": {},
   "outputs": [
    {
     "name": "stdout",
     "output_type": "stream",
     "text": [
      "Le score du modèle est :  0.6342281879194631\n"
     ]
    }
   ],
   "source": [
    "score_reg_log = modele_reg_log.score(X_test, y_test)\n",
    "print(\"Le score du modèle est : \", score_reg_log)"
   ]
  },
  {
   "cell_type": "code",
   "execution_count": 143,
   "metadata": {},
   "outputs": [
    {
     "name": "stdout",
     "output_type": "stream",
     "text": [
      "L'accuracy est de :  0.6342281879194631\n"
     ]
    }
   ],
   "source": [
    "# Calcul de l'accuracy\n",
    "from sklearn.metrics import accuracy_score\n",
    "\n",
    "accuracy_reg_log = accuracy_score(y_test, y_pred_reg_log)\n",
    "print(\"L'accuracy est de : \", accuracy_reg_log)"
   ]
  },
  {
   "cell_type": "markdown",
   "metadata": {},
   "source": [
    "Nous allons construire la matrice de confusion pour avoir plus de précisions : "
   ]
  },
  {
   "cell_type": "code",
   "execution_count": 144,
   "metadata": {},
   "outputs": [
    {
     "name": "stdout",
     "output_type": "stream",
     "text": [
      "La matrice de confusion est : \n",
      " [[152  92]\n",
      " [ 17  37]]\n"
     ]
    }
   ],
   "source": [
    "# Calcul de la matrice de confusion\n",
    "from sklearn.metrics import confusion_matrix\n",
    "\n",
    "mat_conf_reg_log = confusion_matrix(y_test, y_pred_reg_log)\n",
    "print(\"La matrice de confusion est : \\n\", mat_conf_reg_log)\n"
   ]
  },
  {
   "cell_type": "code",
   "execution_count": 145,
   "metadata": {},
   "outputs": [
    {
     "data": {
      "text/plain": [
       "Text(0.5, 427.9555555555555, 'valeur prédite')"
      ]
     },
     "execution_count": 145,
     "metadata": {},
     "output_type": "execute_result"
    },
    {
     "data": {
      "image/png": "[encoded data removed]",
      "text/plain": [
       "<Figure size 640x480 with 2 Axes>"
      ]
     },
     "metadata": {},
     "output_type": "display_data"
    }
   ],
   "source": [
    "import numpy as np\n",
    "import matplotlib.pyplot as plt\n",
    "import seaborn as sns\n",
    "\n",
    "modalites =[0,1] \n",
    "fig, ax = plt.subplots()\n",
    "tick_marks = np.arange(len(modalites))\n",
    "plt.xticks(tick_marks, modalites)\n",
    "plt.yticks(tick_marks, modalites)\n",
    "\n",
    "sns.heatmap(pd.DataFrame(mat_conf_reg_log), annot=True, cmap=\"YlGnBu\" ,fmt='g')\n",
    "ax.xaxis.set_label_position(\"top\")\n",
    "plt.tight_layout()\n",
    "plt.title('Matrice de confusion', y=1.1)\n",
    "plt.ylabel('Valeur observée')\n",
    "plt.xlabel('valeur prédite')"
   ]
  },
  {
   "cell_type": "markdown",
   "metadata": {},
   "source": [
    "Nous allons maintenant tracer la courbe ROC"
   ]
  },
  {
   "cell_type": "code",
   "execution_count": 146,
   "metadata": {},
   "outputs": [
    {
     "data": {
      "image/png": "[encoded data removed]",
      "text/plain": [
       "<Figure size 1000x600 with 1 Axes>"
      ]
     },
     "metadata": {},
     "output_type": "display_data"
    }
   ],
   "source": [
    "import matplotlib.pyplot as plt\n",
    "from sklearn.metrics import roc_curve, auc\n",
    "\n",
    "y_pred_prob_reg_log = modele_reg_log.predict_proba(X_test)[:, 1] # probabilité que la classe soit 1\n",
    "fpr, tpr, thresholds = roc_curve(y_test, y_pred_prob_reg_log) # calcul des taux de faux positifs et vrais positifs\n",
    "roc_auc = auc(fpr, tpr) # calcul de l'aire sous la courbe ROC\n",
    "\n",
    "# Tracé de la courbe ROC\n",
    "plt.figure(figsize=(10, 6))\n",
    "plt.plot(fpr, tpr, label='Courbe ROC (AUC = %0.2f)' % roc_auc)\n",
    "plt.plot([0, 1], [0, 1], 'k--') # ligne en pointillés représentant la performance d'un classificateur aléatoire\n",
    "plt.xlim([0.0, 1.0])\n",
    "plt.ylim([0.0, 1.05])\n",
    "plt.xlabel(\"Taux de faux positif (1 - spécificité)\")\n",
    "plt.ylabel('Taux de vrai positif (sensibilité)')\n",
    "plt.title('Courbe ROC')\n",
    "plt.legend(loc=\"lower right\")\n",
    "plt.show()"
   ]
  },
  {
   "cell_type": "markdown",
   "metadata": {},
   "source": [
    "Nous allons maintenant calculer un score"
   ]
  },
  {
   "cell_type": "code",
   "execution_count": 147,
   "metadata": {},
   "outputs": [
    {
     "data": {
      "text/plain": [
       "0.6678051001821493"
      ]
     },
     "execution_count": 147,
     "metadata": {},
     "output_type": "execute_result"
    }
   ],
   "source": [
    "# Calcul du score AUC\n",
    "\n",
    "from sklearn.metrics import roc_auc_score\n",
    "\n",
    "score_auc_reg_log = roc_auc_score(y_test, y_pred_prob_reg_log)\n",
    "score_auc_reg_log"
   ]
  },
  {
   "cell_type": "code",
   "execution_count": 148,
   "metadata": {},
   "outputs": [
    {
     "name": "stdout",
     "output_type": "stream",
     "text": [
      "Precision: 0.2868217054263566\n"
     ]
    }
   ],
   "source": [
    "# Calcul de la précision\n",
    "\n",
    "from sklearn.metrics import precision_score\n",
    "\n",
    "precision_reg_log = precision_score(y_test, y_pred_reg_log)\n",
    "print(\"Precision:\", precision_reg_log)"
   ]
  },
  {
   "cell_type": "code",
   "execution_count": 149,
   "metadata": {},
   "outputs": [
    {
     "name": "stdout",
     "output_type": "stream",
     "text": [
      "Recall: 0.6851851851851852\n"
     ]
    }
   ],
   "source": [
    "from sklearn.metrics import recall_score\n",
    "\n",
    "recall_reg_log = recall_score(y_test, y_pred_reg_log)\n",
    "print(\"Recall:\", recall_reg_log)"
   ]
  },
  {
   "cell_type": "code",
   "execution_count": 150,
   "metadata": {},
   "outputs": [
    {
     "name": "stdout",
     "output_type": "stream",
     "text": [
      "F1-Score: 0.40437158469945356\n"
     ]
    }
   ],
   "source": [
    "from sklearn.metrics import f1_score\n",
    "\n",
    "# Calculate and print F1-score\n",
    "f1_reg_log = f1_score(y_test, y_pred_reg_log)\n",
    "print(\"F1-Score:\", f1_reg_log)"
   ]
  },
  {
   "cell_type": "markdown",
   "metadata": {},
   "source": [
    "Nous allons faire un résumé des métriques pour ce modèle : "
   ]
  },
  {
   "cell_type": "code",
   "execution_count": 151,
   "metadata": {},
   "outputs": [
    {
     "name": "stdout",
     "output_type": "stream",
     "text": [
      "Modèle de régression logistique \n",
      "\n",
      "Score AUC: 0.6678051001821493\n",
      "F1-Score: 0.40437158469945356\n"
     ]
    }
   ],
   "source": [
    "# Résumé du modèle de régression logistique\n",
    "\n",
    "print(\"Modèle de régression logistique \\n\")\n",
    "#print(\"L'accuracy est de : \", accuracy_reg_log) # pas utile pour les données déséquilibrées\n",
    "#print(\"Score du modèle:\", score_reg_log) # pas utile pour les données déséquilibrées\n",
    "print(\"Score AUC:\", score_auc_reg_log) \n",
    "#print(\"Precision:\", precision_reg_log) # on affiche déjà le F1-score\n",
    "#print(\"Recall:\", recall_reg_log) # on affiche déjà le F1-score\n",
    "print(\"F1-Score:\", f1_reg_log)"
   ]
  },
  {
   "cell_type": "markdown",
   "metadata": {},
   "source": [
    "### I.2.3. Forêts Aléatoires "
   ]
  },
  {
   "cell_type": "markdown",
   "metadata": {},
   "source": [
    "#### A) Construction du modèle"
   ]
  },
  {
   "cell_type": "code",
   "execution_count": 152,
   "metadata": {},
   "outputs": [
    {
     "data": {
      "text/html": [
       "<style>#sk-container-id-9 {color: black;background-color: white;}#sk-container-id-9 pre{padding: 0;}#sk-container-id-9 div.sk-toggleable {background-color: white;}#sk-container-id-9 label.sk-toggleable__label {cursor: pointer;display: block;width: 100%;margin-bottom: 0;padding: 0.3em;box-sizing: border-box;text-align: center;}#sk-container-id-9 label.sk-toggleable__label-arrow:before {content: \"▸\";float: left;margin-right: 0.25em;color: #696969;}#sk-container-id-9 label.sk-toggleable__label-arrow:hover:before {color: black;}#sk-container-id-9 div.sk-estimator:hover label.sk-toggleable__label-arrow:before {color: black;}#sk-container-id-9 div.sk-toggleable__content {max-height: 0;max-width: 0;overflow: hidden;text-align: left;background-color: #f0f8ff;}#sk-container-id-9 div.sk-toggleable__content pre {margin: 0.2em;color: black;border-radius: 0.25em;background-color: #f0f8ff;}#sk-container-id-9 input.sk-toggleable__control:checked~div.sk-toggleable__content {max-height: 200px;max-width: 100%;overflow: auto;}#sk-container-id-9 input.sk-toggleable__control:checked~label.sk-toggleable__label-arrow:before {content: \"▾\";}#sk-container-id-9 div.sk-estimator input.sk-toggleable__control:checked~label.sk-toggleable__label {background-color: #d4ebff;}#sk-container-id-9 div.sk-label input.sk-toggleable__control:checked~label.sk-toggleable__label {background-color: #d4ebff;}#sk-container-id-9 input.sk-hidden--visually {border: 0;clip: rect(1px 1px 1px 1px);clip: rect(1px, 1px, 1px, 1px);height: 1px;margin: -1px;overflow: hidden;padding: 0;position: absolute;width: 1px;}#sk-container-id-9 div.sk-estimator {font-family: monospace;background-color: #f0f8ff;border: 1px dotted black;border-radius: 0.25em;box-sizing: border-box;margin-bottom: 0.5em;}#sk-container-id-9 div.sk-estimator:hover {background-color: #d4ebff;}#sk-container-id-9 div.sk-parallel-item::after {content: \"\";width: 100%;border-bottom: 1px solid gray;flex-grow: 1;}#sk-container-id-9 div.sk-label:hover label.sk-toggleable__label {background-color: #d4ebff;}#sk-container-id-9 div.sk-serial::before {content: \"\";position: absolute;border-left: 1px solid gray;box-sizing: border-box;top: 0;bottom: 0;left: 50%;z-index: 0;}#sk-container-id-9 div.sk-serial {display: flex;flex-direction: column;align-items: center;background-color: white;padding-right: 0.2em;padding-left: 0.2em;position: relative;}#sk-container-id-9 div.sk-item {position: relative;z-index: 1;}#sk-container-id-9 div.sk-parallel {display: flex;align-items: stretch;justify-content: center;background-color: white;position: relative;}#sk-container-id-9 div.sk-item::before, #sk-container-id-9 div.sk-parallel-item::before {content: \"\";position: absolute;border-left: 1px solid gray;box-sizing: border-box;top: 0;bottom: 0;left: 50%;z-index: -1;}#sk-container-id-9 div.sk-parallel-item {display: flex;flex-direction: column;z-index: 1;position: relative;background-color: white;}#sk-container-id-9 div.sk-parallel-item:first-child::after {align-self: flex-end;width: 50%;}#sk-container-id-9 div.sk-parallel-item:last-child::after {align-self: flex-start;width: 50%;}#sk-container-id-9 div.sk-parallel-item:only-child::after {width: 0;}#sk-container-id-9 div.sk-dashed-wrapped {border: 1px dashed gray;margin: 0 0.4em 0.5em 0.4em;box-sizing: border-box;padding-bottom: 0.4em;background-color: white;}#sk-container-id-9 div.sk-label label {font-family: monospace;font-weight: bold;display: inline-block;line-height: 1.2em;}#sk-container-id-9 div.sk-label-container {text-align: center;}#sk-container-id-9 div.sk-container {/* jupyter's `normalize.less` sets `[hidden] { display: none; }` but bootstrap.min.css set `[hidden] { display: none !important; }` so we also need the `!important` here to be able to override the default hidden behavior on the sphinx rendered scikit-learn.org. See: https://github.com/scikit-learn/scikit-learn/issues/21755 */display: inline-block !important;position: relative;}#sk-container-id-9 div.sk-text-repr-fallback {display: none;}</style><div id=\"sk-container-id-9\" class=\"sk-top-container\"><div class=\"sk-text-repr-fallback\"><pre>Pipeline(steps=[(&#x27;std_scaler&#x27;, StandardScaler()), (&#x27;smote&#x27;, SMOTE()),\n",
       "                (&#x27;clf_forets&#x27;, RandomForestClassifier())])</pre><b>In a Jupyter environment, please rerun this cell to show the HTML representation or trust the notebook. <br />On GitHub, the HTML representation is unable to render, please try loading this page with nbviewer.org.</b></div><div class=\"sk-container\" hidden><div class=\"sk-item sk-dashed-wrapped\"><div class=\"sk-label-container\"><div class=\"sk-label sk-toggleable\"><input class=\"sk-toggleable__control sk-hidden--visually\" id=\"sk-estimator-id-33\" type=\"checkbox\" ><label for=\"sk-estimator-id-33\" class=\"sk-toggleable__label sk-toggleable__label-arrow\">Pipeline</label><div class=\"sk-toggleable__content\"><pre>Pipeline(steps=[(&#x27;std_scaler&#x27;, StandardScaler()), (&#x27;smote&#x27;, SMOTE()),\n",
       "                (&#x27;clf_forets&#x27;, RandomForestClassifier())])</pre></div></div></div><div class=\"sk-serial\"><div class=\"sk-item\"><div class=\"sk-estimator sk-toggleable\"><input class=\"sk-toggleable__control sk-hidden--visually\" id=\"sk-estimator-id-34\" type=\"checkbox\" ><label for=\"sk-estimator-id-34\" class=\"sk-toggleable__label sk-toggleable__label-arrow\">StandardScaler</label><div class=\"sk-toggleable__content\"><pre>StandardScaler()</pre></div></div></div><div class=\"sk-item\"><div class=\"sk-estimator sk-toggleable\"><input class=\"sk-toggleable__control sk-hidden--visually\" id=\"sk-estimator-id-35\" type=\"checkbox\" ><label for=\"sk-estimator-id-35\" class=\"sk-toggleable__label sk-toggleable__label-arrow\">SMOTE</label><div class=\"sk-toggleable__content\"><pre>SMOTE()</pre></div></div></div><div class=\"sk-item\"><div class=\"sk-estimator sk-toggleable\"><input class=\"sk-toggleable__control sk-hidden--visually\" id=\"sk-estimator-id-36\" type=\"checkbox\" ><label for=\"sk-estimator-id-36\" class=\"sk-toggleable__label sk-toggleable__label-arrow\">RandomForestClassifier</label><div class=\"sk-toggleable__content\"><pre>RandomForestClassifier()</pre></div></div></div></div></div></div></div>"
      ],
      "text/plain": [
       "Pipeline(steps=[('std_scaler', StandardScaler()), ('smote', SMOTE()),\n",
       "                ('clf_forets', RandomForestClassifier())])"
      ]
     },
     "execution_count": 152,
     "metadata": {},
     "output_type": "execute_result"
    }
   ],
   "source": [
    "from sklearn.ensemble import RandomForestClassifier\n",
    "from imblearn.pipeline import Pipeline\n",
    "\n",
    "etapes = ([\n",
    "    (\"std_scaler\", StandardScaler()),\n",
    "    (\"undersampler\", RandomOverSampler()),\n",
    "    (\"clf_forets\", RandomForestClassifier())\n",
    "])\n",
    "\n",
    "etapes_smote = [('std_scaler', StandardScaler()), # Standardisation des variables\n",
    "        ('smote', SMOTE()), # Sur-échantillonnage\n",
    "        ('clf_forets', RandomForestClassifier()), # Forets alétaoires \n",
    "        ]\n",
    "\n",
    "model_random_forest = Pipeline(steps=etapes_smote)\n",
    "\n",
    "model_random_forest.fit(X_train, y_train)"
   ]
  },
  {
   "cell_type": "code",
   "execution_count": 153,
   "metadata": {},
   "outputs": [],
   "source": [
    "y_pred_random_forest = model_random_forest.predict(X_test)"
   ]
  },
  {
   "cell_type": "markdown",
   "metadata": {},
   "source": [
    "#### B) Mesure de la performance"
   ]
  },
  {
   "cell_type": "code",
   "execution_count": 154,
   "metadata": {},
   "outputs": [
    {
     "name": "stdout",
     "output_type": "stream",
     "text": [
      "Le score du modèle est :  0.7718120805369127\n"
     ]
    }
   ],
   "source": [
    "score_random_forest = model_random_forest.score(X_test, y_test)\n",
    "print(\"Le score du modèle est : \", score_random_forest)"
   ]
  },
  {
   "cell_type": "code",
   "execution_count": 155,
   "metadata": {},
   "outputs": [
    {
     "name": "stdout",
     "output_type": "stream",
     "text": [
      "La matrice de confusion est : \n",
      " [[152  92]\n",
      " [ 17  37]]\n"
     ]
    }
   ],
   "source": [
    "# Calcul de la matrice de confusion\n",
    "from sklearn.metrics import confusion_matrix\n",
    "\n",
    "mat_conf_random_forest = confusion_matrix(y_test, y_pred_reg_log)\n",
    "print(\"La matrice de confusion est : \\n\", mat_conf_random_forest)"
   ]
  },
  {
   "cell_type": "code",
   "execution_count": 156,
   "metadata": {},
   "outputs": [
    {
     "data": {
      "text/plain": [
       "Text(0.5, 427.9555555555555, 'valeur prédite')"
      ]
     },
     "execution_count": 156,
     "metadata": {},
     "output_type": "execute_result"
    },
    {
     "data": {
      "image/png": "[encoded data removed]",
      "text/plain": [
       "<Figure size 640x480 with 2 Axes>"
      ]
     },
     "metadata": {},
     "output_type": "display_data"
    }
   ],
   "source": [
    "import numpy as np\n",
    "import matplotlib.pyplot as plt\n",
    "import seaborn as sns\n",
    "\n",
    "modalites =[0,1] \n",
    "fig, ax = plt.subplots()\n",
    "tick_marks = np.arange(len(modalites))\n",
    "plt.xticks(tick_marks, modalites)\n",
    "plt.yticks(tick_marks, modalites)\n",
    "\n",
    "sns.heatmap(pd.DataFrame(mat_conf_random_forest), annot=True, cmap=\"YlGnBu\" ,fmt='g')\n",
    "ax.xaxis.set_label_position(\"top\")\n",
    "plt.tight_layout()\n",
    "plt.title('Matrice de confusion', y=1.1)\n",
    "plt.ylabel('Valeur observée')\n",
    "plt.xlabel('valeur prédite')"
   ]
  },
  {
   "cell_type": "code",
   "execution_count": 157,
   "metadata": {},
   "outputs": [
    {
     "data": {
      "image/png": "[encoded data removed]",
      "text/plain": [
       "<Figure size 1000x600 with 1 Axes>"
      ]
     },
     "metadata": {},
     "output_type": "display_data"
    }
   ],
   "source": [
    "import matplotlib.pyplot as plt\n",
    "from sklearn.metrics import roc_curve, auc\n",
    "\n",
    "y_pred_prob_random_forest = model_random_forest.predict_proba(X_test)[:, 1] # probabilité que la classe soit 1\n",
    "fpr, tpr, thresholds = roc_curve(y_test, y_pred_prob_random_forest) # calcul des taux de faux positifs et vrais positifs\n",
    "roc_auc = auc(fpr, tpr) # calcul de l'aire sous la courbe ROC\n",
    "\n",
    "# Tracé de la courbe ROC\n",
    "plt.figure(figsize=(10, 6))\n",
    "plt.plot(fpr, tpr, label='Courbe ROC (AUC = %0.2f)' % roc_auc)\n",
    "plt.plot([0, 1], [0, 1], 'k--') # ligne en pointillés représentant la performance d'un classificateur aléatoire\n",
    "plt.xlim([0.0, 1.0])\n",
    "plt.ylim([0.0, 1.05])\n",
    "plt.xlabel(\"Taux de faux positif (1 - spécificité)\")\n",
    "plt.ylabel('Taux de vrai positif (sensibilité)')\n",
    "plt.title('Courbe ROC')\n",
    "plt.legend(loc=\"lower right\")\n",
    "plt.show()"
   ]
  },
  {
   "cell_type": "code",
   "execution_count": 158,
   "metadata": {},
   "outputs": [
    {
     "data": {
      "text/plain": [
       "0.6658318154219793"
      ]
     },
     "execution_count": 158,
     "metadata": {},
     "output_type": "execute_result"
    }
   ],
   "source": [
    "# Calcul du score AUC\n",
    "\n",
    "from sklearn.metrics import roc_auc_score\n",
    "\n",
    "score_auc_random_forest = roc_auc_score(y_test, y_pred_prob_random_forest)\n",
    "score_auc_random_forest"
   ]
  },
  {
   "cell_type": "code",
   "execution_count": 159,
   "metadata": {},
   "outputs": [
    {
     "name": "stdout",
     "output_type": "stream",
     "text": [
      "Precision: 0.3157894736842105\n"
     ]
    }
   ],
   "source": [
    "# Calcul de la précision\n",
    "\n",
    "from sklearn.metrics import precision_score\n",
    "\n",
    "precision_random_forest = precision_score(y_test, y_pred_random_forest)\n",
    "print(\"Precision:\", precision_random_forest)"
   ]
  },
  {
   "cell_type": "code",
   "execution_count": 160,
   "metadata": {},
   "outputs": [
    {
     "name": "stdout",
     "output_type": "stream",
     "text": [
      "Recall: 0.2222222222222222\n"
     ]
    }
   ],
   "source": [
    "from sklearn.metrics import recall_score\n",
    "\n",
    "recall_random_forest = recall_score(y_test, y_pred_random_forest)\n",
    "print(\"Recall:\", recall_random_forest)"
   ]
  },
  {
   "cell_type": "code",
   "execution_count": 161,
   "metadata": {},
   "outputs": [
    {
     "name": "stdout",
     "output_type": "stream",
     "text": [
      "F1-Score: 0.40437158469945356\n"
     ]
    }
   ],
   "source": [
    "from sklearn.metrics import f1_score\n",
    "\n",
    "# Calculate and print F1-score\n",
    "f1_random_forest = f1_score(y_test, y_pred_random_forest)\n",
    "print(\"F1-Score:\", f1_reg_log)"
   ]
  },
  {
   "cell_type": "code",
   "execution_count": 162,
   "metadata": {},
   "outputs": [
    {
     "name": "stdout",
     "output_type": "stream",
     "text": [
      "Modèle de forêts aléatoires \n",
      "\n",
      "Score AUC: 0.6658318154219793\n",
      "F1-Score: 0.2608695652173913\n"
     ]
    }
   ],
   "source": [
    "# Résumé du modèle de forêts aléatoires\n",
    "\n",
    "print(\"Modèle de forêts aléatoires \\n\")\n",
    "print(\"Score AUC:\", score_auc_random_forest) \n",
    "print(\"F1-Score:\", f1_random_forest)"
   ]
  },
  {
   "cell_type": "markdown",
   "metadata": {},
   "source": [
    "## I.3. Sélection du meilleur modèle"
   ]
  }
 ],
 "metadata": {
  "kernelspec": {
   "display_name": "Python 3",
   "language": "python",
   "name": "python3"
  },
  "language_info": {
   "codemirror_mode": {
    "name": "ipython",
    "version": 3
   },
   "file_extension": ".py",
   "mimetype": "text/x-python",
   "name": "python",
   "nbconvert_exporter": "python",
   "pygments_lexer": "ipython3",
   "version": "3.11.5"
  }
 },
 "nbformat": 4,
 "nbformat_minor": 2
}
